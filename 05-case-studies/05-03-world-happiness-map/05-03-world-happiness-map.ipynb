{
 "cells": [
  {
   "cell_type": "markdown",
   "metadata": {},
   "source": [
    "# World Happiness\n",
    "\n",
    "<span style=\"color:red\">This notebook is a work in progress and not ready to be worked on. </span>\n",
    "\n",
    "The case study is also based on the World Happiness Report, this time constructing a Choropleth Map to present the data.\n",
    "\n",
    "Here is [an example of what your map may look like](https://www.visualcapitalist.com/visualizing-the-happiest-country-on-every-continent/) (minus the annotations)"
   ]
  },
  {
   "cell_type": "code",
   "execution_count": null,
   "metadata": {},
   "outputs": [],
   "source": []
  }
 ],
 "metadata": {
  "kernelspec": {
   "display_name": "Python 3",
   "language": "python",
   "name": "python3"
  },
  "language_info": {
   "codemirror_mode": {
    "name": "ipython",
    "version": 3
   },
   "file_extension": ".py",
   "mimetype": "text/x-python",
   "name": "python",
   "nbconvert_exporter": "python",
   "pygments_lexer": "ipython3",
   "version": "3.7.4"
  }
 },
 "nbformat": 4,
 "nbformat_minor": 2
}
