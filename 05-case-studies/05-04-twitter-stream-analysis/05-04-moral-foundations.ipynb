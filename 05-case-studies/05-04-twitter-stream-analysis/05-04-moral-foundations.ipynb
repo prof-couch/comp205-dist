{
 "cells": [
  {
   "cell_type": "markdown",
   "metadata": {},
   "source": [
    "# Moral Foundations Analysis\n",
    "\n",
    "This case study is an alternate for those students who were unable to get approval from Twitter to be able to access the Twitter API.\n",
    "\n",
    "About 900 tweets are provided for the analysis instead of them being retrieved real-time.\n",
    "\n",
    "## Moral Foundations Theory\n",
    "\n",
    "<img align=\"right\" style=\"padding-left:10px; height: 55%; width: 55%\" src=\"figures/political-camps-moral-foundations.png\" ></a>\n",
    "\n",
    "The second part of this case study is Moral Foundations Theory. Google the phrase or visit [MoralFoundations.org](https://moralfoundations.org/) to learn more about the theory (or watch [Jonathan Haidt's Ted Talk](https://www.ted.com/talks/jonathan_haidt_the_moral_roots_of_liberals_and_conservatives/)).\n",
    "\n",
    "For the purpose of this exercise, you needn't learn much about the theory &mdash; we will be using the Moral Foundations team's list of words that connote different dimensions of morality. \n",
    "\n",
    "* **Care** connotes safety, peace, compassion, etc.\n",
    "* **Harm**, Care's opposite, connotes war, fight, hurt, kill, suffer, etc.\n",
    "\n",
    "In the coding, the above two moral opposites are called 'HarmVirtue' and 'HarmVice' respectively. Similarly for other moral dimensions. The categories and the words that belong to each are available on-line in a [Moral Foundations Dictionary](https://moralfoundations.org/wp-content/uploads/files/downloads/moral%20foundations%20dictionary.dic). The dictionary words often include &ast;s, for example `peace`&ast;, which could be peace, peaceful, peacefully, even peacenik!\n",
    "\n",
    "To retrieve the Moral Foundations Dictionary we shall use the `requests` library, documentation available [here](https://requests.readthedocs.io/en/master/).\n",
    "\n",
    "The tweets are available in `tweets.txt`."
   ]
  },
  {
   "cell_type": "code",
   "execution_count": null,
   "metadata": {},
   "outputs": [],
   "source": [
    "%more tweets.txt"
   ]
  },
  {
   "cell_type": "code",
   "execution_count": null,
   "metadata": {},
   "outputs": [],
   "source": [
    "import requests\n",
    "url = \"https://moralfoundations.org/wp-content/uploads/files/downloads/moral%20foundations%20dictionary.dic\"\n",
    "r = requests.get(url)\n",
    "content = r.text \n",
    "lines = content.split('\\n')\n",
    "groups = {}\n",
    "codes = {}\n",
    "reading_groups = False\n",
    "\n",
    "for line in lines:\n",
    "    line_ = ' '.join(line.split())\n",
    "    if not line_: continue\n",
    "    if line_.startswith('%'):\n",
    "        reading_groups = not reading_groups\n",
    "    else:\n",
    "        line__ = line.split()\n",
    "        if reading_groups:\n",
    "            groups[line__[0]] = line__[1]\n",
    "        else:\n",
    "            codes[line__[0]] = ','.join(line__[1:])\n",
    "# print (groups)\n",
    "# print (codes)"
   ]
  },
  {
   "cell_type": "markdown",
   "metadata": {},
   "source": [
    "### Code Design\n",
    "\n",
    "The obvious design is to create a dictionary that maps each word &rArr; category. Then we could take each word in an incoming tweet and categorize it. _But the &ast;s throw a wrench into this idea!_ How would it categorize \"He came peacefully\" when a dictionary whose key was peace&ast; wouldn't match the word \"peacefully!\"\n",
    "\n",
    "And if a dictionary won't solve the problem, won't looking up each tweet word without the benefit of a dictionary be too slow?\n",
    "\n",
    "Our design will be based on a combination of strategies: using a dictionary with 3-letter keys, and having each key map to a (relatively short) list that could be scanned quickly. For example, one of the longest lists will be \"dis\": [discriminat&ast;, disproportion&ast;, dishonest, dissociate, disloyal&ast;, dissent&ast;, disrespect&ast;, disobe&ast;, dissident, disgust&ast;, disease&ast;]. A particular Python class for this is a `defaultdict`, shown [here by example](https://docs.python.org/3.8/library/collections.html#defaultdict-examples)."
   ]
  },
  {
   "cell_type": "markdown",
   "metadata": {},
   "source": [
    "### TO-DO 1\n",
    "\n",
    "Complete in the <span style=\"color:teal\"> _# Fill in_ </span> regions of the code below so as to initialize a `defaultdict` that looks like this:\n",
    "```\n",
    "defaultdict(<class 'list'>, {'saf': [{'safe*': '01'}], 'pea': [{'peace*': '01'}], 'com': [{'compassion*': '01'}, {'communal': '05'}, {'commune*': '05'}, {'communit*': '05'}, {'communis*': '05'}, {'comrad*': '05'}, {'complian*': '07'}, {'command': '07'}, {'comply': '07'}, {'commendable': '11'}], 'emp': [{'empath*': '01'}], 'sym': [{'sympath*': '01'}], 'car': [{'care': '01'}, {'caring': '01'}], 'pro': [{'protect*': '01'}, {'protest': '08'}, {'profan*': '10'}, {'promiscu*': '10'}, {'prostitut*': '10'}, {'profligate': '10'}, {'proper': '11'}] ... etc ...\n",
    "```"
   ]
  },
  {
   "cell_type": "code",
   "execution_count": null,
   "metadata": {},
   "outputs": [],
   "source": [
    "from collections import defaultdict\n",
    "groups = {}\n",
    "codes = defaultdict(list)\n",
    "reading_groups = False\n",
    "\n",
    "for line in lines:\n",
    "    line_ = ' '.join(line.split())\n",
    "    if not line_: continue\n",
    "    if line_.startswith('%'):\n",
    "        # Fill in \n",
    "    else:\n",
    "        line__ = line.split()\n",
    "        # fill in\n",
    "        else:\n",
    "            '''\n",
    "            We have to iterate through the words in a tweet \n",
    "            To allow for fast lookups, we make a dictionary with 3-letter keys\n",
    "            Ref: https://docs.python.org/3.3/library/collections.html#defaultdict-examples\n",
    "            '''\n",
    "            codes[line__[0][0:3]].append({line__[0]:(','.join(line__[1:]))})\n",
    "print (codes)"
   ]
  },
  {
   "cell_type": "markdown",
   "metadata": {},
   "source": [
    "Verify that the k-v pair \"dis\": [discriminat&ast;, disproportion&ast;, dishonest, dissociate, disloyal&ast;, dissent&ast;, disrespect&ast;, disobe&ast;, dissident, disgust&ast;, disease&ast;] is part of the `defaultdict`"
   ]
  },
  {
   "cell_type": "markdown",
   "metadata": {},
   "source": [
    "## Write a function for finding categories of a word\n",
    "\n",
    "We want a function `find_word_categories(word)` such that the **assert** statements at the end of the next cell all pass."
   ]
  },
  {
   "cell_type": "code",
   "execution_count": null,
   "metadata": {},
   "outputs": [],
   "source": [
    "def find_word_categories(word):\n",
    "    if word[0:3] in codes:\n",
    "        matches = codes[word[0:3]]\n",
    "        for match in matches:\n",
    "            mks = list(match.keys())\n",
    "            for mk in mks:\n",
    "                if mk.endswith('*'):\n",
    "                    prefix = mk[:-1]\n",
    "                    if word[0:(1+len(prefix))] == prefix:\n",
    "                        # print (word, 'matches', mk)\n",
    "                        return match[mk].split(',')\n",
    "                    else:\n",
    "                        # print (word, 'does not match', mk)\n",
    "                        continue\n",
    "                else:\n",
    "                    if word == mk:\n",
    "                        return match[mk].split(',')\n",
    "                    #print (mk)\n",
    "                    #pass\n",
    "    return []\n",
    "\n",
    "assert (find_word_categories('hurt') == ['02'])\n",
    "assert (find_word_categories('tradition') == ['07'])\n",
    "assert (find_word_categories('disease') == ['10'])\n",
    "assert (find_word_categories('@nytnational') == [])\n",
    "assert (find_word_categories('preserve') == ['01', '07', '09'])"
   ]
  },
  {
   "cell_type": "markdown",
   "metadata": {},
   "source": [
    "### `analyze_tweet` function\n",
    "\n",
    "A definition of `analyze_tweet` is provided below, you don't need to change it."
   ]
  },
  {
   "cell_type": "code",
   "execution_count": null,
   "metadata": {},
   "outputs": [],
   "source": [
    "import re\n",
    "\n",
    "twitter_stream_table = str.maketrans(dict.fromkeys((string.punctuation + \"…\").replace('@','')))\n",
    "\n",
    "def analyze_tweet(tweet_text):\n",
    "    text_no_url = re.sub(r'\\shttps?:\\/\\/.*[\\r\\n]*', '', tweet_text, flags=re.MULTILINE)\n",
    "    stripped_text = text_no_url.translate(twitter_stream_table)\n",
    "    tw_words = stripped_text.lower().split(' ')\n",
    "    categories = []\n",
    "    for tw_word in tw_words:\n",
    "        cats = find_word_categories(tw_word)\n",
    "        for cat in cats:\n",
    "            categories.append({groups[cat]: tw_word})\n",
    "    return categories\n",
    "\n",
    "cats = analyze_tweet(\"A tradition can be many things — for some, it's food. For others, it's faith. For many, family. \")\n",
    "assert ({'AuthorityVirtue': 'tradition'} in cats)\n",
    "assert ({'IngroupVirtue': 'family'} in cats)\n",
    "assert (2 == len(cats))\n",
    "cats2 = analyze_tweet(\"Peloton's CEO wouldn't talk about the company's ad fiasco during a speech on Monday, instead discussing Maslow's hi… https://t.co/8foz5Cmig6\")\n",
    "assert (0 == len(cats2))"
   ]
  },
  {
   "cell_type": "markdown",
   "metadata": {},
   "source": [
    "### TO-DO 2 \n",
    "\n",
    "Read the provided tweets in `tweets.txt` and process them through the `analyze_tweet` function, printing only the tweets that mention a moral foundation we recognize. For example, a tweet <span style=\"color:orange\"><em>At least 14 people were shot dead in an attack on a church in eastern Burkina Faso on Sunday morning, the governmen… https://t.co/eKBoPEZZUP</em></span> might be printed along with its analysis: [{'HarmVice': 'attack'}, {'PurityVirtue': 'church'}]. However, the tweet <span style=\"color:orange\"><em>Peloton's CEO wouldn't talk about the company's ad fiasco during a speech on Monday, instead discussing Maslow's hi… https://t.co/8foz5Cmig6</em></span> shouldn't be printed at all. Each printed tweet should appear like so:\n",
    "```\n",
    "-------------tweet-------------\n",
    "At least 14 people were shot dead in an attack on a church in eastern Burkina Faso on Sunday morning, the governmen… https://t.co/eKBoPEZZUP\n",
    "[{'HarmVice': 'attack'}, {'PurityVirtue': 'church'}]\n",
    "```"
   ]
  },
  {
   "cell_type": "markdown",
   "metadata": {},
   "source": [
    "### TO-DO 3\n",
    "\n",
    "Two of the lines in the code above are somewhat mysterious. Please explain what they do.\n",
    "```\n",
    "    text_no_url = re.sub(r'\\shttps?:\\/\\/.*[\\r\\n]*', '', tweet_text, flags=re.MULTILINE)\n",
    "    stripped_text = text_no_url.translate(twitter_stream_table)\n",
    "```"
   ]
  },
  {
   "cell_type": "markdown",
   "metadata": {},
   "source": [
    "## Last Question:\n",
    "\n",
    "In <em>your opinion</em>, how well does the categorization track your sense of the moral values expressed in the tweets? Do you see any blatant biases?\n",
    "\n",
    "_There is no right or wrong answer to this question. Your response will be judged by how well-reasoned it is._"
   ]
  },
  {
   "cell_type": "markdown",
   "metadata": {},
   "source": [
    "## Follow Ups?\n",
    "\n",
    "It would be cool to plot a graph of the (Virtue - Vice) values of the five foundations expressed in these tweets. \n",
    "\n",
    "The New York Times is reputed to be a center-left news source. How do the foundations expressed by this source compared with the foundations expressed by other sources? \n",
    "\n",
    "In case you were wondering, there are [serious objections](https://behavioralscientist.org/whats-wrong-with-moral-foundations-theory-and-how-to-get-moral-psychology-right/) to Moral Foundation Theory; which you may or may not find persuasive."
   ]
  },
  {
   "cell_type": "code",
   "execution_count": null,
   "metadata": {},
   "outputs": [],
   "source": []
  }
 ],
 "metadata": {
  "kernelspec": {
   "display_name": "Python 3",
   "language": "python",
   "name": "python3"
  },
  "language_info": {
   "codemirror_mode": {
    "name": "ipython",
    "version": 3
   },
   "file_extension": ".py",
   "mimetype": "text/x-python",
   "name": "python",
   "nbconvert_exporter": "python",
   "pygments_lexer": "ipython3",
   "version": "3.7.4"
  }
 },
 "nbformat": 4,
 "nbformat_minor": 2
}
