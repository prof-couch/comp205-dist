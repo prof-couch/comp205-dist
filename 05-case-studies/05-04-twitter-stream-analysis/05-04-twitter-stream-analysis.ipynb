{
 "cells": [
  {
   "cell_type": "markdown",
   "metadata": {},
   "source": [
    "# <span style=\"color:blue\">Course Plan 12/02/2019</span>\n",
    "## <span style=\"color:blue\">(Last Updated 12/02/2019)</span>\n",
    "\n",
    "## Updated schedule through the rest of the semester\n",
    "\n",
    "\n",
    "|  Wk   |  M    |  W     | Topic   | Notebooks | Due |\n",
    "| :---: | :---: | :----: | :------ | :----- | :---: |\n",
    "|  8  |  10/21  | 23  | **Numpy:** Data Abstraction, **Numpy:** Multi-dimensional arrays,  | Midterm, 03-01, 03-02 | 10/30 |\n",
    "|  9  |  28  | 30  | **Numpy:** Reading into multi-dimensional arrays, **Pandas:** Dataframes and reading into them;  Merging and matching Dataframes| 03-03, 03-04, 03-05 | 10/30 |\n",
    "|  10  |  11/4  | 6  | **Pandas:** , Series and Views; Wrap Up Unit 3| 03-06, 03-07 | 11/10 |\n",
    "|  11 |  &mdash; | 13   | Classification and Clustering, **Case Study:** Iris Data Set | 04-02, 04-03  | 11/17 |\n",
    "|   |    |    | Notebooks under development&dagger;  | <del>04-04, 04-06, 04-07</del>  |\n",
    "|  12 |  18  | 20  | _k_-means Clustering, **Case Study:** [World Happiness Report](https://worldhappiness.report/ed/2019/), Recommendations  | 04-04, 05-01, 04-05 | 11/24 | \n",
    "|  13 |  25   | &mdash;  | <span style=\"color:blue\"> **Case Study:** Movie Recommendations</span> | 05-02 | 12/01 | \n",
    "|  14 |  12/2 | 4 |  **Case Studies:** World Happiness Map using [Geopandas](http://geopandas.org/) &Dagger;, Twitter Stream Analysis | 05-03, 05-04 | 12/08 |\n",
    "|  16 |  | 12/13 | **(Take Home) Final Exam**  |\n",
    "\n",
    "&dagger; We will not be covering these notebooks this semester. Feel free to peruse them if interested.\n",
    "\n",
    "&Dagger; Installing Geopandas broke my Jupyter environment! We will not be covering Geopandas. Wednesday's class will be used for previewing the final exam. The final will pick from a dataset in the [UCI Machine Learning Repository](https://archive.ics.uci.edu/ml/index.php). If you wish to practice, pick one of those datasets. Many (most?) of them have a \"Papers That Cite This Data Set\" which could serve as example questions. However, some of those analyses can get complex &mdash; if it looks too complex for the final, it probably is!\n"
   ]
  },
  {
   "cell_type": "markdown",
   "metadata": {},
   "source": [
    "# Twitter Stream Analysis\n",
    "\n",
    "<img align=\"right\" style=\"padding-left:10px; height: 50%; width: 50%\" src=\"figures/twitterbirds-980x589.png\" ></a>\n",
    "\n",
    "This case study seeks to read incoming tweets and process them.\n",
    "\n",
    "## Tweepy\n",
    "\n",
    "Modern Data sources typically deliver their data over an API. In this exercise, we will first acquire some tweets and work with them in various ways.\n",
    "\n",
    "We'll be working with [`tweepy`](https://github.com/tweepy/tweepy), an API for acquiring Data from Twitter.The best place to start is the [documentation](http://docs.tweepy.org/en/latest/). Take a look at the Getting Started page.\n",
    "\n",
    "To begin, uncomment the next cell and run it to install `tweepy` using pip. You need only do it once (but doing it more than once won't hurt anything). Run the next cell.\n",
    "\n"
   ]
  },
  {
   "cell_type": "code",
   "execution_count": null,
   "metadata": {},
   "outputs": [],
   "source": [
    "# !pip install tweepy"
   ]
  },
  {
   "cell_type": "markdown",
   "metadata": {},
   "source": [
    "The next step is to obtain Twitter credentials for being able to acccess the API. Visit the [Twitter Developer Site for Apps](https://developer.twitter.com/en/apps)</a> to create a twitter \"application,\" give it a name. Once created, go to the keys and tokens tab and copy-paste the Consumer API keys as well as the Access token & access token secret into the cell below. \n",
    "\n",
    "**Careful!** `consumer_secret` and `access_token_secret` should be protected like passwords because they can be used by the API to _send out tweets or direct messages_ on your behalf. Immediately invalidate the token if you accidentally expose it &mdash; regenerating a new set of token values on the keys and tokens page will invalidate the old one. \n",
    "\n",
    "To protect Twitter credentials from being made public I suggest that you keep the lines of the next cell in a separate file on your laptop. Running the next cell will get the variable `auth` into the IPython environment and you may immediately delete the cell after that!"
   ]
  },
  {
   "cell_type": "code",
   "execution_count": null,
   "metadata": {},
   "outputs": [],
   "source": [
    "consumer_key = '▣▣▣▣▣▣▣▣▣▣▣▣▣▣▣▣▣▣▣▣▣▣▣▣▣'\n",
    "consumer_secret = '▣▣▣▣▣▣▣▣▣▣▣▣▣▣▣▣▣▣▣▣▣▣▣▣▣▣▣▣▣▣▣▣▣▣▣▣▣▣▣▣▣▣▣▣▣▣▣▣▣▣'\n",
    "access_token = '▣▣▣▣▣▣▣▣▣▣▣▣▣▣▣▣▣▣▣▣▣▣▣▣▣▣▣▣▣▣▣▣▣▣▣▣▣▣▣▣▣▣▣▣▣▣▣▣▣▣'\n",
    "access_token_secret = '▣▣▣▣▣▣▣▣▣▣▣▣▣▣▣▣▣▣▣▣▣▣▣▣▣▣▣▣▣▣▣▣▣▣▣▣▣▣▣▣▣▣▣▣▣'\n",
    "\n",
    "# Once auth has been initialized, it is best to delete this cell but keep a copy in a separate file, just in case!\n",
    "auth = tweepy.OAuthHandler(consumer_key, consumer_secret)\n",
    "auth.set_access_token(access_token, access_token_secret)"
   ]
  },
  {
   "cell_type": "markdown",
   "metadata": {},
   "source": [
    "### Errors and Exceptions\n",
    "\n",
    "When dealing with live feeds, the program needs to be able to react to adverse conditions. A [user-defined exception](https://docs.python.org/3.8/tutorial/errors.html#user-defined-exceptions) should be defined for this purpose."
   ]
  },
  {
   "cell_type": "code",
   "execution_count": null,
   "metadata": {},
   "outputs": [],
   "source": [
    "class StreamAnalysisError(Exception):\n",
    "    \"\"\"Base class for exceptions in this module.\"\"\"\n",
    "    pass\n",
    "\n",
    "class TweepyError(StreamAnalysisError):\n",
    "    \"\"\"Exception raised in Tweepy.\n",
    "\n",
    "    Attributes:\n",
    "        expression -- input expression in which the error occurred\n",
    "        message -- explanation of the error\n",
    "    \"\"\"\n",
    "\n",
    "    def __init__(self, expression, message = ''):\n",
    "        self.expression = expression\n",
    "        self.message = message"
   ]
  },
  {
   "cell_type": "code",
   "execution_count": null,
   "metadata": {},
   "outputs": [],
   "source": [
    "import time, string, re\n",
    "from datetime import datetime\n",
    "import tweepy\n",
    "\n",
    "def analyze_tweet(stripped_text):\n",
    "    return []\n",
    "\n",
    "def show_tweet(tweet):\n",
    "    try:\n",
    "        return ' '.join([tweet.created_at.strftime(\"%m/%d/%Y %H:%M:%S\"), \n",
    "                         tweet.user.screen_name, \n",
    "                         tweet.text])\n",
    "    except:\n",
    "        return ''\n",
    "\n",
    "    \n",
    "class TwitterStream:\n",
    "    def __init__(self, auth):\n",
    "        self.api = tweepy.API(auth, wait_on_rate_limit=True, wait_on_rate_limit_notify=True)\n",
    "        # We will use this table to process the tweet text.\n",
    "        # Ref: https://stackoverflow.com/a/34294398/653651 \n",
    "        #      Remove all punctuation marks from a text file\n",
    "        #      Also remove ellipses but don't remove '@'\n",
    "        self.table = str.maketrans(dict.fromkeys((string.punctuation + \"…\").replace('@','')))\n",
    "    \n",
    "    def test(self):\n",
    "        public_tweets = self.api.home_timeline()\n",
    "        for tweet in public_tweets[:1]:\n",
    "            x = show_tweet(tweet)\n",
    "            assert (x) # Unable to get tweets, reason unknown\n",
    "        now = int(datetime.timestamp(datetime.now()))\n",
    "        # when the rate limit will reset\n",
    "        self.tweet_rate_reset = int(self.api.last_response.headers['x-rate-limit-reset'])\n",
    "        self.tweets_remaining = int(self.api.last_response.headers['x-rate-limit-remaining'])\n",
    "        self.tweet_rate_limit = int(self.api.last_response.headers['x-rate-limit-limit'])\n",
    "        \n",
    "    def rate_limit_delay(self):\n",
    "        '''\n",
    "        Status of the API vis-a-vis rate limitation\n",
    "        Based on https://developer.twitter.com/en/docs/basics/rate-limiting\n",
    "        '''\n",
    "        now = int(datetime.timestamp(datetime.now()))\n",
    "\n",
    "        self.tweet_rate_reset = int(self.api.last_response.headers['x-rate-limit-reset'])\n",
    "        self.tweets_remaining = int(self.api.last_response.headers['x-rate-limit-remaining'])\n",
    "        self.tweet_rate_limit = int(self.api.last_response.headers['x-rate-limit-limit'])\n",
    "\n",
    "        diff = now - self.tweet_rate_reset\n",
    "        trigger_after = 1 + reset\n",
    "        if (remaining <= 1):\n",
    "            if now < trigger_after:\n",
    "                print ('pause till', datetime.fromtimestamp(trigger_after).strftime(\"%H:%M:%S\"))\n",
    "                time.sleep (trigger_after - now)\n",
    "        else:\n",
    "            pass\n",
    "            \n",
    "        print ('ready')\n",
    "        return\n",
    "    \n",
    "    def on_rate_limit(self, cursor):\n",
    "        while True:\n",
    "            try:\n",
    "                yield cursor.next()\n",
    "            except tweepy.RateLimitError:\n",
    "                print ('tweepy.RateLimitError')\n",
    "                self.rate_limit_delay()\n",
    "            except StopIteration:\n",
    "                raise TweepyError('Ending tweets')\n",
    "\n",
    "    def get_more_tweets(self, user_id, count = 10, show = False):\n",
    "        # Reference: http://docs.tweepy.org/en/v3.8.0/code_snippet.html#handling-the-rate-limit-using-cursors\n",
    "        tweets_cursor = tweepy.Cursor(self.api.user_timeline, id=user_id) \n",
    "        try:\n",
    "            for tweet in on_rate_limit(tweets_cursor.items(count)):\n",
    "                tweet_text = tweet.text\n",
    "                text_no_url = re.sub(r'\\shttps?:\\/\\/.*[\\r\\n]*', '', tweet_text, flags=re.MULTILINE)\n",
    "                stripped_text = text_no_url.translate(self.table)\n",
    "                if show:\n",
    "                    print (tweet_text)\n",
    "                categories = analyze_tweet(stripped_text)\n",
    "                if show and categories:\n",
    "                    print ('-------------tweet-------------\\n' + tweet_text)\n",
    "                    print (categories)            \n",
    "\n",
    "        except TweepyError as tweepy_error:\n",
    "            now = datetime.now()\n",
    "            print (tweepy_error.expression, 'at', now.strftime(\"%m/%d/%Y %H:%M:%S\"))"
   ]
  },
  {
   "cell_type": "code",
   "execution_count": null,
   "metadata": {},
   "outputs": [],
   "source": [
    "# Uncomment as appropriate\n",
    "\n",
    "# auth = tweepy.OAuthHandler(consumer_key, consumer_secret)\n",
    "# auth.set_access_token(access_token, access_token_secret)\n",
    "# auth = tweepy.OAuthHandler(_creds[\"consumer_key\"], _creds[\"consumer_secret\"])\n",
    "# auth.set_access_token(_creds[\"access_token\"], _creds[\"access_token_secret\"])\n",
    "twitter_stream = TwitterStream(auth)\n",
    "twitter_stream.test()"
   ]
  },
  {
   "cell_type": "markdown",
   "metadata": {},
   "source": [
    "### Obtaining Tweets\n",
    "\n",
    "In the next cell, if everything is working, we should see some tweets!"
   ]
  },
  {
   "cell_type": "code",
   "execution_count": 204,
   "metadata": {},
   "outputs": [
    {
     "name": "stdout",
     "output_type": "stream",
     "text": [
      "New Yorkers preparing to lumber back to work after an extended Thanksgiving weekend are waking up to a city soaked… https://t.co/UvVjkVT080\n",
      "Breaking News: Gov. Steve Bullock of Montana, a Democrat who won 2 terms as governor in a red state, dropped out of… https://t.co/ppQXt3EqPN\n",
      "This is no ordinary airport. It’s Singapore’s Changi: part theme park, part futuristic pleasure dome. And while an… https://t.co/A3fYfeHH9V\n",
      "Many undocumented immigrants in the United States did not cross the southern border. They arrived by plane with vis… https://t.co/cuE8vYcaol\n",
      "The Islamic State's resilience in Afghanistan, even in light of its recent defeats, raises the grim prospect of an… https://t.co/7tUTmb0Gwe\n",
      "In Opinion\n",
      "\n",
      "Natasha Kassam writes, \"It seems clear by now that even Beijing-friendly candidates cannot deliver Taiw… https://t.co/BcQzDEgVL7\n",
      "The craft of building a story on publicly available data was part of journalism in the analog era, but it has come… https://t.co/eSN4mjiSUR\n",
      "Typhoon Kammuri is expected to strike the Philippines as 8,000 athletes from 11 nations gather to attend the Southe… https://t.co/oVD44qTNJU\n",
      "In Opinion\n",
      "\n",
      "Emma Goldberg writes, \"The injustice of somebody murdered while organizing for criminal justice feels i… https://t.co/6EmPcvsrXA\n",
      "A former Irish soldier who converted to Islam, traveled to Syria to join the Islamic State and married a British ji… https://t.co/7ZoJfn0hSc\n",
      "Ending tweets at 12/02/2019 06:38:47\n"
     ]
    }
   ],
   "source": [
    "twitter_stream.get_more_tweets('nytimes', count = 10, show = True)"
   ]
  },
  {
   "cell_type": "markdown",
   "metadata": {},
   "source": [
    "## Moral Foundations Theory\n",
    "\n",
    "<img align=\"right\" style=\"padding-left:10px; height: 55%; width: 55%\" src=\"figures/political-camps-moral-foundations.png\" ></a>\n",
    "\n",
    "The second part of this case study is Moral Foundations Theory. Google the phrase or visit [MoralFoundations.org](https://moralfoundations.org/) to learn more about the theory (or watch [Jonathan Haidt's Ted Talk](https://www.ted.com/talks/jonathan_haidt_the_moral_roots_of_liberals_and_conservatives/)).\n",
    "\n",
    "For the purpose of this exercise, you needn't learn much about the theory &mdash; we will be using the Moral Foundations team's list of words that connote different dimensions of morality. \n",
    "\n",
    "* **Care** connotes safety, peace, compassion, etc.\n",
    "* **Harm**, Care's opposite, connotes war, fight, hurt, kill, suffer, etc.\n",
    "\n",
    "In the coding, the above two moral opposites are called 'HarmVirtue' and 'HarmVice' respectively. Similarly for other moral dimensions. The categories and the words that belong to each are available on-line in a [Moral Foundations Dictionary](https://moralfoundations.org/wp-content/uploads/files/downloads/moral%20foundations%20dictionary.dic). The dictionary words often include &ast;s, for example `peace`&ast;, which could be peace, peaceful, peacefully, even peacenik!\n",
    "\n",
    "To retrieve the Moral Foundations Dictionary we shall use the `requests` library, documentation available [here](https://requests.readthedocs.io/en/master/)."
   ]
  },
  {
   "cell_type": "code",
   "execution_count": null,
   "metadata": {},
   "outputs": [],
   "source": [
    "import requests\n",
    "url = \"https://moralfoundations.org/wp-content/uploads/files/downloads/moral%20foundations%20dictionary.dic\"\n",
    "r = requests.get(url)\n",
    "content = r.text \n",
    "lines = content.split('\\n')\n",
    "groups = {}\n",
    "codes = {}\n",
    "reading_groups = False\n",
    "\n",
    "for line in lines:\n",
    "    line_ = ' '.join(line.split())\n",
    "    if not line_: continue\n",
    "    if line_.startswith('%'):\n",
    "        reading_groups = not reading_groups\n",
    "    else:\n",
    "        line__ = line.split()\n",
    "        if reading_groups:\n",
    "            groups[line__[0]] = line__[1]\n",
    "        else:\n",
    "            codes[line__[0]] = ','.join(line__[1:])\n",
    "# print (groups)\n",
    "\n",
    "# Prints:\n",
    "# {'01': 'HarmVirtue', '02': 'HarmVice', '03': 'FairnessVirtue', '04': 'FairnessVice', \n",
    "#  '05': 'IngroupVirtue', '06': 'IngroupVice', '07': 'AuthorityVirtue', '08': 'AuthorityVice', \n",
    "#  '09': 'PurityVirtue', '10': 'PurityVice', '11': 'MoralityGeneral'}\n",
    "\n",
    "# print (codes)\n",
    "\n",
    "# Partial print of codes:\n",
    "# {'safe*': '01', 'peace*': '01', 'compassion*': '01', 'empath*': '01', 'sympath*': '01', 'care': '01', \n",
    "#  …\n",
    "#  'deserter*': '06,08', \n",
    "#  …\n",
    "#  'transgress*': '11'}"
   ]
  },
  {
   "cell_type": "markdown",
   "metadata": {},
   "source": [
    "### Code Design\n",
    "\n",
    "The obvious design is to create a dictionary that maps each word &rArr; category. Then we could take each word in an incoming tweet and categorize it. _But the &ast;s throw a wrench into this idea!_ How would it categorize \"He came peacefully\" when a dictionary whose key was peace&ast; wouldn't match the word \"peacefully!\"\n",
    "\n",
    "And if a dictionary won't solve the problem, won't looking up each tweet word without the benefit of a dictionary be too slow?\n",
    "\n",
    "Our design will be based on a combination of strategies: using a dictionary with 3-letter keys, and having each key map to a (relatively short) list that could be scanned quickly. For example, one of the longest lists will be \"dis\": [discriminat&ast;, disproportion&ast;, dishonest, dissociate, disloyal&ast;, dissent&ast;, disrespect&ast;, disobe&ast;, dissident, disgust&ast;, disease&ast;]. A particular Python class for this is a `defaultdict`, shown [here by example](https://docs.python.org/3.8/library/collections.html#defaultdict-examples)."
   ]
  },
  {
   "cell_type": "code",
   "execution_count": null,
   "metadata": {},
   "outputs": [],
   "source": [
    "from collections import defaultdict\n",
    "groups = {}\n",
    "codes = defaultdict(list)\n",
    "reading_groups = False\n",
    "\n",
    "for line in lines:\n",
    "    line_ = ' '.join(line.split())\n",
    "    if not line_: continue\n",
    "    if line_.startswith('%'):\n",
    "        # fill in\n",
    "    else:\n",
    "        line__ = line.split()\n",
    "        # fill in\n",
    "        else:\n",
    "            '''\n",
    "            We have to iterate through the words in a tweet \n",
    "            To allow for fast lookups, we make a dictionary with 3-letter keys\n",
    "            Ref: https://docs.python.org/3.3/library/collections.html#defaultdict-examples\n",
    "            '''\n",
    "            codes[line__[0][0:3]].append({line__[0]:(','.join(line__[1:]))})\n",
    "# print (groups)\n",
    "# print (codes)"
   ]
  },
  {
   "cell_type": "markdown",
   "metadata": {},
   "source": [
    "## Write a function for finding categories of a word\n",
    "\n",
    "We want a function `find_word_categories(word)` such that the **assert** statements at the end of the next cell all pass."
   ]
  },
  {
   "cell_type": "code",
   "execution_count": null,
   "metadata": {},
   "outputs": [],
   "source": [
    "def find_word_categories(word):\n",
    "    # fill in\n",
    "    return []\n",
    "\n",
    "assert (find_word_categories('hurt') == ['02'])\n",
    "assert (find_word_categories('tradition') == ['07'])\n",
    "assert (find_word_categories('disease') == ['10'])\n",
    "assert (find_word_categories('@nytnational') == [])\n",
    "assert (find_word_categories('preserve') == ['01', '07', '09'])"
   ]
  },
  {
   "cell_type": "markdown",
   "metadata": {},
   "source": [
    "### A new `analyze_tweet` function\n",
    "\n",
    "Now the `analyze_tweet` function from before can be replaced by the real thing! Changing the definition of a function during the session is a powerful technique, but can result in confusion &mdash; which version of the program is being called at any moment? \n",
    "\n",
    "**The last function definition that was executed by IPython wins!**"
   ]
  },
  {
   "cell_type": "code",
   "execution_count": null,
   "metadata": {},
   "outputs": [],
   "source": [
    "def analyze_tweet(tweet_text):\n",
    "    #print (tweet_text)\n",
    "    text_no_url = re.sub(r'\\shttps?:\\/\\/.*[\\r\\n]*', '', tweet_text, flags=re.MULTILINE)\n",
    "    stripped_text = text_no_url.translate(twitter_stream.table)\n",
    "    tw_words = stripped_text.lower().split(' ')\n",
    "    categories = []\n",
    "    for tw_word in tw_words:\n",
    "        cats = find_word_categories(tw_word)\n",
    "        for cat in cats:\n",
    "            categories.append({groups[cat]: tw_word})\n",
    "    return categories\n",
    "\n",
    "cats = analyze_tweet(\"A tradition can be many things — for some, it's food. For others, it's faith. For many, family. \")\n",
    "assert ({'AuthorityVirtue': 'tradition'} in cats)\n",
    "assert ({'IngroupVirtue': 'family'} in cats)\n",
    "assert (2 == len(cats))"
   ]
  },
  {
   "cell_type": "markdown",
   "metadata": {},
   "source": [
    "## And finally, categorized tweets!\n",
    "\n",
    "In the following, only the tweets that mentioned a moral foundation will be printed."
   ]
  },
  {
   "cell_type": "code",
   "execution_count": 196,
   "metadata": {},
   "outputs": [
    {
     "name": "stdout",
     "output_type": "stream",
     "text": [
      "-------------tweet-------------\n",
      "In Opinion\n",
      "\n",
      "Emma Goldberg writes, \"The injustice of somebody murdered while organizing for criminal justice feels i… https://t.co/6EmPcvsrXA\n",
      "[{'FairnessVirtue': 'justice'}]\n",
      "-------------tweet-------------\n",
      "At least 14 people were shot dead in an attack on a church in eastern Burkina Faso on Sunday morning, the governmen… https://t.co/eKBoPEZZUP\n",
      "[{'HarmVice': 'attack'}, {'PurityVirtue': 'church'}]\n",
      "-------------tweet-------------\n",
      "RT @farnazfassihi: Our exclusive story on the mass killing in Mahshar. Revolutionary Guards forces surrounded, shot and killed 40 to 100 de…\n",
      "[{'HarmVice': 'killing'}, {'HarmVice': 'killed'}]\n",
      "-------------tweet-------------\n",
      "Prince Charles has long pushed for a more streamlined British royal family, with fewer members carrying out officia… https://t.co/5oH3SJ21Es\n",
      "[{'IngroupVirtue': 'family'}]\n",
      "-------------tweet-------------\n",
      "More than 2 years after a car bomb killed Malta’s best-known investigative journalist, prosecutors on Saturday char… https://t.co/z7mbf3h9uy\n",
      "[{'HarmVice': 'killed'}]\n",
      "-------------tweet-------------\n",
      "A Starbucks statement said that the barista “wrote this offensive word,” used “poor judgment” and was ultimately fi… https://t.co/1Z9uHen8oj\n",
      "[{'MoralityGeneral': 'offensive'}]\n",
      "-------------tweet-------------\n",
      "Ali Awow fled civil war at home and spent a year in a refugee camp in Kenya before making his way to Southern Calif… https://t.co/b8U3LLUtg5\n",
      "[{'HarmVice': 'war'}]\n",
      "-------------tweet-------------\n",
      "A dozen family members were returning home from a hunting trip in South Dakota when their small plane, flying in bl… https://t.co/ngBfkfzsyD\n",
      "[{'IngroupVirtue': 'family'}]\n",
      "-------------tweet-------------\n",
      "20 years after the Good Friday Agreement ended the Troubles, Northern Ireland has one of the highest suicide rates… https://t.co/Sz52AXGKO7\n",
      "[{'MoralityGeneral': 'good'}]\n",
      "-------------tweet-------------\n",
      "RT @llerer: Abortion rights are at their weakest point since Roe became law in 1973. @elizabethjdias &amp; I spent three month looking at why t…\n",
      "[{'FairnessVirtue': 'rights'}, {'AuthorityVirtue': 'law'}]\n",
      "-------------tweet-------------\n",
      "A Starbucks statement said that the barista “wrote this offensive word,” used “poor judgment” and was ultimately fi… https://t.co/v8mqYGQ6vJ\n",
      "[{'MoralityGeneral': 'offensive'}]\n",
      "-------------tweet-------------\n",
      "More than 2 years after a car bomb killed Malta’s best-known investigative journalist, prosecutors on Saturday char… https://t.co/EwoOnpfviK\n",
      "[{'HarmVice': 'killed'}]\n",
      "-------------tweet-------------\n",
      "RT @nytopinion: Jack Merritt was stabbed during a terrorist attack near London Bridge on Friday. His father's words remind us to mourn his…\n",
      "[{'HarmVice': 'attack'}]\n",
      "-------------tweet-------------\n",
      "A Hawaii man accused of cyberstalking and tormenting a Utah woman and her father by sending hundreds of food delive… https://t.co/SUkNKLXQTy\n",
      "[{'AuthorityVirtue': 'father'}]\n",
      "-------------tweet-------------\n",
      "Prince Charles has long pushed for a more streamlined British royal family, with fewer members carrying out officia… https://t.co/HrdTPwfBdU\n",
      "[{'IngroupVirtue': 'family'}]\n",
      "-------------tweet-------------\n",
      "RT @elizabethjdias: For the past 3 months, @llerer and I have been reporting on how the left is losing the abortion fight. We found a fragm…\n",
      "[{'HarmVice': 'fight'}]\n",
      "-------------tweet-------------\n",
      "A small plane flying in blizzard-like conditions crashed shortly after takeoff on Saturday in South Dakota, killing… https://t.co/jg14ryxLZ8\n",
      "[{'HarmVice': 'killing'}]\n",
      "-------------tweet-------------\n",
      "Ilyse Hogue, president of the abortion rights organization NARAL Pro-Choice America, said that independent clinics… https://t.co/R26eOhN7B9\n",
      "[{'FairnessVirtue': 'rights'}]\n",
      "-------------tweet-------------\n",
      "As Planned Parenthood and its allies have rallied the resistance, the shift in fortunes in the abortion wars has be… https://t.co/8zz9SpEM36\n",
      "[{'HarmVice': 'wars'}]\n",
      "-------------tweet-------------\n",
      "Abortion rights supporters in the U.S. are grappling with a new reality: Nationwide access to abortion is more vuln… https://t.co/TcthZRl8jV\n",
      "[{'FairnessVirtue': 'rights'}]\n",
      "-------------tweet-------------\n",
      "A tradition can be many things — for some, it's food. For others, it's faith. For many, family. Farah Al Qasimi and… https://t.co/Xs6mcRtWZB\n",
      "[{'AuthorityVirtue': 'tradition'}, {'IngroupVirtue': 'family'}]\n",
      "Ending tweets at 12/02/2019 05:59:24\n"
     ]
    }
   ],
   "source": [
    "twitter_stream.get_more_tweets('nytimes', count = 500, show = False)"
   ]
  },
  {
   "cell_type": "markdown",
   "metadata": {},
   "source": [
    "## Last Question:\n",
    "\n",
    "In <em>your opinion</em>, how well does the categorization track your sense of the moral values expressed in the tweets? Do you see any blatant biases?\n",
    "\n",
    "_There is no right or wrong answer to this question. Your response will be judged by how well-reasoned it is._"
   ]
  },
  {
   "cell_type": "markdown",
   "metadata": {},
   "source": [
    "## Follow Ups?\n",
    "\n",
    "It would be cool to plot a graph of the (Virtue - Vice) values of the five foundations expressed in these tweets. \n",
    "\n",
    "The New York Times is reputed to be a center-left news source. How do the foundations expressed by this source compared with the foundations expressed by other sources? \n",
    "\n",
    "In case you were wondering, there are [some serious objections](https://behavioralscientist.org/whats-wrong-with-moral-foundations-theory-and-how-to-get-moral-psychology-right/) to Moral Foundation Theory; which you may or may not find persuasive."
   ]
  },
  {
   "cell_type": "code",
   "execution_count": null,
   "metadata": {},
   "outputs": [],
   "source": []
  }
 ],
 "metadata": {
  "kernelspec": {
   "display_name": "Python 3",
   "language": "python",
   "name": "python3"
  },
  "language_info": {
   "codemirror_mode": {
    "name": "ipython",
    "version": 3
   },
   "file_extension": ".py",
   "mimetype": "text/x-python",
   "name": "python",
   "nbconvert_exporter": "python",
   "pygments_lexer": "ipython3",
   "version": "3.7.4"
  }
 },
 "nbformat": 4,
 "nbformat_minor": 2
}
