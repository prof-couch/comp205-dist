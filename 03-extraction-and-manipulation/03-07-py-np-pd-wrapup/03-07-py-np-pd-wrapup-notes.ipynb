{
 "cells": [
  {
   "cell_type": "markdown",
   "metadata": {},
   "source": [
    "# <span style=\"color:blue\">Course Plan 11/6/2019</span>\n",
    "## <span style=\"color:blue\">(Updated 11/8/2019)</span>\n",
    "\n",
    "## Updated schedule through the rest of the semester\n",
    "\n",
    "|  Wk   |  M    |  W     | Topic   | Notebooks | Due |\n",
    "| :---: | :---: | :----: | :------ | :----- | :---: |\n",
    "|  8  |  10/21  | 23  | **Numpy:** Data Abstraction, **Numpy:** Multi-dimensional arrays,  | Midterm, 03-01, 03-02 | 10/30 |\n",
    "|  9  |  28  | 30  | **Numpy:** Reading into multi-dimensional arrays, **Pandas:** Dataframes and reading into them;  Merging and matching Dataframes| 03-03, 03-04, 03-05 | 10/30 |\n",
    "|  10  |  11/4  | 6  | **Pandas:** , Series and Views; Wrap Up Unit 3| 03-06, 03-07 | 11/10 |\n",
    "|  11 |  &mdash; | 13   | Classification and Clustering, **Case Study:** Iris Data Set | 04-02, 04-03  | 11/17 |\n",
    "|   |    |    | Notebooks under development&dagger;  | <del>04-04, 04-06, 04-07</del>  |\n",
    "|  12 |  18  | 20  | **Case Study:** [World Happiness Report](https://worldhappiness.report/ed/2019/)  | 04-04, 05-01 | 11/24 |\n",
    "|  13 |  25   | &mdash;  | [Geopandas](http://geopandas.org/), **Case Study:** World Happiness Map | 05-03 | 12/01 |\n",
    "|  14 |  12/2 | 4 |  **Case Study:** Twitter Sentiment Analysis | 05-04 | 12/08 |\n",
    "|  16 |  | 12/13 | **(Take Home) Final Exam**  |\n",
    "\n",
    "&dagger; We will not be covering these notebooks this semester. Feel free to peruse them if interested.\n",
    "\n",
    "<hr/>\n"
   ]
  },
  {
   "cell_type": "markdown",
   "metadata": {},
   "source": [
    "# Applying python to data analysis \n",
    "\n",
    "So far, what we have been doing is a foundation for applying python to data analysis. \n",
    "What we need for this task: \n",
    "* The basic python types (`list`, `set`, `dict`, `tuple`):\n",
    " \n",
    " * How to use those types. \n",
    " * How to construct new ones. \n",
    "* The data storage types (`ndarray`, `DataFrame`): \n",
    " \n",
    " * How to make one. \n",
    " * How to manipulate one. \n",
    "  * filtering\n",
    "  * constructing new columns. \n",
    "  * transforming between types\n",
    "  \n",
    "# Now we move on to the final step of the journey. \n",
    "* Use this knowledge to do actual data analysis. \n",
    "* Learn to use the pre-packaged Python libraries that are constructed to help. \n",
    "\n",
    "# Some important caveats\n",
    "* `numpy` predates `pandas`\n",
    " \n",
    " * Most data analysis libraries support the `numpy` format `ndarray`.\n",
    " * Some data analysis libraries don't support the `pandas` format `DataFrame`.  \n",
    "* Libraries contain general-purpose methods but usually avoid special purposes. \n",
    "\n",
    " * If there is a common need, chances are that there's a library that helps. \n",
    " * If -- on the other hand -- your needs are unique, the likelihood of a library existing is small. \n",
    "\n",
    "* Libraries support the common patterns of data abstraction in python, and things that seem reasonable usually are. \n",
    " * However, some things may have unexpected results. \n",
    "\n",
    "# Some ubiquitous patterns\n",
    "\n",
    "### 1. If you want to construct something, and have something else, try the constructor. \n",
    "\n",
    "In the following cell, we want the result to be\n",
    "```\n",
    "    array([[1, 2, 3],\n",
    "           [4, 5, 6]])\n",
    "\n",
    "```"
   ]
  },
  {
   "cell_type": "code",
   "execution_count": null,
   "metadata": {},
   "outputs": [],
   "source": [
    "import numpy as np\n",
    "\n",
    "nd = np.array(...)\n",
    "nd"
   ]
  },
  {
   "cell_type": "code",
   "execution_count": null,
   "metadata": {},
   "outputs": [],
   "source": [
    "# what if we want a DataFrame? \n",
    "\n",
    "import pandas as pd\n",
    "df = pd.DataFrame(...)\n",
    "df"
   ]
  },
  {
   "cell_type": "markdown",
   "metadata": {},
   "source": [
    "### 2. Modify behaviors with extra optional arguments.\n",
    "\n",
    "\n",
    "What if we want a DataFrame with row and column labels, like this...?\n",
    "\n",
    "\n",
    "|        |   `a`   |   `b`   |   `c`   |\n",
    "| -----: | :-----: | :-----: | :-----: |\n",
    "|   `d`  |   `1`   |   `2`   |   `3`   |\n",
    "|   `e`  |   `4`   |   `5`   |   `6`   |\n"
   ]
  },
  {
   "cell_type": "code",
   "execution_count": null,
   "metadata": {},
   "outputs": [],
   "source": [
    "# What if we want a DataFrame with row and column labels?\n",
    "d2 = pd.DataFrame(nd, ...)\n",
    "d2"
   ]
  },
  {
   "cell_type": "code",
   "execution_count": null,
   "metadata": {},
   "outputs": [],
   "source": [
    "# What if we want an array within the DataFrame? \n",
    "v2 = np.array(df)\n",
    "v2"
   ]
  },
  {
   "cell_type": "markdown",
   "metadata": {},
   "source": [
    "# Aside: how do optional arguments work? \n",
    "Consider the following example: "
   ]
  },
  {
   "cell_type": "code",
   "execution_count": null,
   "metadata": {},
   "outputs": [],
   "source": [
    "def foo(number, multiplier=2):\n",
    "    return number*multiplier\n",
    "\n",
    "print(foo(2))\n",
    "print(foo(2,7))\n",
    "print(foo(3, multiplier=20))"
   ]
  },
  {
   "cell_type": "markdown",
   "metadata": {},
   "source": [
    "* `multiplier=2` determines an optional argument. \n",
    "* The value given is used if there is no value in the call. \n",
    "* You may use positional or named calls (`multiplier=2`) in calling the function. \n",
    "\n",
    "### 3. Arguments that are sequences can be specified in many valid ways. \n",
    "\n",
    "Anything that is an `iterable` usually works. _Psst. what's an iterable?_\n"
   ]
  },
  {
   "cell_type": "code",
   "execution_count": null,
   "metadata": {},
   "outputs": [],
   "source": [
    "pd.DataFrame(..., columns=['x', 'y', 'z'])"
   ]
  },
  {
   "cell_type": "code",
   "execution_count": null,
   "metadata": {},
   "outputs": [],
   "source": [
    "pd.DataFrame(..., columns=('x', 'y', 'z'))"
   ]
  },
  {
   "cell_type": "markdown",
   "metadata": {},
   "source": [
    "or even (to be totally perverse about it): "
   ]
  },
  {
   "cell_type": "code",
   "execution_count": null,
   "metadata": {},
   "outputs": [],
   "source": [
    "pd.DataFrame(..., columns={'x': 42, 'y': 20, 'z': 10})"
   ]
  },
  {
   "cell_type": "markdown",
   "metadata": {},
   "source": [
    "# Why did that work? \n",
    "* The columns parameter takes any `iterable`. \n",
    "* Iterating over a dictionary returns its keys. \n",
    "* The fact that they have values is ignored. \n",
    "\n",
    "As an expansion of the general principle, consider: "
   ]
  },
  {
   "cell_type": "code",
   "execution_count": null,
   "metadata": {},
   "outputs": [],
   "source": [
    "pd.DataFrame(..., columns=range(20, 23))"
   ]
  },
  {
   "cell_type": "markdown",
   "metadata": {},
   "source": [
    "# Why did that work? \n",
    "* `range` returns an iterable. \n",
    "* That's _all_ that's needed. \n",
    "\n",
    "# Let's make sure we can do some basic things.\n",
    "It's often important to convert between the basic types `array`, `DataFrame`, and `Series` to get things done. Here are some examples."
   ]
  },
  {
   "cell_type": "code",
   "execution_count": null,
   "metadata": {},
   "outputs": [],
   "source": [
    "# Don't change this cell; just run it. \n",
    "from client.api.notebook import Notebook\n",
    "ok = Notebook('03-07-py-np-pd-wrapup.ok')"
   ]
  },
  {
   "cell_type": "markdown",
   "metadata": {},
   "source": [
    "#### 1. Consider the `DataFrame`:"
   ]
  },
  {
   "cell_type": "code",
   "execution_count": null,
   "metadata": {},
   "outputs": [],
   "source": [
    "df = pd.DataFrame({'name': ['xavier', 'mark', 'ben'],\n",
    "                   'species': ['cat', 'dog', 'dog'],\n",
    "                   'fleas': [20, 100, 30],\n",
    "                   'ticks': [2, 4, 2]})\n",
    "df"
   ]
  },
  {
   "cell_type": "markdown",
   "metadata": {},
   "source": [
    "#### 2. Create a `numpy` `ndarray` `nf` from `df` that contains only the numeric columns of `df`.  \n",
    "\n",
    "While the specific value of our `df` is simple, your recipe should work even if `df` has thousands of rows. "
   ]
  },
  {
   "cell_type": "code",
   "execution_count": null,
   "metadata": {},
   "outputs": [],
   "source": [
    "# Your answer:\n",
    "nf = np.array(df.loc[:,'fleas':'ticks'])\n",
    "nf"
   ]
  },
  {
   "cell_type": "code",
   "execution_count": null,
   "metadata": {},
   "outputs": [],
   "source": [
    "_ = ok.grade('q01')"
   ]
  },
  {
   "cell_type": "markdown",
   "metadata": {},
   "source": [
    "#### 2a. What is wrong with just using `nf = np.array(df)`? \n",
    "\n",
    "Why? Hint: consider what happens when trying to take a statistic of a non-numeric column."
   ]
  },
  {
   "cell_type": "code",
   "execution_count": null,
   "metadata": {},
   "outputs": [],
   "source": [
    "nf = np.array(df)\n",
    "nf"
   ]
  },
  {
   "cell_type": "markdown",
   "metadata": {},
   "source": [
    "Now consider the `array`: "
   ]
  },
  {
   "cell_type": "code",
   "execution_count": null,
   "metadata": {},
   "outputs": [],
   "source": [
    "column_labels = ['x', 'y', 'z']\n",
    "row_labels = ['a', 'b', 'c']\n",
    "n3 = np.array([[1,2,3],[4,5,6],[7,8,9]])\n",
    "n3"
   ]
  },
  {
   "cell_type": "markdown",
   "metadata": {},
   "source": [
    "#### 3. Create a `DataFrame` `d3` from this that...\n",
    "\n",
    "... has the column and row labels specified. Make the `index` the row labels. "
   ]
  },
  {
   "cell_type": "code",
   "execution_count": null,
   "metadata": {},
   "outputs": [],
   "source": [
    "# Your answer: \n",
    "d3 = pd.DataFrame(n3, index=row_labels, columns=column_labels)\n",
    "print(d3)"
   ]
  },
  {
   "cell_type": "code",
   "execution_count": null,
   "metadata": {},
   "outputs": [],
   "source": [
    "_ = ok.grade('q03')"
   ]
  },
  {
   "cell_type": "markdown",
   "metadata": {},
   "source": [
    "Now consider the following data: "
   ]
  },
  {
   "cell_type": "code",
   "execution_count": null,
   "metadata": {},
   "outputs": [],
   "source": [
    "%more e4.csv"
   ]
  },
  {
   "cell_type": "markdown",
   "metadata": {},
   "source": [
    "#### 4. Read in this file and convert to an `array` 'n4'. \n",
    "\n",
    "Omit non-numeric columns. Hint: read as a `DataFrame`, read up on how to not use the first line as a header. "
   ]
  },
  {
   "cell_type": "code",
   "execution_count": null,
   "metadata": {},
   "outputs": [],
   "source": [
    "# Your answer: \n",
    "d4 = pd.read_csv('e4.csv', header=None)\n",
    "n4 = np.array(d4.loc[:, 1:2])\n",
    "n4"
   ]
  },
  {
   "cell_type": "code",
   "execution_count": null,
   "metadata": {},
   "outputs": [],
   "source": [
    "_ = ok.grade('q04')"
   ]
  }
 ],
 "metadata": {
  "kernelspec": {
   "display_name": "Python 3",
   "language": "python",
   "name": "python3"
  },
  "language_info": {
   "codemirror_mode": {
    "name": "ipython",
    "version": 3
   },
   "file_extension": ".py",
   "mimetype": "text/x-python",
   "name": "python",
   "nbconvert_exporter": "python",
   "pygments_lexer": "ipython3",
   "version": "3.7.4"
  }
 },
 "nbformat": 4,
 "nbformat_minor": 2
}
