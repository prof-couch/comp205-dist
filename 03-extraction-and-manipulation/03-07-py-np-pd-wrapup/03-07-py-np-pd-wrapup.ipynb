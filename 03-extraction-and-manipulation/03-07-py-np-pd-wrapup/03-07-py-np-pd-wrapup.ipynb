{
 "cells": [
  {
   "cell_type": "markdown",
   "metadata": {},
   "source": [
    "# Applying python to data analysis \n",
    "\n",
    "So far, what we have been doing is a foundation for applying python to data analysis. \n",
    "What we need for this task: \n",
    "* The basic python types (`list`, `set`, `dict`, `tuple`):\n",
    " \n",
    " * How to use those types. \n",
    " * How to construct new ones. \n",
    "* The data storage types (`ndarray`, `DataFrame`): \n",
    " \n",
    " * How to make one. \n",
    " * How to manipulate one. \n",
    "  * filtering\n",
    "  * constructing new columns. \n",
    "  * transforming between types\n",
    "  \n",
    "# Now we move on to the final step of the journey. \n",
    "* Use this knowledge to do actual data analysis. \n",
    "* Learn to use the pre-packaged Python libraries that are constructed to help. \n",
    "\n",
    "# Some important caveats\n",
    "* `numpy` predates `pandas`\n",
    " \n",
    " * Most data analysis libraries support the `numpy` format `ndarray`.\n",
    " * Some data analysis libraries don't support the `pandas` format `DataFrame`.  \n",
    "* Libraries contain general-purpose methods but usually avoid special purposes. \n",
    "\n",
    " * If everyone else needs to do something, chances are that there's a library that helps. \n",
    " * If -- on the other hand -- your needs are unique, the likelihood of a library existing is small. \n",
    "\n",
    "* Libraries support the common patterns of data abstraction in python, and things that seem reasonable usually are. \n",
    " * However, some things may have unexpected results. \n",
    "\n",
    "# Some ubiquitous patterns\n",
    "### 1. If you want to construct something, and have something else, try the constructor. \n",
    "Some examples: "
   ]
  },
  {
   "cell_type": "code",
   "execution_count": null,
   "metadata": {},
   "outputs": [],
   "source": [
    "import numpy as np\n",
    "import pandas as pd\n",
    "nd = np.array([[1,2,3], [4,5,6]])\n",
    "nd"
   ]
  },
  {
   "cell_type": "code",
   "execution_count": null,
   "metadata": {},
   "outputs": [],
   "source": [
    "# what if we want a DataFrame? \n",
    "df = pd.DataFrame(nd)\n",
    "df"
   ]
  },
  {
   "cell_type": "code",
   "execution_count": null,
   "metadata": {},
   "outputs": [],
   "source": [
    "# What if we want an array from a DataFrame? \n",
    "v2 = np.array(df)\n",
    "v2"
   ]
  },
  {
   "cell_type": "markdown",
   "metadata": {},
   "source": [
    "### 2. Modify behaviors with extra optional arguments."
   ]
  },
  {
   "cell_type": "code",
   "execution_count": null,
   "metadata": {},
   "outputs": [],
   "source": [
    "# What if we want a DataFrame with row and column labels?\n",
    "d2 = pd.DataFrame(nd, index=['d','e'], columns=['a', 'b', 'c'])\n",
    "d2"
   ]
  },
  {
   "cell_type": "markdown",
   "metadata": {},
   "source": [
    "# Aside: how do optional arguments work? \n",
    "Consider the following example: "
   ]
  },
  {
   "cell_type": "code",
   "execution_count": null,
   "metadata": {},
   "outputs": [],
   "source": [
    "def foo(number, multiplier=2):\n",
    "    return number*multiplier\n",
    "\n",
    "print(foo(2))\n",
    "print(foo(2,7))\n",
    "print(foo(3, multiplier=20))"
   ]
  },
  {
   "cell_type": "markdown",
   "metadata": {},
   "source": [
    "* `multiplier=2` determines an optional argument. \n",
    "* The value given is used if there is no value in the call. \n",
    "* You may use positional or named calls (`multiplier=2`) in calling the function. \n",
    "\n",
    "### 3. Arguments that are sequences can be specified in many valid ways. \n",
    "Anything that is an `iterable` usually works.\n",
    "\n",
    "Compare, e.g., "
   ]
  },
  {
   "cell_type": "code",
   "execution_count": null,
   "metadata": {},
   "outputs": [],
   "source": [
    "pd.DataFrame([[1, 2, 3], [4, 5, 6]], columns=['x', 'y', 'z'])"
   ]
  },
  {
   "cell_type": "code",
   "execution_count": null,
   "metadata": {},
   "outputs": [],
   "source": [
    "pd.DataFrame([[1, 2, 3], [4, 5, 6]], columns=('x', 'y', 'z'))"
   ]
  },
  {
   "cell_type": "markdown",
   "metadata": {},
   "source": [
    "or even (to be totally perverse about it): "
   ]
  },
  {
   "cell_type": "code",
   "execution_count": null,
   "metadata": {},
   "outputs": [],
   "source": [
    "pd.DataFrame([[1, 2, 3], [4, 5, 6]], columns={'x': 42, 'y': 20, 'z': 10})"
   ]
  },
  {
   "cell_type": "markdown",
   "metadata": {},
   "source": [
    "# Why did that work? \n",
    "* The columns parameter takes any `iterable`. \n",
    "* Iterating over a dictionary returns its keys. \n",
    "* The fact that they have values is ignored. \n",
    "\n",
    "As an expansion of the general principle, consider: "
   ]
  },
  {
   "cell_type": "code",
   "execution_count": null,
   "metadata": {},
   "outputs": [],
   "source": [
    "pd.DataFrame([[1, 2, 3], [4, 5, 6]], columns=range(20, 23))"
   ]
  },
  {
   "cell_type": "markdown",
   "metadata": {},
   "source": [
    "# Why did that work? \n",
    "* `range` returns an iterable. \n",
    "* That's all that's needed. \n",
    "\n",
    "# Let's make sure we can do some basic things.\n",
    "It's often important to convert between the basic types `array`, `DataFrame`, and `Series` to get things done. Here are some examples."
   ]
  },
  {
   "cell_type": "code",
   "execution_count": null,
   "metadata": {},
   "outputs": [],
   "source": [
    "# Don't change this cell; just run it. \n",
    "from client.api.notebook import Notebook\n",
    "ok = Notebook('03-07-py-np-pd-wrapup.ok')"
   ]
  },
  {
   "cell_type": "markdown",
   "metadata": {},
   "source": [
    "1. Consider the `DataFrame`:"
   ]
  },
  {
   "cell_type": "code",
   "execution_count": null,
   "metadata": {},
   "outputs": [],
   "source": [
    "df = pd.DataFrame({'name': ['xavier', 'mark', 'ben'],\n",
    "                   'species': ['cat', 'dog', 'dog'],\n",
    "                   'fleas': [20, 100, 30],\n",
    "                   'ticks': [2, 4, 2]})\n",
    "df"
   ]
  },
  {
   "cell_type": "markdown",
   "metadata": {},
   "source": [
    "1. Create a `numpy` `ndarray` `nf` from `df` that contains only the numeric columns of `df`.  While the specific value of our `df` is simple, your recipe should work even if `df` has thousands of rows. "
   ]
  },
  {
   "cell_type": "code",
   "execution_count": null,
   "metadata": {},
   "outputs": [],
   "source": [
    "# Your answer:\n",
    "nf = np.array(df.loc[:,'fleas':'ticks'])\n",
    "nf"
   ]
  },
  {
   "cell_type": "code",
   "execution_count": null,
   "metadata": {},
   "outputs": [],
   "source": [
    "_ = ok.grade('q01')"
   ]
  },
  {
   "cell_type": "markdown",
   "metadata": {},
   "source": [
    "2. What is wrong with just using `nf = np.array(df)`? Why? Hint: consider what happens when trying to take a statistic of a non-numeric column."
   ]
  },
  {
   "cell_type": "markdown",
   "metadata": {},
   "source": [
    "___Your answer:___ "
   ]
  },
  {
   "cell_type": "markdown",
   "metadata": {},
   "source": [
    "Now consider the `array`: "
   ]
  },
  {
   "cell_type": "code",
   "execution_count": null,
   "metadata": {},
   "outputs": [],
   "source": [
    "column_labels = ['x', 'y', 'z']\n",
    "row_labels = ['a', 'b', 'c']\n",
    "n3 = np.array([[1,2,3],[4,5,6],[7,8,9]])\n",
    "n3"
   ]
  },
  {
   "cell_type": "markdown",
   "metadata": {},
   "source": [
    "3. Create a `DataFrame` `d3` from this that has the column and row labels specified. Make the `index` the row labels. "
   ]
  },
  {
   "cell_type": "code",
   "execution_count": null,
   "metadata": {},
   "outputs": [],
   "source": [
    "# Your answer: \n",
    "d3 = pd.DataFrame(n3, index=row_labels, columns=column_labels)\n",
    "print(d3)"
   ]
  },
  {
   "cell_type": "code",
   "execution_count": null,
   "metadata": {},
   "outputs": [],
   "source": [
    "_ = ok.grade('q03')"
   ]
  },
  {
   "cell_type": "markdown",
   "metadata": {},
   "source": [
    "Now consider the following data: "
   ]
  },
  {
   "cell_type": "code",
   "execution_count": null,
   "metadata": {},
   "outputs": [],
   "source": [
    "%more e4.csv"
   ]
  },
  {
   "cell_type": "markdown",
   "metadata": {},
   "source": [
    "4. Read in this file and convert to an `array` 'n4'. Omit non-numeric columns. Hint: read as a `DataFrame`, read up on how to not use the first line as a header. "
   ]
  },
  {
   "cell_type": "code",
   "execution_count": null,
   "metadata": {},
   "outputs": [],
   "source": [
    "# Your answer: \n",
    "d4 = pd.read_csv('e4.csv', header=None)\n",
    "n4 = np.array(d4.loc[:, 1:2])\n",
    "n4"
   ]
  },
  {
   "cell_type": "code",
   "execution_count": null,
   "metadata": {},
   "outputs": [],
   "source": [
    "_ = ok.grade('q04')"
   ]
  },
  {
   "cell_type": "markdown",
   "metadata": {},
   "source": [
    "Consider these structures: "
   ]
  },
  {
   "cell_type": "code",
   "execution_count": null,
   "metadata": {},
   "outputs": [],
   "source": [
    "n5a = np.array([[\"jack\", 20], [\"moe\", 30], ['manny', 0]])\n",
    "n5b = np.array([['moe', 340], ['jack', 40], ['manny', 40]])"
   ]
  },
  {
   "cell_type": "markdown",
   "metadata": {},
   "source": [
    "5. Do an inner join on `n5a` and `n5b` on the keys that are the first elements of each row, and make the result an array `n5`consisting of only the numbers. Hint: convert to `DataFrame`, do the join, convert back to `array`. Make the result an array of ints if needed. "
   ]
  },
  {
   "cell_type": "code",
   "execution_count": null,
   "metadata": {},
   "outputs": [],
   "source": [
    "# Your answer: \n",
    "d5a = pd.DataFrame(n5a)\n",
    "d5b = pd.DataFrame(n5b)\n",
    "d5 = pd.merge(d5a, d5b, on=0, how='inner')\n",
    "d5.loc[:,'1_x':'1_y']\n",
    "n5 = np.array(d5.loc[:, '1_x':'1_y'], dtype='int')\n",
    "n5"
   ]
  },
  {
   "cell_type": "code",
   "execution_count": null,
   "metadata": {},
   "outputs": [],
   "source": [
    "_ = ok.grade('q05')"
   ]
  },
  {
   "cell_type": "markdown",
   "metadata": {},
   "source": [
    "# When you are done with this notebook, \n",
    "\n",
    "* Save and checkpoint. \n",
    "* Ensure that the name of this file is precisely `03-07-py-np-pd-wrapup.ipynb`. \n",
    "* <del>Change `ready` to `True` in the cell below. </del>\n",
    "* <del>Run the cell below to submit your work for grading. </del>\n",
    "* Save and checkpoint the notebook. "
   ]
  },
  {
   "cell_type": "markdown",
   "metadata": {},
   "source": [
    "* If your Jupyter installation can download the notebook as a PDF,\n",
    "    * (File >> Download as >> PDF via LaTeX (.pdf)), \n",
    "    * Rename the downloaded file to `<loginid>-03-07-py-np-pd-wrapup.pdf`. In other words, my filename would be `jsingh11-03-07-py-np-pd-wrapup.pdf`.\n",
    "    * Submit the file `<loginid>-03-07-py-np-pd-wrapup.pdf` to Canvas.\n",
    "* Otherwise \n",
    "    * (File >> Download as >> Notebook (.ipynb)). In other words, my filename would be `jsingh11-03-07-py-np-pd-wrapup.ipynb`.\n",
    "    * Rename the downloaded file to `<loginid>-03-07-py-np-pd-wrapup.ipynb`,\n",
    "    * Submit the file `<loginid>-03-07-py-np-pd-wrapup.ipynb` to Canvas."
   ]
  }
 ],
 "metadata": {
  "kernelspec": {
   "display_name": "Python 3",
   "language": "python",
   "name": "python3"
  },
  "language_info": {
   "codemirror_mode": {
    "name": "ipython",
    "version": 3
   },
   "file_extension": ".py",
   "mimetype": "text/x-python",
   "name": "python",
   "nbconvert_exporter": "python",
   "pygments_lexer": "ipython3",
   "version": "3.7.4"
  }
 },
 "nbformat": 4,
 "nbformat_minor": 2
}
