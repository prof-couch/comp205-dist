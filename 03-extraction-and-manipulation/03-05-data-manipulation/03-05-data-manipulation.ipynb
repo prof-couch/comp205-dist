{
 "cells": [
  {
   "cell_type": "markdown",
   "metadata": {},
   "source": [
    "# Merges and matching\n",
    "* You might have seen -- in the previous example -- that there is more we might want to do. The two files concern the same entities! \n",
    "\n",
    "This workbook was based upon [the merges getting started](https://pandas.pydata.org/pandas-docs/stable/getting_started/10min.html#merge) in the Pandas documentation. \n",
    "\n",
    "# Data lakes\n",
    "* a *data lake* is a large set of files with some columns that match. \n",
    "* the *merging problem* is to combine data for two or more files to get more complete information about an entity. \n",
    "* Here is a compelling example. \n",
    "* *The key is to create columns you can match.* \n",
    "\n",
    "*In the following, I have shortened printing of large tables. You can remove the shortening at need. *\n",
    "\n",
    "Let's load our first file from http://data.gov: population of towns in Connecticut. "
   ]
  },
  {
   "cell_type": "code",
   "execution_count": null,
   "metadata": {},
   "outputs": [],
   "source": [
    "import pandas as pd\n",
    "population = pd.read_csv('2010_Population_By_Town.csv')\n",
    "population.head()"
   ]
  },
  {
   "cell_type": "markdown",
   "metadata": {},
   "source": [
    "This is a table of populations for each town in Connecticut. We also have the following table: "
   ]
  },
  {
   "cell_type": "code",
   "execution_count": null,
   "metadata": {},
   "outputs": [],
   "source": [
    "tax = pd.read_csv('2012_Retail_Sales_By_Town_ALL_NAICS.csv', engine='python', skipfooter=8)\n",
    "tax.head()"
   ]
  },
  {
   "cell_type": "markdown",
   "metadata": {},
   "source": [
    "This is a table of sales tax for the same towns. \n",
    "\n",
    "# The key observation\n",
    "\n",
    "* These tables are both about the same towns, but \n",
    "* They represent the towns differently. \n",
    "* To combine them into one table, we need a common description of the town \n",
    "\n",
    "# What's different?\n",
    "* case of town name. \n",
    "* extra stuff in town name. \n",
    "\n",
    "# The key strategy\n",
    "* turn them both into something that matches. \n",
    "* lowercase the unadorned name. \n",
    "* lowercase and trim the adorned name. \n",
    "\n",
    "# Step 1: add lowercase names to `population`"
   ]
  },
  {
   "cell_type": "code",
   "execution_count": null,
   "metadata": {
    "scrolled": true
   },
   "outputs": [],
   "source": [
    "lowercase = population.TOWN.str.lower()\n",
    "lowercase.head()"
   ]
  },
  {
   "cell_type": "code",
   "execution_count": null,
   "metadata": {},
   "outputs": [],
   "source": [
    "population['lowercase'] = lowercase\n",
    "population.head()"
   ]
  },
  {
   "cell_type": "markdown",
   "metadata": {},
   "source": [
    "# Step 2: transform the name in `tax`\n",
    "* `tax.Municipality`: the adorned name. \n",
    "* `.str.split('(')`: split at '(' character. \n",
    "* `[0]`: select first part of split. \n",
    "* `.str.strip()`: remove spaces from both sides. \n",
    "* `.str.lower()`: lowercase the result. "
   ]
  },
  {
   "cell_type": "code",
   "execution_count": null,
   "metadata": {},
   "outputs": [],
   "source": [
    "lowercase = tax.Municipality.str.split('(', expand=True)[0].str.strip().str.lower()\n",
    "lowercase.head()\n"
   ]
  },
  {
   "cell_type": "code",
   "execution_count": null,
   "metadata": {},
   "outputs": [],
   "source": [
    "tax['lowercase'] = lowercase\n",
    "tax.head()"
   ]
  },
  {
   "cell_type": "markdown",
   "metadata": {},
   "source": [
    "# Step 3: merge on now-common column 'lowercase': \n",
    "* `left`, `right`: positions of source `DataFrame`s in merged `DataFrame`. \n",
    "* `how='outer'`: leave records that don't match in the data. \n",
    "* `on=`: what to match"
   ]
  },
  {
   "cell_type": "code",
   "execution_count": null,
   "metadata": {},
   "outputs": [],
   "source": [
    "both = pd.merge(left=population, right=tax, how='outer', on='lowercase')\n",
    "both.head()"
   ]
  },
  {
   "cell_type": "markdown",
   "metadata": {},
   "source": [
    "# A few notes\n",
    "* We could have used most any mechanism to make columns the same. \n",
    "* E.g., uppercase rather than lowercase. \n",
    "* The important thing is that they are exactly the same in format. \n",
    "* If the same columns are indexes, so much the better. This improves performance. \n",
    "\n",
    "# The data merging problem\n",
    "* https://data.gov is a huge \"data lake\" of CSV files. \n",
    "* Many of them describe the same entities. \n",
    "* But they may depict the entities differently, and substantive creativity may be necessary to collect all the data for each entity, in this case, towns in Connecticut. \n",
    "\n",
    "# Data fusion\n",
    "* More generally, there is a problem of *Data Fusion* that goes beyond mere tables.\n",
    "* Entities can be geospatial, i.e., on a map. \n",
    "* Entities can overlap. \n",
    "* Data may only be measured for part of an entity, e.g., a county of a state. \n",
    "* Data may not be commensurate for the same entity. \n",
    "\n",
    "# Often, data fusion is more difficult than the analysis that follows. \n",
    "* Column names are synonyms, or missing. \n",
    "* Some columns that are named the same contain different data.\n",
    "* The US 'Open Data Initiative' says that data has to be available, but *does not specify its format or metadata format.* \n",
    "* The EU version is even less specific: *it doesn't even specify that data should be machine readable!*\n",
    "* The [Research Data Alliance](https://rd-alliance.org/) is trying to do something about this by defining metadata and structural standards for CSV data. \n",
    "* My own project [HydroShare](https://www.hydroshare.org) goes much farther, and is compliant with rather rigorous metadata and discoverability standards defined by the [DataOne initiative](https://dataone.org). \n",
    "\n",
    "# What is `how`? \n",
    "* `how`: the join type.\n",
    "* `'outer'`: leave rows in that don't have matches. \n",
    "* `'inner'`: omit any rows that don't match. \n",
    "* `'left'`: keep rows on left if they don't match. \n",
    "* `'right'`: keep rows on right if they don't match. \n",
    "* These names are consistent with names of \"join types\" in database theory. \n",
    "* In fact, that's what we're doing. "
   ]
  },
  {
   "cell_type": "markdown",
   "metadata": {},
   "source": [
    "# Let's put this into practice. \n",
    "\n",
    "Let's register you for grading purposes. "
   ]
  },
  {
   "cell_type": "code",
   "execution_count": null,
   "metadata": {},
   "outputs": [],
   "source": [
    "# Don't change this cell; just run it. \n",
    "from client.api.notebook import Notebook\n",
    "ok = Notebook('03-05-data-manipulation.ok')\n",
    "ok.auth(inline=True)"
   ]
  },
  {
   "cell_type": "markdown",
   "metadata": {},
   "source": [
    "Then let's create some `DataFrame`s to play with. "
   ]
  },
  {
   "cell_type": "code",
   "execution_count": null,
   "metadata": {},
   "outputs": [],
   "source": [
    "phones = pd.DataFrame({\n",
    "    'name': ['Mark', 'Anne', 'Frank', 'Lisa'],\n",
    "    'phone': ['7815551212', 'unlisted', '4035551212', '9195551212']  # NB\n",
    "})\n",
    "print(\"phones:\")\n",
    "print(phones)\n",
    "\n",
    "addresses = pd.DataFrame({\n",
    "    'name': ['Frank', 'Anne', 'Mark', 'Samantha'],\n",
    "    'city': ['Boston', 'Austin', 'Boston', 'Los Angeles'],\n",
    "    'state': ['MA', 'TX', 'MA', 'CA']\n",
    "})\n",
    "print('\\naddresses:')\n",
    "print(addresses)\n",
    "\n",
    "pets = pd.DataFrame({\n",
    "    'name': ['Garfield', 'Snoopy', 'Brrf', 'Bill'],\n",
    "    'type': ['cat', 'dog', 'dog', 'cat'],\n",
    "    'owner': ['Frank', 'Lisa', 'Samantha', 'Lisa']\n",
    "})\n",
    "print('\\npets:')\n",
    "print(pets)\n",
    "\n",
    "hobbies = pd.DataFrame({\n",
    "    'name':['Frank', 'Frank', 'George', 'Anne', 'Mark', 'Mark', 'Samantha'], \n",
    "    'hobby':['cycling', 'astronomy', 'knitting', 'tennis', 'cycling', 'rock climbing', 'astronomy'],\n",
    "})\n",
    "print('\\nhobbies:')\n",
    "print(hobbies)"
   ]
  },
  {
   "cell_type": "markdown",
   "metadata": {},
   "source": [
    "(NB: all the phone numbers are directory assistance. I have learned, in the past, that in any public set of notes, some idiot will actually call the numbers I specify!)"
   ]
  },
  {
   "cell_type": "markdown",
   "metadata": {},
   "source": [
    "1. Make up a regular address book `book` by combining `addresses` and `phones`. We want an entry even if we don't have a phone or an address for a person. "
   ]
  },
  {
   "cell_type": "code",
   "execution_count": null,
   "metadata": {
    "scrolled": true
   },
   "outputs": [],
   "source": [
    "# Your answer: \n",
    "book = ...\n",
    "book"
   ]
  },
  {
   "cell_type": "code",
   "execution_count": null,
   "metadata": {},
   "outputs": [],
   "source": [
    "_ = ok.grade('q01')  # run to check your answer"
   ]
  },
  {
   "cell_type": "markdown",
   "metadata": {},
   "source": [
    "2. Merge `pets` with `book` to get an address book `owners` for the `pets`. In this case we leave out an entry if there isn't a pet there. Hint: since column names aren't the same, use `left_on=` and `right_on=`. See [full merge documentation](https://pandas.pydata.org/pandas-docs/stable/reference/api/pandas.DataFrame.merge.html) for details."
   ]
  },
  {
   "cell_type": "code",
   "execution_count": null,
   "metadata": {
    "scrolled": false
   },
   "outputs": [],
   "source": [
    "# Your answer:\n",
    "owners = ...\n",
    "owners"
   ]
  },
  {
   "cell_type": "code",
   "execution_count": null,
   "metadata": {},
   "outputs": [],
   "source": [
    "_ = ok.grade('q02')  # run to check your answer"
   ]
  },
  {
   "cell_type": "markdown",
   "metadata": {},
   "source": [
    "3. Figure out which people share the same hobby by creating a merge `common` of `hobbies` with itself. Then eliminate lines with the same name for both people via row selection.  Also eliminate duplicates by ensuring that names are in alphabetical order from left to right. "
   ]
  },
  {
   "cell_type": "code",
   "execution_count": null,
   "metadata": {
    "scrolled": true
   },
   "outputs": [],
   "source": [
    "# Your answer: \n",
    "common = ...\n",
    "common"
   ]
  },
  {
   "cell_type": "code",
   "execution_count": null,
   "metadata": {},
   "outputs": [],
   "source": [
    "_ = ok.grade('q03')  # run to check your answer"
   ]
  },
  {
   "cell_type": "markdown",
   "metadata": {},
   "source": [
    "4. For people in `common`, join with `addresses` and select those that live in the same state. Put the result into `pairs`."
   ]
  },
  {
   "cell_type": "code",
   "execution_count": null,
   "metadata": {},
   "outputs": [],
   "source": [
    "# Your answer: \n",
    "pairs = ...\n",
    "pairs"
   ]
  },
  {
   "cell_type": "code",
   "execution_count": null,
   "metadata": {},
   "outputs": [],
   "source": [
    "_ = ok.grade('q04')  # run to check your answer"
   ]
  },
  {
   "cell_type": "markdown",
   "metadata": {},
   "source": [
    "5. Delete extra columns from `pairs` to leave `name_x`, `hobby`, and `name_y`. \n",
    "Put the result in `possible`. Hint: google this."
   ]
  },
  {
   "cell_type": "code",
   "execution_count": null,
   "metadata": {},
   "outputs": [],
   "source": [
    "# Your answer: \n",
    "possible = ...\n",
    "possible"
   ]
  },
  {
   "cell_type": "code",
   "execution_count": null,
   "metadata": {},
   "outputs": [],
   "source": [
    "_ = ok.grade('q05')  # run to check your answer"
   ]
  },
  {
   "cell_type": "markdown",
   "metadata": {},
   "source": [
    "# When you are done with this notebook, \n",
    "\n",
    "* Save and checkpoint. \n",
    "* Ensure that the name of this file is precisely `03-05-data-manipulation.ipynb`. \n",
    "* <del>Change `ready` to `True` in the cell below. </del>\n",
    "* <del>Run the cell below to submit your work for grading. </del>\n",
    "* Save and checkpoint the notebook. "
   ]
  },
  {
   "cell_type": "markdown",
   "metadata": {},
   "source": [
    "* If your Jupyter installation can download the notebook as a PDF,\n",
    "    * (File >> Download as >> PDF via LaTeX (.pdf)), \n",
    "    * Rename the downloaded file to `<loginid>-03-05-data-manipulation.pdf`. In other words, my filename would be `jsingh11-03-05-data-manipulation.pdf`.\n",
    "    * Submit the file `<loginid>-03-05-data-manipulation.pdf` to Canvas.\n",
    "* Otherwise \n",
    "    * (File >> Download as >> Notebook (.ipynb)). In other words, my filename would be `jsingh11-03-05-data-manipulation.ipynb`.\n",
    "    * Rename the downloaded file to `<loginid>-03-05-data-manipulation.ipynb`,\n",
    "    * Submit the file `<loginid>-03-05-data-manipulation.ipynb` to Canvas."
   ]
  }
 ],
 "metadata": {
  "kernelspec": {
   "display_name": "Python 3",
   "language": "python",
   "name": "python3"
  },
  "language_info": {
   "codemirror_mode": {
    "name": "ipython",
    "version": 3
   },
   "file_extension": ".py",
   "mimetype": "text/x-python",
   "name": "python",
   "nbconvert_exporter": "python",
   "pygments_lexer": "ipython3",
   "version": "3.7.4"
  }
 },
 "nbformat": 4,
 "nbformat_minor": 2
}
