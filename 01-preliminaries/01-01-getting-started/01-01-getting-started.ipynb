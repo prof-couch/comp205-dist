{
 "cells": [
  {
   "cell_type": "markdown",
   "metadata": {},
   "source": [
    "# getting started with jupyter\n",
    "\n",
    "Welcome to *COMP 205: Principles of Data Science in Python.* \n",
    "\n",
    "If you can see this page, you have successfully installed or accessed Jupyter notebooks. "
   ]
  },
  {
   "cell_type": "markdown",
   "metadata": {},
   "source": [
    "# getting familiar with Jupyter notebooks\n",
    "\n",
    "The cell you are reading is a \"Markdown cell\". This contains text in a format like that of a word processor. The source for this is a simple language called \"Markdown\". It is written in text form, and is formatted by Jupyter notebooks into HTML that your browser can display. To see the source code for this message, double-click on this cell. "
   ]
  },
  {
   "cell_type": "markdown",
   "metadata": {},
   "source": [
    "# the Markdown language\n",
    "A lot of data science requires writing in English rather than in computer code. In Jupyter Notebooks, this is done using the Markdown language. The language is fairly simple: \n",
    "\n",
    "```\n",
    "# starts a heading\n",
    "## starts a subheading\n",
    "* starts a bulleted list. \n",
    "1. (or any number) starts a numbered list. \n",
    "```\n",
    "\n",
    "The above is typeset as follows: \n",
    "# starts a heading\n",
    "## starts a subheading\n",
    "* starts a bulleted list\n",
    "1. (or any number) starts a numbered list. \n",
    "\n",
    "For more details on markdown, please read [the Markdown documentation](https://jupyter-notebook.readthedocs.io/en/stable/examples/Notebook/Working%20With%20Markdown%20Cells.html). \n",
    "\n",
    "Meanwhile, I will typeset the rest of the course instructions in Markdown and you can double-click to see how I did it. Just click \"Run\" to have them appear normally again. "
   ]
  },
  {
   "cell_type": "markdown",
   "metadata": {},
   "source": [
    "# general structure of this course\n",
    "\n",
    "This course is expressed as a series of Jupyter notebooks illustrating basic concepts and testing your understanding. These pages have supporting files and each page is in its own directory. You can download the zipfiles for each page from our GitHub site. Several mini-lectures illustrate concepts interactively, but the \"textbook\" for the course is these pages and you need to know how to access them. \n",
    "\n",
    "Each notebook has supporting files, so you need to put each notebook and its files into a separate directory/folder. If you unzip two notebooks to the same directory, neither will run properly. No pernament harm has been done, just unzip to a separate directory next time. \n",
    "\n",
    "The wonderful thing about a Jupyter notebook is that one can write a \"live\" set of course notes that interacts with you. I'll ask you to try specific things out periodically, and ask you questions to test your understanding. Thus, reading is an interactive -- rather than a passive -- experience. \n",
    "\n",
    "You are free to add cells to these notebooks yourself in order to take your own personal notes on the experience. Thus, you personalize the experience and put things into your own words. \n",
    "\n",
    "Each notebook will also link to external reading that you need to do in order to complete each exercise."
   ]
  },
  {
   "cell_type": "markdown",
   "metadata": {},
   "source": [
    "# how to work on assignments\n",
    "The course materials are designed so that you can work on them in several modes: \n",
    "\n",
    "1. On a special server reserved for this course: https://jupyterhub.cs.tufts.edu . This gives you the ability to work from less powerful devices, including chromebooks, and from machines where you don't have the privilege to install software, e.g., your work computers. \n",
    "2. With your own copy of Jupyter notebooks, installed as the anaconda3 package on a windows, mac, or linux computer. This is powerful, but not as convenient as working on my servers.\n",
    "\n",
    "You are free to switch back and forth between these modes. To switch, you need to move the whole notebook directory (not just the .ipynb file) to the other environment. Zip is your friend. Zip it on one machine, and unzip it on another.\n",
    "\n",
    "Meanwhile, if you are reading this from the https://jupyterhub.cs.tufts.edu environment and want to set up your own environment, please [click here for instructions](https://docs.anaconda.com/anaconda/install/)"
   ]
  },
  {
   "cell_type": "markdown",
   "metadata": {},
   "source": [
    "# using jupyterhub.cs.tufts.edu\n",
    "Students in this course have access to a jupyterhub server https://jupyterhub.cs.tufts.edu .  The password on this server is independent of any other passwords you might have at Tufts or in the ECE/COMP servers. We have our own server just for this class. This server does not share files with other servers, either. \n",
    "\n",
    "The way that you get access to this server is that I read your Universal Tufts Login Name (UTLN) from the class rolls, and make an account for it on the server. The first time you log into this server, use your UTLN and a password you select. *From then on, that is your password.* To change your password, ask me to help. "
   ]
  },
  {
   "cell_type": "markdown",
   "metadata": {},
   "source": [
    "# Using anaconda\n",
    "This course is based upon the anaconda library for data science and machine learning. This is a set of software that one can call from a Jupyter cell To use it, you can install it in on your own machine. If you cannot do so, because you do not own the machine, or the machine has too small a disk, or it is an unsupported machine (e.g., a chromebook or even a raspberry pi!) or installation is prohibited by company policy, then feel free to use our https://jupyterhub.eecs.tufts.edu environment instead. \n",
    "\n",
    "When you are installing Anaconda, make sure to install the Python 3 version rather than Python 2. All exercises in this course are written in Python 3. \n",
    "\n",
    "There are two additions that we will call upon in the exercises that are not part of anaconda:\n",
    "* `okpy`: an interactive grading program that allows you to check your understanding of a concept in real time. \n",
    "* `datascience`: a set of user-friendly data science routines based upon anaconda. \n",
    "\n",
    "You can install these by running the cell below. You only need to do this if you are running your own copy of anaconda on a personal machine. I have already installed it on https://jupyterhub.cs.tufts.edu.  "
   ]
  },
  {
   "cell_type": "code",
   "execution_count": null,
   "metadata": {},
   "outputs": [],
   "source": [
    "!pip install datascience\n",
    "!pip install okpy"
   ]
  },
  {
   "cell_type": "markdown",
   "metadata": {},
   "source": [
    "# Python 3 versus Python 2 versus iPython\n",
    "In this course, we will work in iPython, which is short for \"interactive Python\". This is a version suitable for use in Jupyter notebooks cells. Our particular iPython interpreter understands Python 3 syntax. Python 2 -- an older version of Python -- is still in active use but we will not use it in this course. The differences are subtle, and beyond the scope of this course. \n",
    "\n",
    "Language in the Jupyter notebooks documentation can be confusing so an initial note on nomenclature might help. You will often find that the word *kernel* is used to describe an interactive language (such as iPython) that is interpreted in a Notebook. There are several \"kernels\", including Python 3, Python 2, R, Matlab, etc. In this course, we will be using the iPython kernel based upon Python 3. Thus: \n",
    "* The word *kernel* refers to the language a notebook is interpreting. \n",
    "* The *iPython kernel* supports either Python 3 or 2. \n",
    "* We are using the Python 3 version. \n",
    "\n",
    "Hopefully this note will make the documentation easier to read. "
   ]
  },
  {
   "cell_type": "markdown",
   "metadata": {},
   "source": [
    "# Grading and assignment submission\n",
    "In this course, we will be using the \"ok py\" system from https://okyp.org . To use it, you need to have a google account and I need to tell https://okpy.org who you are. If you don't have one yet, please create one and tell me.  Steps in setting up your account. \n",
    "1. You (or SIS) tell me your (Tufts) UTLN. \n",
    "2. I set up a https://jupyterhub.cs.tufts.edu account for you based upon your UTLN.\n",
    "3. You tell me your gmail address. \n",
    "4. I set up an okpy account for you. \n",
    "\n",
    "Once steps 1-4 have been accomplished, you can use the scripts in the cells below to connect your notebook server (either mine or one you run yourself) to the https://okpy.org grading server for the first time. \n",
    "\n",
    "*Important: if you change servers, you must do this for each one. If, for example, you work on a home machine and then use my machine when you're at work, you need to do this once for each one.*"
   ]
  },
  {
   "cell_type": "markdown",
   "metadata": {},
   "source": [
    "# Linking to okpy for the first time\n",
    "\n",
    "Once I have created your account, the code below will log you into okpy for the first time. \n",
    "\n",
    "It will direct you to the https://okpy.org site for your secret key, which you must type into the notebook cell that appears. \n",
    "\n",
    "After you do this once, you don't have to repeat it when working in the same Jupyter notebooks environment. See below. "
   ]
  },
  {
   "cell_type": "code",
   "execution_count": null,
   "metadata": {},
   "outputs": [],
   "source": [
    "# Don't change this cell; just run it. \n",
    "from client.api.notebook import Notebook\n",
    "ok = Notebook('01-01-getting-started.ok')\n",
    "ok.auth(inline=True, force=True)"
   ]
  },
  {
   "cell_type": "markdown",
   "metadata": {},
   "source": [
    "# If you've already logged in from this instance of Jupyter\n",
    "\n",
    "Then you don't need the \"force\" option, and you can instead run the following cell:"
   ]
  },
  {
   "cell_type": "code",
   "execution_count": null,
   "metadata": {},
   "outputs": [],
   "source": [
    "# Don't change this cell; just run it. \n",
    "from client.api.notebook import Notebook\n",
    "ok = Notebook('01-01-getting-started.ok')\n",
    "ok.auth(inline=True)"
   ]
  },
  {
   "cell_type": "markdown",
   "metadata": {},
   "source": [
    "# how to use OK\n",
    "\n",
    "### Periodically, I'll embed a cell into the notebook that tells you whether your answers are correct. \n",
    "\n",
    "Run it to figure out whether your answer is reasonable. \n",
    "\n",
    "For example, write the code that sets the variable x to 'hello' in the cell below. Then execute that cell. "
   ]
  },
  {
   "cell_type": "code",
   "execution_count": null,
   "metadata": {},
   "outputs": [],
   "source": [
    "x = '<replace this with something>'"
   ]
  },
  {
   "cell_type": "markdown",
   "metadata": {},
   "source": [
    "### now run the cell below to figure out whether your answer is correct or not. \n",
    "\n",
    "You can keep trying until it is correct. "
   ]
  },
  {
   "cell_type": "code",
   "execution_count": null,
   "metadata": {},
   "outputs": [],
   "source": [
    "_ = ok.grade('q1')"
   ]
  },
  {
   "cell_type": "markdown",
   "metadata": {},
   "source": [
    "# To complete this exercise, tell me something about yourself \n",
    "I'd love to know something interesting about you. What are your hobbies? What are your life dreams? "
   ]
  },
  {
   "cell_type": "markdown",
   "metadata": {},
   "source": [
    "___Your answer:___ (double-click to edit)"
   ]
  },
  {
   "cell_type": "markdown",
   "metadata": {},
   "source": [
    "# When you're done with a notebook\n",
    "\n",
    "You can submit a notebook to me by running the cell below. \n",
    "\n",
    "I can respond to it via the https://okpy.org site. \n",
    "\n",
    "When you are done with answering the above question, first run the above cell to connect to https://okpy.org, and then please run the following cell: "
   ]
  },
  {
   "cell_type": "code",
   "execution_count": null,
   "metadata": {},
   "outputs": [],
   "source": [
    "ready = False  # change to True when ready to submit\n",
    "if not ready: \n",
    "    raise Exception(\"change ready to True when ready to submit\")\n",
    "_ = ok.submit()"
   ]
  }
 ],
 "metadata": {
  "kernelspec": {
   "display_name": "Python 3",
   "language": "python",
   "name": "python3"
  },
  "language_info": {
   "codemirror_mode": {
    "name": "ipython",
    "version": 3
   },
   "file_extension": ".py",
   "mimetype": "text/x-python",
   "name": "python",
   "nbconvert_exporter": "python",
   "pygments_lexer": "ipython3",
   "version": "3.7.4"
  }
 },
 "nbformat": 4,
 "nbformat_minor": 2
}
