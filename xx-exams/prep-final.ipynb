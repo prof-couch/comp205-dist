{
 "cells": [
  {
   "cell_type": "markdown",
   "metadata": {},
   "source": [
    "# COMP 205: Final Examination\n",
    "\n",
    "## (from Summer 2019)\n",
    "\n",
    "Please enter your answers into this workbook in the places provided. You are allowed to create extra cells in the workbook to check out your reasoning and otherwise make notes. Just make sure that your \"final answer\" for each question is in the place marked for that purpose. \n",
    "\n",
    "This is an open-Internet examination. You may use any books and materials, and the entire Internet -- as well as all of the class workbooks and examples -- in answering these questions. You may not use direct communication with other *people* in completing this workbook. \n",
    "\n",
    "Please do not discuss or share this workbook with others until after the exam window has closed. Some people are taking the exam late. \n",
    "\n",
    "There are 10 questions. Each is worth 10 points. These questions vary greatly in difficulty. Point value does not indicate difficulty. \n",
    "\n",
    "Please note that in general, your code should work for all data having the same overall form as in the examples. \n",
    "\n",
    "_In Summer 2019, the final was a 75-minute proctored exam. The Fall 2019 final is a take-home. Any resemblance of these questions to the final for Fall 2019 is pure coincidence._\n",
    "\n",
    "## For Fall 2019\n",
    "\n",
    "There are 6 questions. Q1-Q5 are worth 10 points each: 2 on numpy, 2 on pandas and one on matplotlib. Q6 is a small case study worth 50 points, these questions vary greatly in difficulty. Point value does not indicate difficulty.\n",
    "\n",
    "The final will be available on Canvas on Thursday 12/12 at 8:00 am and due on Saturday 12/14 by noon. The exam will be about 2 hours. The questions will cover Unit 3 onward. Multiple submissions will be permitted though _only the latest_ one will count.\n",
    "\n",
    "We will monitor&dagger; the Canvas Discussion (and the state of the JH server) during the day on Thursday (8:00 am to 4:00 pm), Friday afternoon (noon to 4:00 pm) and Saturday morning (8:00 am to noon).\n",
    "\n",
    "It will be an open-Internet examination. You may use any books &amp; materials and the entire Internet &mdash; as well as all of the class workbooks and examples &mdash; in answering questions. _However, you may not communicate with other people in doing so._ Please do not discuss or share this workbook with others until after the exam window has closed (at noon on Saturday 12/14).\n",
    "\n",
    "&dagger; Monitoring outside of the specified hours is <span style=\"text-decoration: underline;\">likely to be spotty</span>. Please plan accordingly.\n",
    "\n",
    "<hr />\n",
    "\n",
    "<img align=\"right\" style=\"padding-left:10px; height: 45%; width: 45%\" src=\"figures/beetle_in_the_desert.jpg\" ></a>\n",
    "\n",
    "## Fall 2019 Course Evaluations\n",
    "\n",
    "Fall 2019 Course Evaluations are now open and will close at 11:59pm on Wednesday, December 11. Please be sure to fill them out!\n",
    "\n",
    "## Thanks!\n",
    "\n",
    "Thanks for joining me in this journey. Good luck in the future! "
   ]
  },
  {
   "cell_type": "markdown",
   "metadata": {},
   "source": [
    "### Problem 1\n",
    "Consider the `DataFrame` `df` defined as follows:  "
   ]
  },
  {
   "cell_type": "code",
   "execution_count": null,
   "metadata": {},
   "outputs": [],
   "source": [
    "import pandas as pd\n",
    "import numpy as np\n",
    "df = pd.DataFrame({\n",
    "    'name': ['alva', 'sue', 'frank', 'george', 'sarah'],\n",
    "    'cats': [1, 0, 3, 0, 0],\n",
    "    'dogs': [0, 1, 2, 3, 1]\n",
    "})\n",
    "df"
   ]
  },
  {
   "cell_type": "markdown",
   "metadata": {},
   "source": [
    "Define a `DataFrame` `two_or_more_dogs` consisting of the rows of `df` in which two or more dogs are listed."
   ]
  },
  {
   "cell_type": "code",
   "execution_count": null,
   "metadata": {},
   "outputs": [],
   "source": [
    "# Your answer: \n",
    "two_or_more_dogs = ...\n",
    "two_or_more_dogs"
   ]
  },
  {
   "cell_type": "markdown",
   "metadata": {},
   "source": [
    "### Problem 2\n",
    "Is your expression a `view`? Why or why not? "
   ]
  },
  {
   "cell_type": "markdown",
   "metadata": {},
   "source": [
    "___Your answer:___"
   ]
  },
  {
   "cell_type": "markdown",
   "metadata": {},
   "source": [
    "### Problem 3 \n",
    "Define an `array` `numeric` consisting of the numeric data from `df`, that works no matter how many rows `df` has. This should return `array([1,0], [0,1], [3,2], [0,1])` for the above example.\n",
    "Hint: This is the transpose of what you would get via converting the `DataFrame` straightforwardly. "
   ]
  },
  {
   "cell_type": "code",
   "execution_count": null,
   "metadata": {},
   "outputs": [],
   "source": [
    "# Your answer: \n",
    "numeric = ...\n",
    "numeric"
   ]
  },
  {
   "cell_type": "markdown",
   "metadata": {},
   "source": [
    "Consider the data: "
   ]
  },
  {
   "cell_type": "code",
   "execution_count": null,
   "metadata": {},
   "outputs": [],
   "source": [
    "df2 = pd.DataFrame({\n",
    "    'name': ['alva', 'walter', 'frank', 'george', 'josie'],\n",
    "    'ferrets': [1, 0, 3, 0, 0],\n",
    "})\n",
    "#df2"
   ]
  },
  {
   "cell_type": "markdown",
   "metadata": {},
   "source": [
    "### Problem 4\n",
    "Merge `df` and `df2` to get a total description of the pets of all mentioned people. People should be present from both tables. A person not listed in a table is assumed to have 0 pets of those kinds. This should work regardless of the number of rows in the two `DataFrames`. *Hint: watch out for special values in the result and replace them with 0's when they appear. This is a multi-step process.*"
   ]
  },
  {
   "cell_type": "code",
   "execution_count": null,
   "metadata": {},
   "outputs": [],
   "source": [
    "# Your answer \n",
    "pets = ...\n",
    "pets"
   ]
  },
  {
   "cell_type": "markdown",
   "metadata": {},
   "source": [
    "### Problem 5\n",
    "Consider the `array`:"
   ]
  },
  {
   "cell_type": "code",
   "execution_count": null,
   "metadata": {},
   "outputs": [],
   "source": [
    "data = np.array([\n",
    "    [1, 3, 3],\n",
    "    [4, 6, 1],\n",
    "    [2, 0, 0],\n",
    "    [1, 3, 0]\n",
    "])\n",
    "data"
   ]
  },
  {
   "cell_type": "markdown",
   "metadata": {},
   "source": [
    "Define `norm1` as an expression of `data`, but with the mean of each column subtracted from the column so that the resulting mean is zero.  Hint: use broadcasting. "
   ]
  },
  {
   "cell_type": "code",
   "execution_count": null,
   "metadata": {
    "scrolled": true
   },
   "outputs": [],
   "source": [
    "# Your answer:\n",
    "norm1 = ...\n",
    "norm1"
   ]
  },
  {
   "cell_type": "markdown",
   "metadata": {},
   "source": [
    "### Problem 6\n",
    "Define `norm2` from `data` by only normalizing the third column and leaving the others alone. Hint: subtracting zero does nothing. "
   ]
  },
  {
   "cell_type": "code",
   "execution_count": null,
   "metadata": {},
   "outputs": [],
   "source": [
    "# Your answer: \n",
    "norm2 = ...\n",
    "norm2"
   ]
  },
  {
   "cell_type": "markdown",
   "metadata": {},
   "source": [
    "### Problem 7\n",
    "Consider the file `bears.csv`: "
   ]
  },
  {
   "cell_type": "code",
   "execution_count": null,
   "metadata": {},
   "outputs": [],
   "source": [
    "%more bears.csv"
   ]
  },
  {
   "cell_type": "markdown",
   "metadata": {},
   "source": [
    "Read this into a `DataFrame` `bears` , preserving row and column labels from the file. Hint: declare an `index`. Again, this should work regardless of the rows in `bears.csv`. "
   ]
  },
  {
   "cell_type": "code",
   "execution_count": null,
   "metadata": {},
   "outputs": [],
   "source": [
    "# Your answer: \n",
    "bears = ...\n",
    "bears"
   ]
  },
  {
   "cell_type": "markdown",
   "metadata": {},
   "source": [
    "### Problem 8:\n",
    "Explicitly define the preconditions and postconditions for the function `knn.fit` in the Classification examples: \n",
    "Recall how it was called: \n",
    "\n",
    "        from sklearn.neighbors import KNeighborsClassifier\n",
    "        knn = KNeighborsClassifier(n_neighbors=6)\n",
    "        knn.fit(iris['data'], iris['target'])"
   ]
  },
  {
   "cell_type": "markdown",
   "metadata": {},
   "source": [
    "___Your answer:___"
   ]
  },
  {
   "cell_type": "markdown",
   "metadata": {},
   "source": [
    "### Problem 9: \n",
    "In a short paragraph, explain why \"clustering\" cannot ever be used for \"classification\". "
   ]
  },
  {
   "cell_type": "markdown",
   "metadata": {},
   "source": [
    "___Your answer:___"
   ]
  },
  {
   "cell_type": "markdown",
   "metadata": {},
   "source": [
    "### Problem 10: \n",
    "In a short paragraph, explain why machine-based \"classification\" of the kind we studied in week 4 cannot ever become as accurate as a human expert in classifying the same data. "
   ]
  },
  {
   "cell_type": "markdown",
   "metadata": {},
   "source": [
    "___Your answer:___"
   ]
  }
 ],
 "metadata": {
  "kernelspec": {
   "display_name": "Python 3",
   "language": "python",
   "name": "python3"
  },
  "language_info": {
   "codemirror_mode": {
    "name": "ipython",
    "version": 3
   },
   "file_extension": ".py",
   "mimetype": "text/x-python",
   "name": "python",
   "nbconvert_exporter": "python",
   "pygments_lexer": "ipython3",
   "version": "3.7.4"
  }
 },
 "nbformat": 4,
 "nbformat_minor": 2
}
