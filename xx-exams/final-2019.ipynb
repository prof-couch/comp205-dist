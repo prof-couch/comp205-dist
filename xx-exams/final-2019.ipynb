{
 "cells": [
  {
   "cell_type": "markdown",
   "metadata": {},
   "source": [
    "# COMP 205: Final Examination\n",
    "\n",
    "## Fall 2019\n",
    "\n",
    "Please enter your answers into this workbook in the places provided. You will need to create extra cells in the workbook to explain your reasoning in support of your answers. Please make sure that your \"final answer\" for each question is in the place marked for that purpose. \n",
    "\n",
    "This is an open-Internet examination. You may use any books and materials, and the entire Internet -- as well as all of the class workbooks and examples -- in answering these questions. You may not use direct communication with other *people* in completing this workbook. \n",
    "\n",
    "There are 6 questions. Q1-Q5 are worth 10 points each, Q6 is worth 50 points. These questions vary greatly in difficulty. Point value does not indicate difficulty. \n",
    "\n",
    "Please note that in general, your code should work for all data having the same overall form as in the examples. "
   ]
  },
  {
   "cell_type": "markdown",
   "metadata": {},
   "source": [
    "### 1. Numpy Problem 1\n",
    "\n",
    "The next cell downloads the iris dataset into your notebook, just run it."
   ]
  },
  {
   "cell_type": "code",
   "execution_count": null,
   "metadata": {},
   "outputs": [],
   "source": [
    "import numpy as np\n",
    "from sklearn import datasets\n",
    "iris = datasets.load_iris()\n",
    "iris_data = iris['data']"
   ]
  },
  {
   "cell_type": "markdown",
   "metadata": {},
   "source": [
    "Write an expression for `condition` so as to filter the rows of iris_2d that has petallength (3rd column) >= 1.5 and sepallength (1st column) < 5.0"
   ]
  },
  {
   "cell_type": "code",
   "execution_count": null,
   "metadata": {},
   "outputs": [],
   "source": [
    "condition = ...\n",
    "iris_data[condition]"
   ]
  },
  {
   "cell_type": "markdown",
   "metadata": {},
   "source": [
    "### 2. Numpy Problem 2\n",
    "\n",
    "The code in the following cell loads, cleans, normalizes and shows Happiness data as a Pandas DataFrame. No need to change it, just run it!"
   ]
  },
  {
   "cell_type": "code",
   "execution_count": null,
   "metadata": {},
   "outputs": [],
   "source": [
    "from sklearn.preprocessing import StandardScaler\n",
    "import pandas as pd\n",
    "data1 = pd.read_csv('happiness-report.csv').dropna().drop(['Country', 'Year'], axis=1)\n",
    "scaler = StandardScaler()\n",
    "pd.DataFrame(scaler.fit_transform(data1.to_numpy()), dtype='float32', columns=list(data1))"
   ]
  },
  {
   "cell_type": "markdown",
   "metadata": {},
   "source": [
    "Find the correlation between the Happiness Score and each of the columns of the happiness report. \n",
    "\n",
    "**Hint:** The function `np.corrcoef` can be used to find the correlation between two columns. For example, \n",
    "\n",
    "```\n",
    "np.corrcoef(iris_data[:, 0], iris_data[:, 2])[0, 1] \n",
    "```\n",
    "\n",
    "returns the correlation between SepalLength(1st column) and PetalLength(3rd column) for `iris_data`. The results should be of the form shown below, though the correlation values shown are not real, _they are for illustration only._\n",
    "\n",
    "```\n",
    "1 -0.01387966267785501\n",
    "2 0.032361001774926956\n",
    "3 0.3820632143188447\n",
    ". . .\n",
    "9 0.5346040379913426\n",
    "10 0.7990333389497359\n",
    "\n",
    "```"
   ]
  },
  {
   "cell_type": "markdown",
   "metadata": {},
   "source": [
    "### 3. Pandas Problem 1\n",
    "\n",
    "Given a pandas DataFrame df\n",
    "\n",
    "1. Interchange columns `'b'` and `'d'` to obtain `df2`\n",
    "2. Interchange rows 1 and 2 in `df2` to obtain `df3` ([Hint](https://stackoverflow.com/questions/46890972/swapping-rows-within-the-same-pandas-dataframe)).\n",
    "3. Verify that after `df3` was obtained, `df2`'s value didn't change."
   ]
  },
  {
   "cell_type": "code",
   "execution_count": null,
   "metadata": {},
   "outputs": [],
   "source": [
    "df = pd.DataFrame(np.arange(20).reshape(4, 5), columns=list('abcde'))\n",
    "df"
   ]
  },
  {
   "cell_type": "markdown",
   "metadata": {},
   "source": [
    "### 4. Pandas Problem 2\n",
    "\n",
    "Run the following 4 cells, then answer the questions after"
   ]
  },
  {
   "cell_type": "code",
   "execution_count": null,
   "metadata": {},
   "outputs": [],
   "source": [
    "df4 = pd.DataFrame(np.arange(9).reshape(3, 3), columns=list('abc')) # Line 1\n",
    "df4['rows'] = list('ijk')                                           # Line 2\n",
    "df5 = df4.set_index('rows')                                         # Line 3\n",
    "df6 = df5                                                           # Line 4\n",
    "df7 = df6[['a', 'b', 'c']]                                          # Line 5\n",
    "df5.loc['j':'j', 'b':'b'] = 42                                      # Line 6"
   ]
  },
  {
   "cell_type": "code",
   "execution_count": null,
   "metadata": {},
   "outputs": [],
   "source": [
    "df5"
   ]
  },
  {
   "cell_type": "code",
   "execution_count": null,
   "metadata": {},
   "outputs": [],
   "source": [
    "df6"
   ]
  },
  {
   "cell_type": "code",
   "execution_count": null,
   "metadata": {},
   "outputs": [],
   "source": [
    "df7"
   ]
  },
  {
   "cell_type": "markdown",
   "metadata": {},
   "source": [
    "#### Pandas Problem 2 questions\n",
    "\n",
    "1. Even though `df6` is created in line 4, _before_ any elements of `df5` are set to 42, why do we see a 42 in `df6`?\n",
    "2. How do you explain the difference between `df6` and `df7`?\n",
    "\n",
    "**Your answer:**"
   ]
  },
  {
   "cell_type": "markdown",
   "metadata": {},
   "source": [
    "### 5. Matplotlib Problem 1\n",
    "\n",
    "Randall Munroe, the creator of XKCD cartoons, used Matplotlib to create this graph:\n",
    "\n",
    "<img align=\"center\" style=\"padding:10px; height: 50%; width: 50%;\" src=\"figures/bacon-health.png\">\n",
    "\n",
    "The code is shown below"
   ]
  },
  {
   "cell_type": "code",
   "execution_count": null,
   "metadata": {},
   "outputs": [],
   "source": [
    "%matplotlib inline"
   ]
  },
  {
   "cell_type": "code",
   "execution_count": null,
   "metadata": {},
   "outputs": [],
   "source": [
    "import matplotlib\n",
    "import matplotlib.pyplot as plt\n",
    "import numpy as np"
   ]
  },
  {
   "cell_type": "code",
   "execution_count": null,
   "metadata": {},
   "outputs": [],
   "source": [
    "with plt.xkcd():\n",
    "    # Based on \"Stove Ownership\" from XKCD by Randall Munroe\n",
    "    # https://xkcd.com/418/\n",
    "    fig = plt.figure(figsize=(6.1, 6.2))\n",
    "    ax = fig.add_axes((0.1, 0.2, 0.8, 0.7))\n",
    "    ax.spines['right'].set_color('none')\n",
    "    ax.spines['top'].set_color('none')\n",
    "    ax.set_xticks([])\n",
    "    ax.set_yticks([])\n",
    "    ax.set_ylim([-30, 10])\n",
    "\n",
    "    data = np.ones(100)\n",
    "    data[70:] -= np.arange(30)\n",
    "\n",
    "    ax.annotate(\n",
    "        'THE DAY I REALIZED\\nI COULD COOK BACON\\nWHENEVER I WANTED',\n",
    "        xy=(70, 1), arrowprops=dict(arrowstyle='->'), xytext=(15, -10))\n",
    "\n",
    "    ax.plot(data)\n",
    "\n",
    "    ax.set_xlabel('time')\n",
    "    ax.set_ylabel('my overall health')\n",
    "    fig.text(\n",
    "        0.5, 0.05,\n",
    "        '\"Stove Ownership\" from xkcd by Randall Munroe',\n",
    "        ha='center')"
   ]
  },
  {
   "cell_type": "markdown",
   "metadata": {},
   "source": [
    "Write a modified version of the above code to tell a different story (as depicted below).\n",
    "\n",
    "<img align=\"center\" style=\"padding:10px; height: 50%; width: 50%;\" src=\"figures/health-graph.png\">"
   ]
  },
  {
   "cell_type": "markdown",
   "metadata": {},
   "source": [
    "### 6. Case Study\n",
    "\n",
    "A group of researchers asked 54 questions each from research subjects about their relationships. Each question was scored on a 5-point scale (recorded as digits 0 &ndash; 4). A final attribute 'Class' was used to record whether the relationship later ended in a divorce. The dataset [is available](https://archive.ics.uci.edu/ml/datasets/Divorce+Predictors+data+set#) in divorce.csv."
   ]
  },
  {
   "cell_type": "code",
   "execution_count": null,
   "metadata": {},
   "outputs": [],
   "source": [
    "%more divorce.csv"
   ]
  },
  {
   "cell_type": "markdown",
   "metadata": {},
   "source": [
    "Based on the data you are to create a K-neighbors classifier with 7 neighbors.\n",
    "\n",
    "Six additional subjects answered the same questions; their answers are recorded in the following variables:\n",
    "<span style=\"font-size:75%;\">\n",
    "\n",
    "s1 = [4, 0, 1, 2, 4, 0, 4, 3, 2, 2, 0, 1, 4, 0, 0, 1, 1, 2, 2, 1, 2, 4, 1, 3, 0, 1, 1, 4, 1, 0, 0, 1, 2, 2, 0, 1, 1, 4, 0, 0, 2, 4, 1, 1, 0, 3, 0, 0, 1, 0, 4, 3, 0, 2]\n",
    "<br/>\n",
    "s2 = [3, 0, 2, 2, 3, 1, 3, 4, 0, 4, 0, 1, 1, 2, 1, 3, 0, 4, 3, 4, 2, 1, 0, 1, 0, 4, 0, 2, 3, 2, 4, 3, 4, 1, 1, 2, 4, 1, 4, 4, 0, 3, 1, 1, 2, 4, 2, 3, 3, 4, 4, 1, 2, 4]\n",
    "<br/>\n",
    "s3 = [1, 2, 2, 4, 4, 3, 2, 2, 2, 1, 3, 1, 1, 0, 3, 2, 4, 0, 4, 3, 0, 4, 1, 3, 0, 2, 2, 4, 1, 0, 1, 0, 3, 3, 1, 2, 1, 3, 1, 1, 3, 1, 2, 4, 4, 0, 2, 3, 3, 3, 3, 1, 2, 1]\n",
    "<br/>\n",
    "s4 = [0, 2, 3, 0, 4, 0, 1, 1, 1, 4, 1, 3, 0, 3, 3, 3, 0, 1, 0, 3, 2, 0, 1, 0, 4, 2, 0, 2, 0, 0, 2, 4, 2, 3, 4, 0, 1, 1, 0, 0, 0, 1, 1, 2, 4, 3, 4, 1, 2, 4, 3, 1, 0, 2]\n",
    "<br/>\n",
    "s5 = [4, 0, 4, 2, 2, 1, 2, 0, 1, 4, 0, 0, 0, 4, 0, 0, 0, 4, 0, 0, 2, 1, 4, 0, 3, 1, 0, 0, 2, 0, 4, 0, 2, 2, 4, 1, 2, 3, 2, 2, 0, 2, 0, 4, 1, 1, 4, 1, 1, 3, 2, 3, 3, 1]\n",
    "<br/>\n",
    "s6 = [3, 0, 3, 3, 0, 1, 0, 0, 2, 1, 3, 3, 1, 0, 2, 2, 1, 1, 0, 0, 2, 3, 4, 0, 3, 2, 3, 4, 2, 0, 3, 2, 1, 2, 3, 3, 2, 0, 0, 3, 1, 2, 4, 2, 0, 1, 3, 3, 1, 0, 2, 3, 2, 1]\n",
    "</span>\n",
    "\n",
    "Using the classifier, predict how the subjects' relationship is likely to fare."
   ]
  },
  {
   "cell_type": "markdown",
   "metadata": {},
   "source": [
    "# When you are done with this notebook, \n",
    "* Save and checkpoint. \n",
    "* Ensure that the name of this file is precisely `final-2019.ipynb`. \n",
    "* Save and checkpoint the notebook. "
   ]
  },
  {
   "cell_type": "markdown",
   "metadata": {},
   "source": [
    "* If your Jupyter installation can download the notebook as a PDF,\n",
    "    * (File >> Download as >> PDF via LaTeX (.pdf)), \n",
    "    * Rename the downloaded file to `<loginid>-final-2019.pdf`. In other words, my filename would be `jsingh11-final-2019.pdf`.\n",
    "    * Submit the file `<loginid>-final-2019.pdf` to Canvas.\n",
    "* Otherwise \n",
    "    * (File >> Download as >> Notebook (.ipynb)). In other words, my filename would be `jsingh11-final-2019.ipynb`.\n",
    "    * Rename the downloaded file to `<loginid>-final-2019.ipynb`,\n",
    "    * Submit the file `<loginid>-final-2019.ipynb` to Canvas."
   ]
  },
  {
   "cell_type": "code",
   "execution_count": null,
   "metadata": {},
   "outputs": [],
   "source": []
  }
 ],
 "metadata": {
  "kernelspec": {
   "display_name": "Python 3",
   "language": "python",
   "name": "python3"
  },
  "language_info": {
   "codemirror_mode": {
    "name": "ipython",
    "version": 3
   },
   "file_extension": ".py",
   "mimetype": "text/x-python",
   "name": "python",
   "nbconvert_exporter": "python",
   "pygments_lexer": "ipython3",
   "version": "3.7.4"
  }
 },
 "nbformat": 4,
 "nbformat_minor": 2
}
