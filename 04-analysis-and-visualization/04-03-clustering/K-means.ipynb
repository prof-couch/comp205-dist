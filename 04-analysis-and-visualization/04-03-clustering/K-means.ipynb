{
 "cells": [
  {
   "cell_type": "markdown",
   "metadata": {},
   "source": [
    "# K-Means\n",
    "#### Kmeans is a clustering algorithm that bases values off of distance from generated lines"
   ]
  },
  {
   "cell_type": "code",
   "execution_count": 32,
   "metadata": {},
   "outputs": [],
   "source": [
    "#Inputs: K (number of groups) and a vector x1 to xn\n",
    "#Outputs:\n",
    "\n",
    "\n",
    "#The algorithm generated random 'centroids' and does this until the distance is minimized\n",
    "#Split data, compute average of each side of the split, then calculate distance between them\n",
    "# 1/n sum(x)\n",
    "\n",
    "#One of the fastest algorithms, which is why it is used so often\n",
    "# O(iterations*clusters*instances*dimensions)"
   ]
  },
  {
   "cell_type": "code",
   "execution_count": 33,
   "metadata": {},
   "outputs": [
    {
     "data": {
      "text/plain": [
       "array([0, 0, 0, 1, 1, 0, 0, 1, 1])"
      ]
     },
     "execution_count": 33,
     "metadata": {},
     "output_type": "execute_result"
    },
    {
     "data": {
      "image/png": "[encoded data removed]",
      "text/plain": [
       "<Figure size 432x288 with 1 Axes>"
      ]
     },
     "metadata": {
      "needs_background": "light"
     },
     "output_type": "display_data"
    }
   ],
   "source": [
    "from sklearn.cluster import KMeans\n",
    "import numpy \n",
    "import matplotlib.pyplot as plt \n",
    "\n",
    "#Our data points:\n",
    "X = numpy.array([[2, 2], [1, 1], [4, 4], [-1, -1], [-2, -2], [2.5, 2.5],[2,-2],[-3,3],[-1.5,1.5]])\n",
    "\n",
    "#This unzips the array 'X' into two separate x,y coordinate lists then plots it\n",
    "plt.scatter(*zip(*X))\n",
    "\n",
    "#Our command to find the kmeans, then add labels\n",
    "kmeans = KMeans(n_clusters=2, random_state=0).fit(X)\n",
    "kmeans.labels_"
   ]
  },
  {
   "cell_type": "code",
   "execution_count": 34,
   "metadata": {},
   "outputs": [
    {
     "data": {
      "text/plain": [
       "array([1, 0])"
      ]
     },
     "execution_count": 34,
     "metadata": {},
     "output_type": "execute_result"
    }
   ],
   "source": [
    "#You can use your current groups to predict groups for new points\n",
    "predicted_val = kmeans.predict([[0, 0], [12, 3]])\n",
    "predicted_val"
   ]
  },
  {
   "cell_type": "code",
   "execution_count": 35,
   "metadata": {},
   "outputs": [
    {
     "data": {
      "text/plain": [
       "array([[ 2.3  ,  1.5  ],\n",
       "       [-1.875,  0.375]])"
      ]
     },
     "execution_count": 35,
     "metadata": {},
     "output_type": "execute_result"
    }
   ],
   "source": [
    "#You can also display what the center locations for the clusters are - note that these will change if any poins are added/moved\n",
    "center_loc = kmeans.cluster_centers_\n",
    "center_loc"
   ]
  }
 ],
 "metadata": {
  "kernelspec": {
   "display_name": "Python 3",
   "language": "python",
   "name": "python3"
  },
  "language_info": {
   "codemirror_mode": {
    "name": "ipython",
    "version": 3
   },
   "file_extension": ".py",
   "mimetype": "text/x-python",
   "name": "python",
   "nbconvert_exporter": "python",
   "pygments_lexer": "ipython3",
   "version": "3.7.4"
  }
 },
 "nbformat": 4,
 "nbformat_minor": 2
}
