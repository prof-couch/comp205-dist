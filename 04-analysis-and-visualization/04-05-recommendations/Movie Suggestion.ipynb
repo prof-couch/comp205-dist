{
 "cells": [
  {
   "cell_type": "markdown",
   "metadata": {},
   "source": [
    "# Recommendations:\n",
    "Recommendations can be extremely useful in Computer Science. An easy way to do this is to compare different traits or values for different objects.\n",
    "A common way to do this is a Jaccard Index, which is the intersect of a set/list divided by the union of the set. A higher jaccard index will mean a higher similarity. \n",
    "### Movie Suggestion:\n",
    "We will start this example off by comparing different movies, then recommending similar ones."
   ]
  },
  {
   "cell_type": "markdown",
   "metadata": {},
   "source": [
    "##### Data:\n",
    "We will import the data using pandas and store it as a csv. To make sure the data was imported correctly we can use the \"head()\" command."
   ]
  },
  {
   "cell_type": "code",
   "execution_count": 1,
   "metadata": {
    "scrolled": true
   },
   "outputs": [
    {
     "data": {
      "text/html": [
       "<div>\n",
       "<style scoped>\n",
       "    .dataframe tbody tr th:only-of-type {\n",
       "        vertical-align: middle;\n",
       "    }\n",
       "\n",
       "    .dataframe tbody tr th {\n",
       "        vertical-align: top;\n",
       "    }\n",
       "\n",
       "    .dataframe thead th {\n",
       "        text-align: right;\n",
       "    }\n",
       "</style>\n",
       "<table border=\"1\" class=\"dataframe\">\n",
       "  <thead>\n",
       "    <tr style=\"text-align: right;\">\n",
       "      <th></th>\n",
       "      <th>Movie ID:</th>\n",
       "      <th>Name:</th>\n",
       "      <th>Rating:</th>\n",
       "      <th>Genre:</th>\n",
       "      <th>Additional Genre:</th>\n",
       "      <th>Producer:</th>\n",
       "      <th>No info:</th>\n",
       "    </tr>\n",
       "  </thead>\n",
       "  <tbody>\n",
       "    <tr>\n",
       "      <th>0</th>\n",
       "      <td>1</td>\n",
       "      <td>The Prestige</td>\n",
       "      <td>PG-13</td>\n",
       "      <td>Science_Fiction</td>\n",
       "      <td>Thriller</td>\n",
       "      <td>NaN</td>\n",
       "      <td>NaN</td>\n",
       "    </tr>\n",
       "    <tr>\n",
       "      <th>1</th>\n",
       "      <td>2</td>\n",
       "      <td>Fast &amp; Furious</td>\n",
       "      <td>PG-13</td>\n",
       "      <td>Crime</td>\n",
       "      <td>Thriller</td>\n",
       "      <td>NaN</td>\n",
       "      <td>NaN</td>\n",
       "    </tr>\n",
       "    <tr>\n",
       "      <th>2</th>\n",
       "      <td>3</td>\n",
       "      <td>Infinity War</td>\n",
       "      <td>PG-13</td>\n",
       "      <td>Fantasy</td>\n",
       "      <td>Science_Fiction</td>\n",
       "      <td>NaN</td>\n",
       "      <td>NaN</td>\n",
       "    </tr>\n",
       "    <tr>\n",
       "      <th>3</th>\n",
       "      <td>4</td>\n",
       "      <td>Wedding Crashers</td>\n",
       "      <td>R</td>\n",
       "      <td>Romance</td>\n",
       "      <td>Comedy</td>\n",
       "      <td>NaN</td>\n",
       "      <td>NaN</td>\n",
       "    </tr>\n",
       "    <tr>\n",
       "      <th>4</th>\n",
       "      <td>5</td>\n",
       "      <td>Avatar</td>\n",
       "      <td>PG-13</td>\n",
       "      <td>Fantasy</td>\n",
       "      <td>Science_Fiction</td>\n",
       "      <td>NaN</td>\n",
       "      <td>NaN</td>\n",
       "    </tr>\n",
       "    <tr>\n",
       "      <th>5</th>\n",
       "      <td>6</td>\n",
       "      <td>Titanic</td>\n",
       "      <td>PG-13</td>\n",
       "      <td>Drama</td>\n",
       "      <td>Disaster_Film</td>\n",
       "      <td>NaN</td>\n",
       "      <td>NaN</td>\n",
       "    </tr>\n",
       "  </tbody>\n",
       "</table>\n",
       "</div>"
      ],
      "text/plain": [
       "   Movie ID:             Name: Rating:           Genre: Additional Genre:  \\\n",
       "0          1      The Prestige   PG-13  Science_Fiction          Thriller   \n",
       "1          2    Fast & Furious   PG-13            Crime          Thriller   \n",
       "2          3      Infinity War   PG-13          Fantasy   Science_Fiction   \n",
       "3          4  Wedding Crashers       R          Romance            Comedy   \n",
       "4          5            Avatar   PG-13          Fantasy   Science_Fiction   \n",
       "5          6           Titanic   PG-13            Drama     Disaster_Film   \n",
       "\n",
       "   Producer:  No info:  \n",
       "0        NaN       NaN  \n",
       "1        NaN       NaN  \n",
       "2        NaN       NaN  \n",
       "3        NaN       NaN  \n",
       "4        NaN       NaN  \n",
       "5        NaN       NaN  "
      ]
     },
     "execution_count": 1,
     "metadata": {},
     "output_type": "execute_result"
    }
   ],
   "source": [
    "import pandas\n",
    "from pandas import DataFrame\n",
    "\n",
    "movies = pandas.read_csv('MoviesList.csv',header = 0) \n",
    "\n",
    "movies.head(6)"
   ]
  },
  {
   "cell_type": "markdown",
   "metadata": {},
   "source": [
    "#### More visualization:\n",
    "Here we can look at what the columns are. Since we don't need all of them, we can make a new dataframe with just the ones that we want."
   ]
  },
  {
   "cell_type": "code",
   "execution_count": 3,
   "metadata": {},
   "outputs": [
    {
     "data": {
      "text/plain": [
       "Index(['Movie ID:', 'Name:', 'Rating:', 'Genre:', 'Additional Genre:',\n",
       "       'Producer:', 'No info:'],\n",
       "      dtype='object')"
      ]
     },
     "execution_count": 3,
     "metadata": {},
     "output_type": "execute_result"
    }
   ],
   "source": [
    "movies.columns"
   ]
  },
  {
   "cell_type": "code",
   "execution_count": 4,
   "metadata": {},
   "outputs": [],
   "source": [
    "movies_genres = DataFrame(movies, columns = ['Name:','Genre:','Rating:','Additional Genre:'])"
   ]
  },
  {
   "cell_type": "markdown",
   "metadata": {},
   "source": [
    "#### Jaccard Function:\n",
    "We will now write the jaccard similarity function. If you are unsure of the jaccard still, you can look up more information online."
   ]
  },
  {
   "cell_type": "code",
   "execution_count": 5,
   "metadata": {},
   "outputs": [],
   "source": [
    "def jaccard_similarity(list1, list2):\n",
    "    intersection = len(list(set(list1).intersection(list2)))\n",
    "    union = (len(list1) + len(list2)) - intersection\n",
    "    return float(intersection / union)"
   ]
  },
  {
   "cell_type": "markdown",
   "metadata": {},
   "source": [
    "#### Suggesting the movie:\n",
    "First, we will find the length of the list of movies. Next we will set up the loops to compare all the different movies, store the most similar one, and print that movie."
   ]
  },
  {
   "cell_type": "code",
   "execution_count": 6,
   "metadata": {},
   "outputs": [],
   "source": [
    "num_movies = len(movies)"
   ]
  },
  {
   "cell_type": "code",
   "execution_count": 7,
   "metadata": {},
   "outputs": [],
   "source": [
    "def movie_suggestion(movie_id):\n",
    "    print('If you liked: ' + movies_genres.iloc[movie_id-1]['Name:'] + '\\n')\n",
    "    print('Similar movies that you would like are:\\n')\n",
    "    l1 = [movies_genres.iloc[movie_id-1]['Genre:'],movies_genres.iloc[movie_id - 1]['Additional Genre:'],movies_genres.iloc[movie_id - 1]['Rating:']] # (1)\n",
    "    for counter in range(0,num_movies-1): # (2)\n",
    "        l2 = [movies_genres.iloc[counter]['Genre:'],movies_genres.iloc[counter]['Additional Genre:'],movies_genres.iloc[counter]['Rating:']] #(1)\n",
    "        x = jaccard_similarity(l1,l2) \n",
    "        if (x > .4): # (3)\n",
    "            if (counter != movie_id - 1): # (4)\n",
    "                print(movies_genres.iloc[counter]['Name:']) # (5)"
   ]
  },
  {
   "cell_type": "markdown",
   "metadata": {},
   "source": [
    "##### Step by step:\n",
    "The first l1 and l2 are the different lists of data we will be comparing (1)\n",
    "\n",
    "We do this by looping through all of the rows and calculating the jaccard comparisons (2)\n",
    "\n",
    "We then take only the index's that are above a threshold, .4 in this case (3)\n",
    "\n",
    "Make sure that we don't recommend the movie itself (4)\n",
    "\n",
    "Finaly we print."
   ]
  },
  {
   "cell_type": "markdown",
   "metadata": {},
   "source": [
    "#### Let's test it!"
   ]
  },
  {
   "cell_type": "code",
   "execution_count": 8,
   "metadata": {},
   "outputs": [
    {
     "name": "stdout",
     "output_type": "stream",
     "text": [
      "If you liked: Titanic\n",
      "\n",
      "Similar movies that you would like are:\n",
      "\n",
      "The Proposal\n",
      "Crazy Rich Asians\n",
      "The Boy in the Striped Pajamas\n",
      "Les Miserables\n",
      "Interstellar\n",
      "Geostorm\n",
      "Super Size Me\n"
     ]
    }
   ],
   "source": [
    "movie_suggestion(6)"
   ]
  },
  {
   "cell_type": "markdown",
   "metadata": {},
   "source": [
    "Looks like a good result, everything seems to work."
   ]
  },
  {
   "cell_type": "markdown",
   "metadata": {},
   "source": [
    "# Let's try this:\n",
    "The purpose of this is to apply the same concept to a different type of data set, one that uses binary operators for different traits.\n",
    "\n",
    "\n",
    "\n",
    "\n",
    "Don't change this next cell; just run it."
   ]
  },
  {
   "cell_type": "code",
   "execution_count": null,
   "metadata": {},
   "outputs": [],
   "source": [
    "from client.api.notebook import Notebook\n",
    "ok = Notebook('Movie Suggestion.ok')\n",
    "ok.auth(inline=True)"
   ]
  },
  {
   "cell_type": "markdown",
   "metadata": {},
   "source": [
    "Import the set of data for RecomendationsProblem as a df named \"ppl\""
   ]
  },
  {
   "cell_type": "code",
   "execution_count": null,
   "metadata": {},
   "outputs": [],
   "source": []
  },
  {
   "cell_type": "code",
   "execution_count": null,
   "metadata": {},
   "outputs": [],
   "source": [
    "_ = ok.grade('q01')"
   ]
  },
  {
   "cell_type": "markdown",
   "metadata": {},
   "source": [
    "### DICUSS:\n",
    "How do you think you should sort through this data and compare it? \n",
    "Can we take the same direct list method that we did last time?"
   ]
  },
  {
   "cell_type": "code",
   "execution_count": null,
   "metadata": {},
   "outputs": [],
   "source": []
  },
  {
   "cell_type": "markdown",
   "metadata": {},
   "source": [
    "#### Create a function \n",
    "Name this \"friend_recommendation.\"Have it take a parameter of a persons row index and return the person they have the most common with, or a statement containing the person who they have the most in common with. Make sure it works will any row index for any data set, in case this dataset was to be expanded, but follow the same format.\n",
    "\n",
    "The formatting for the print doesn't have to be anything specific, just the information that you think is necessary."
   ]
  },
  {
   "cell_type": "code",
   "execution_count": 1,
   "metadata": {},
   "outputs": [],
   "source": []
  },
  {
   "cell_type": "code",
   "execution_count": null,
   "metadata": {},
   "outputs": [],
   "source": [
    "_ = ok.grade('q02')"
   ]
  }
 ],
 "metadata": {
  "kernelspec": {
   "display_name": "Python 3",
   "language": "python",
   "name": "python3"
  },
  "language_info": {
   "codemirror_mode": {
    "name": "ipython",
    "version": 3
   },
   "file_extension": ".py",
   "mimetype": "text/x-python",
   "name": "python",
   "nbconvert_exporter": "python",
   "pygments_lexer": "ipython3",
   "version": "3.7.1"
  }
 },
 "nbformat": 4,
 "nbformat_minor": 2
}
