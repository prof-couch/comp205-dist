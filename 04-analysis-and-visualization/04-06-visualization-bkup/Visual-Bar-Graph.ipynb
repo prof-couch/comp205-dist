{
 "cells": [
  {
   "cell_type": "markdown",
   "metadata": {},
   "source": [
    "# Matplot:\n",
    "\n",
    "\n",
    "#### Bar Graphs:\n"
   ]
  },
  {
   "cell_type": "code",
   "execution_count": 8,
   "metadata": {},
   "outputs": [
    {
     "data": {
      "text/plain": [
       "<Figure size 640x480 with 1 Axes>"
      ]
     },
     "metadata": {},
     "output_type": "display_data"
    }
   ],
   "source": [
    "import matplotlib.pyplot as plt; plt.rcdefaults()\n",
    "import numpy as np\n",
    "import matplotlib.pyplot as plt\n",
    " \n",
    "objects = ('Jack', 'Ryan', 'Ethan','Joseph') #These are the labels to the data\n",
    "y_pos = np.arange(len(objects)) #Used to assign objects to bars\n",
    "performance = [21,13,13,14] #These are the values\n",
    "   \n",
    "#To switch orientation use barh, and relabel to yticks and xlabel   \n",
    "plt.bar(y_pos, performance, align='center', alpha=1) \n",
    "#Alpha is the opacity of the bar from 0 to 1\n",
    "plt.xticks(y_pos, objects)\n",
    "plt.ylabel('SHUs')\n",
    "plt.title('Class Credits ')\n",
    " \n",
    "plt.show()"
   ]
  },
  {
   "cell_type": "code",
   "execution_count": null,
   "metadata": {},
   "outputs": [],
   "source": []
  },
  {
   "cell_type": "markdown",
   "metadata": {},
   "source": [
    "### Regular graphs:"
   ]
  },
  {
   "cell_type": "code",
   "execution_count": 9,
   "metadata": {},
   "outputs": [
    {
     "data": {
      "image/png": "[encoded data removed]",
      "text/plain": [
       "<Figure size 432x288 with 2 Axes>"
      ]
     },
     "metadata": {
      "needs_background": "light"
     },
     "output_type": "display_data"
    }
   ],
   "source": [
    "import numpy as np\n",
    "import matplotlib.pyplot as plt\n",
    "\n",
    "# evenly sampled time at 200ms intervals\n",
    "#This is the only data that will be plotted for any t function, so to expand that increase this range\n",
    "t = np.arange(0., 7., 0.1)\n",
    "\n",
    "#If you want to make multiple plots, you can use subplots:\n",
    "#You may want to refer back to this later, but the format is \n",
    "#plt.subplot(xCord,yCord,whichSpot), but with no commas\n",
    "plt.subplot(211)\n",
    "\n",
    "#Plotting follows the basic format:\n",
    "#plt.plot(var,equation,specifications)\n",
    "plt.plot(t,np.cos(t)*60)\n",
    "\n",
    "#If you want to use a specific equation, you must call numpy ex. sin or cos:\n",
    "plt.plot(t, t, 'o--', t, t**3+50, 'g^')\n",
    "\n",
    "#If you want to presave an equation, define, then call it:\n",
    "def x(t):\n",
    "    return np.exp(t) * np.cos(.5*np.pi*t)\n",
    "plt.subplot(212)\n",
    "plt.plot(t,x(t))\n",
    "\n",
    "#You can add a legend:\n",
    "plt.legend(['e^t + cos(.5(pi)(t))'])\n",
    "\n",
    "#You can add a grid:\n",
    "plt.grid()\n",
    "\n",
    "#You can manually change the axis scale, but not all the data will be graphed:\n",
    "plt.xlim(1,10)\n",
    "\n",
    "#This will label the maxium at xy=, and the text will be in the splot xytext\n",
    "plt.annotate('local max', xy=(4.3, 67), xytext=(8, -200),\n",
    "            arrowprops=dict(facecolor='black', shrink=0.05),\n",
    "            )\n",
    "\n",
    "#Finally, you can plot\n",
    "plt.show()"
   ]
  },
  {
   "cell_type": "markdown",
   "metadata": {},
   "source": [
    "### Now that local max looks great, but what if we wanted to look at that graph and know what the value was?\n",
    "### We would have to have an interactive graph!\n",
    "\n",
    "\n",
    "\n",
    "\n",
    "\n",
    "# Plotly:"
   ]
  },
  {
   "cell_type": "markdown",
   "metadata": {},
   "source": [
    "#### To install plotly, you need to open the Anaconda Command Prompt then paste in the line:\n",
    "pip install plotly\n",
    "#### Follow the instructions - this should take a little bit of time\n",
    "#### Note that you will need to make an account at this link:\n",
    "https://plot.ly/api_signup\n",
    "#### You will need to reset your Key and login in the python browser"
   ]
  },
  {
   "cell_type": "markdown",
   "metadata": {},
   "source": [
    "#### Now we will go through some examples:"
   ]
  },
  {
   "cell_type": "code",
   "execution_count": 16,
   "metadata": {},
   "outputs": [],
   "source": [
    "import plotly\n",
    "plotly.tools.set_credentials_file(username='Jofreem',api_key='XrPgKs4kuyWWoeahG3j1')\n"
   ]
  },
  {
   "cell_type": "code",
   "execution_count": 24,
   "metadata": {},
   "outputs": [
    {
     "data": {
      "text/html": [
       "<iframe id=\"igraph\" scrolling=\"no\" style=\"border:none;\" seamless=\"seamless\" src=\"https://plot.ly/~Jofreem/4.embed\" height=\"525px\" width=\"100%\"></iframe>"
      ],
      "text/plain": [
       "<plotly.tools.PlotlyDisplay object>"
      ]
     },
     "execution_count": 24,
     "metadata": {},
     "output_type": "execute_result"
    }
   ],
   "source": [
    "import plotly.plotly as py\n",
    "import plotly.graph_objs as go\n",
    "import ipywidgets as widgets\n",
    "import numpy as np\n",
    "from scipy import special\n",
    "\n",
    "\n",
    "x = np.linspace(0, np.pi, 1000)\n",
    "\n",
    "layout = go.Layout(\n",
    "    title = 'Simple Example',\n",
    "    yaxis = dict(\n",
    "        title = 'volts'\n",
    "    ),\n",
    "    xaxis = dict(\n",
    "        title = 'nanoseconds'\n",
    "    )\n",
    ")\n",
    "\n",
    "#We defined this earlier:\n",
    "\n",
    "\n",
    "trace1 = go.Scatter(\n",
    "    x=x,\n",
    "    y=np.sin(x),\n",
    "    mode = 'lines',\n",
    "    line = dict(\n",
    "        shape = 'spline'\n",
    "    )\n",
    ")\n",
    "\n",
    "\n",
    "\n",
    "fig = go.Figure(data = [trace1], layout = layout)\n",
    "py.iplot(fig,filename='Sin-Example')\n",
    "\n",
    "# Code Copied from 'Getting Started with Plotly and Jupyter!' Youtube Video "
   ]
  },
  {
   "cell_type": "markdown",
   "metadata": {},
   "source": [
    "#### On the plotly website you can see all the different types of graphs people have made, but I'll do a few more."
   ]
  },
  {
   "cell_type": "code",
   "execution_count": 25,
   "metadata": {},
   "outputs": [
    {
     "data": {
      "text/html": [
       "<iframe id=\"igraph\" scrolling=\"no\" style=\"border:none;\" seamless=\"seamless\" src=\"https://plot.ly/~Jofreem/6.embed\" height=\"525px\" width=\"100%\"></iframe>"
      ],
      "text/plain": [
       "<plotly.tools.PlotlyDisplay object>"
      ]
     },
     "execution_count": 25,
     "metadata": {},
     "output_type": "execute_result"
    }
   ],
   "source": [
    "t = np.arange(0., 7., 0.1)\n",
    "\n",
    "\n",
    "layout = go.Layout(\n",
    "    title = 'Same curve from before',\n",
    "    yaxis = dict(\n",
    "        title = 'Y value'\n",
    "    ),\n",
    "    xaxis = dict(\n",
    "        title = 'X value'\n",
    "    )\n",
    ")\n",
    "def x(t):\n",
    "    return np.exp(t) * np.cos(.5*np.pi*t)\n",
    "trace1 = go.Scatter(\n",
    "    x=t,\n",
    "    y=x(t),\n",
    "    mode = 'lines',\n",
    "    line = dict(\n",
    "        shape = 'spline'\n",
    "    )\n",
    ")\n",
    "\n",
    "fig = go.Figure(data = [trace1], layout = layout)\n",
    "py.iplot(fig,filename='Exponential-Cosine')"
   ]
  },
  {
   "cell_type": "markdown",
   "metadata": {},
   "source": [
    "### Bar Graphs:"
   ]
  },
  {
   "cell_type": "code",
   "execution_count": 19,
   "metadata": {},
   "outputs": [
    {
     "name": "stdout",
     "output_type": "stream",
     "text": [
      "High five! You successfully sent some data to your account on plotly. View your plot in your browser at https://plot.ly/~Jofreem/0 or inside your plot.ly account where it is named 'basic-bar'\n"
     ]
    },
    {
     "data": {
      "text/html": [
       "<iframe id=\"igraph\" scrolling=\"no\" style=\"border:none;\" seamless=\"seamless\" src=\"https://plot.ly/~Jofreem/0.embed\" height=\"525px\" width=\"100%\"></iframe>"
      ],
      "text/plain": [
       "<plotly.tools.PlotlyDisplay object>"
      ]
     },
     "execution_count": 19,
     "metadata": {},
     "output_type": "execute_result"
    }
   ],
   "source": [
    "data = [go.Bar(\n",
    "            x=['Jack','Ryan','Ethan','Joseph'],\n",
    "            y=[21,13,13,14]\n",
    "    )]\n",
    "\n",
    "py.iplot(data, filename='basic-bar')\n",
    "#This plots the graph and then saves the graph on your plotly account with the name Basic-Bar"
   ]
  },
  {
   "cell_type": "code",
   "execution_count": 29,
   "metadata": {},
   "outputs": [
    {
     "name": "stderr",
     "output_type": "stream",
     "text": [
      "C:\\Users\\jd_fr\\Anaconda3\\lib\\site-packages\\plotly\\tools.py:1545: UserWarning:\n",
      "\n",
      "plotly.tools.FigureFactory.create_table is deprecated. Use plotly.figure_factory.create_table\n",
      "\n",
      "C:\\Users\\jd_fr\\Anaconda3\\lib\\site-packages\\IPython\\core\\display.py:689: UserWarning:\n",
      "\n",
      "Consider using IPython.display.IFrame instead\n",
      "\n"
     ]
    },
    {
     "data": {
      "text/html": [
       "<iframe id=\"igraph\" scrolling=\"no\" style=\"border:none;\" seamless=\"seamless\" src=\"https://plot.ly/~Jofreem/12.embed\" height=\"525px\" width=\"100%\"></iframe>"
      ],
      "text/plain": [
       "<plotly.tools.PlotlyDisplay object>"
      ]
     },
     "execution_count": 29,
     "metadata": {},
     "output_type": "execute_result"
    }
   ],
   "source": [
    "#You can also import data from csv's and then graph those\n",
    "import pandas\n",
    "from plotly.tools import FigureFactory as FF\n",
    "\n",
    "\n",
    "df = pandas.read_csv('C:\\\\Users\\\\jd_fr\\\\Documents\\\\NYC_weather.csv')\n",
    "\n",
    "sample_data_table = FF.create_table(df.head())\n",
    "py.iplot(sample_data_table, filename='sample-data-table')\n",
    "\n",
    "\n",
    "#Plot:\n",
    "\n",
    "tracea = go.Scatter(x=df['DATE'], y=df['TMAX'], mode='lines', name='TMAX' )\n",
    "traceb = go.Scatter(x=df['DATE'], y=df['TMIN'], mode='lines', name='TMIN')\n",
    "\n",
    "layout = go.Layout(title='Simple Plot from csv data',\n",
    "                   plot_bgcolor='rgb(230, 230,230)')\n",
    "\n",
    "fig = go.Figure(data=[tracea, traceb], layout=layout)\n",
    "\n",
    "# Plot data in the notebook\n",
    "py.iplot(fig, filename='simple-plot-from-csv')"
   ]
  },
  {
   "cell_type": "code",
   "execution_count": null,
   "metadata": {},
   "outputs": [],
   "source": []
  }
 ],
 "metadata": {
  "kernelspec": {
   "display_name": "Python 3",
   "language": "python",
   "name": "python3"
  },
  "language_info": {
   "codemirror_mode": {
    "name": "ipython",
    "version": 3
   },
   "file_extension": ".py",
   "mimetype": "text/x-python",
   "name": "python",
   "nbconvert_exporter": "python",
   "pygments_lexer": "ipython3",
   "version": "3.7.1"
  }
 },
 "nbformat": 4,
 "nbformat_minor": 2
}
