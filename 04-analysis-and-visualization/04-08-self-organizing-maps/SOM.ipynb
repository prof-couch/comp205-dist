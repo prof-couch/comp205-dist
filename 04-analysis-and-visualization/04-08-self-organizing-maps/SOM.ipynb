{
 "cells": [
  {
   "cell_type": "markdown",
   "metadata": {},
   "source": [
    "# Self Organized Maps"
   ]
  },
  {
   "cell_type": "markdown",
   "metadata": {},
   "source": [
    "- One of the largest problems in categorization: data is more than three-dimensional.\n",
    "- How do we even express large multi-dimensional data sets?\n",
    "- One answer: map multi-dimensional vectors into the plane according to their similarity with others.\n",
    "- This is often called a *self-organizing map.*"
   ]
  },
  {
   "cell_type": "markdown",
   "metadata": {},
   "source": [
    "A self organized map is a way of sorting data into an unknown amount of data groups.\n",
    "Essentially, a self organized map is a kmeans problem where the k value (number of groups) is unknown.\n",
    "\n",
    "If you think of the famous Iris Dataset, is is clear that k=3, since there are three different types of flower (Setosa, Versicolour, and Virginica). But we don't always know that going into a problem, so self organized maps are a way of learning that.\n",
    "\n",
    "The are somewhat complicated to build, but here is a simple walkthrough to building a self organized map (SOM)"
   ]
  },
  {
   "cell_type": "markdown",
   "metadata": {},
   "source": [
    "For this problem, we will be using almost all of the packages we've used before in other problems, since SOM's bring together a lot of what we've previously learned. It's okay if a few are to you, their purpose will be explained."
   ]
  },
  {
   "cell_type": "code",
   "execution_count": 126,
   "metadata": {},
   "outputs": [],
   "source": [
    "import pandas as pd\n",
    "import numpy as np\n",
    "from matplotlib import pyplot as plt\n",
    "from matplotlib import patches as patches\n",
    "import matplotlib.lines as mlines"
   ]
  },
  {
   "cell_type": "markdown",
   "metadata": {},
   "source": [
    "We will begin by reading in the data and seeing what we're working with."
   ]
  },
  {
   "cell_type": "code",
   "execution_count": 183,
   "metadata": {},
   "outputs": [],
   "source": [
    "input_data = pd.read_csv(\"Cash-Crop\")\n",
    "input_data.head()"
   ]
  },
  {
   "cell_type": "markdown",
   "metadata": {},
   "source": [
    "Okay, but if we know the Crop, then why is this a self organized map? It isn't. The Crop labels are so that we can check answers at the end with what we would expect from our SOM results. You may have done a similar thing if you've worked with the Iris Data set where you compared the actual types of Iris flowers to what your code projected them to be. This is the same logic.\n",
    "\n",
    "We will now shuffle the data and remove the Crop labels. Now we have a truely random data set."
   ]
  },
  {
   "cell_type": "code",
   "execution_count": null,
   "metadata": {},
   "outputs": [],
   "source": [
    "agri_data = input_data.iloc[np.random.permutation(len(input_data))]\n",
    "trunc_data = agri_data[[\"Area\", \"Production\", \"Yield\"]]\n",
    "trunc_data.head(10)"
   ]
  },
  {
   "cell_type": "markdown",
   "metadata": {},
   "source": [
    "Now that the data has been shuffled, we can normalize it. This allows us to represent everything as a decimal percentage of the maximum in each column. \n",
    "\n",
    "This is useful because the actual values are not necessary, just the relative values. This also elimates some error from outliers."
   ]
  },
  {
   "cell_type": "code",
   "execution_count": null,
   "metadata": {},
   "outputs": [],
   "source": [
    "trunc_data = trunc_data / trunc_data.max()\n",
    "trunc_data.iloc[:10,:]"
   ]
  },
  {
   "cell_type": "markdown",
   "metadata": {},
   "source": [
    "## Training the SOM\n",
    "Now that we have our data properly formatted we need to \"Train\" the SOM.\n",
    "We will use the code written by Shishir Adhikari to train the map. (The link for the github is at the top of this notebook)\n",
    "\n",
    "We will need to use his Custom Python Library for this"
   ]
  },
  {
   "cell_type": "code",
   "execution_count": null,
   "metadata": {},
   "outputs": [],
   "source": [
    "from SOM import SOM"
   ]
  },
  {
   "cell_type": "markdown",
   "metadata": {},
   "source": [
    "If you'd like to see the code, run this next cell:"
   ]
  },
  {
   "cell_type": "code",
   "execution_count": null,
   "metadata": {},
   "outputs": [],
   "source": [
    "%more SOM.py"
   ]
  },
  {
   "cell_type": "markdown",
   "metadata": {},
   "source": [
    "Now that we have the SOM package, we can begin to train the neural network on which the Self Organized Map is optimized through.\n",
    "\n",
    "#### What is training a neural network?\n",
    "In this problem we have input data and are trying to connect them all to outputs. So for each set of input data, the neural network estimates which type of crop this is (in our case).\n",
    "\n",
    "This essentially means we are balancing ratios of the different inputs, so we need to test different ratios for each of our inputs. In Computer Science we call this training the neural network.\n",
    "\n",
    "##### Our Cases:\n",
    "We are using the following method:\n",
    "som = SOM(x_size, y_size, num_features)\n",
    "\n",
    "In our case we have a 3x3 (9) neurons with 3 features (area, size, and yield), so this is randomly assigning 3 values to each of the 9 neurons, this is what the untrained network looks like:\n"
   ]
  },
  {
   "cell_type": "code",
   "execution_count": null,
   "metadata": {},
   "outputs": [],
   "source": [
    "agri_som = SOM(3,3,3)\n",
    "\n",
    "init_fig = plt.figure()\n",
    "agri_som.show_plot(init_fig, 1, 0)\n",
    "plt.show()"
   ]
  },
  {
   "cell_type": "markdown",
   "metadata": {},
   "source": [
    "If you run it a few times, you'll notice that the colors are random, since we are giving the neurons random values."
   ]
  },
  {
   "cell_type": "markdown",
   "metadata": {},
   "source": [
    "Now let's actually train the network."
   ]
  },
  {
   "cell_type": "code",
   "execution_count": 128,
   "metadata": {},
   "outputs": [
    {
     "name": "stdout",
     "output_type": "stream",
     "text": [
      "SOM training epoches 20\n",
      "neighborhood radius  2.6878753795222865\n",
      "learning rate  0.01809674836071919\n",
      "-------------------------------------\n",
      "SOM training epoches 40\n",
      "neighborhood radius  2.4082246852806923\n",
      "learning rate  0.016374615061559638\n",
      "-------------------------------------\n",
      "SOM training epoches 60\n",
      "neighborhood radius  2.157669279974593\n",
      "learning rate  0.014816364413634358\n",
      "-------------------------------------\n",
      "SOM training epoches 80\n",
      "neighborhood radius  1.9331820449317627\n",
      "learning rate  0.013406400920712786\n",
      "-------------------------------------\n",
      "SOM training epoches 100\n",
      "neighborhood radius  1.7320508075688772\n",
      "learning rate  0.012130613194252668\n",
      "-------------------------------------\n",
      "SOM training epoches 120\n",
      "neighborhood radius  1.5518455739153598\n",
      "learning rate  0.01097623272188053\n",
      "-------------------------------------\n",
      "SOM training epoches 140\n",
      "neighborhood radius  1.3903891703159093\n",
      "learning rate  0.009931706075828191\n",
      "-------------------------------------\n",
      "SOM training epoches 160\n",
      "neighborhood radius  1.2457309396155174\n",
      "learning rate  0.008986579282344432\n",
      "-------------------------------------\n",
      "SOM training epoches 180\n",
      "neighborhood radius  1.1161231740339044\n",
      "learning rate  0.008131393194811983\n",
      "-------------------------------------\n",
      "SOM training epoches 200\n",
      "neighborhood radius  1.0\n",
      "learning rate  0.007357588823428847\n",
      "-------------------------------------\n"
     ]
    },
    {
     "data": {
      "image/png": "[encoded data removed]",
      "text/plain": [
       "<Figure size 432x288 with 10 Axes>"
      ]
     },
     "metadata": {
      "needs_background": "light"
     },
     "output_type": "display_data"
    }
   ],
   "source": [
    "agri_som.train(trunc_data.values,\n",
    "               num_epochs=200,\n",
    "               init_learning_rate=0.02\n",
    "              )"
   ]
  },
  {
   "cell_type": "markdown",
   "metadata": {},
   "source": [
    "##### Observations:\n",
    "The colors all start very similar then grow farther apart (but are similar shades).\n",
    "The learning rate decreases time.\n",
    "The neighborhood radius decreases.\n",
    "\n",
    "###### Significance:\n",
    "The colors start almost identical since all the neurons are calibrated together, then over time (the radius of comparison decreases) the neurons are separately adjusted according to the data.\n",
    "\n",
    "The learning rate decreases because as the radius is decreasing it takes longer to calibrate each separate neuron.\n",
    "\n",
    "The neighborhood radius decreases so that each neuron is distinct.\n",
    "\n",
    "##### How long to calibrate?\n",
    "You should calibrate for as long as it takes for the neurons to become distinct. In this case, Ep 180 is almost identical to Ep 200, so it is clear this is a good place to stop."
   ]
  },
  {
   "cell_type": "markdown",
   "metadata": {},
   "source": [
    "### Prediction:\n",
    "Now we can use our neural network to predict values.\n",
    "We are finding a \"bmu\" value and a \"bmu_idx\" for each set of values in our original data set."
   ]
  },
  {
   "cell_type": "code",
   "execution_count": 129,
   "metadata": {},
   "outputs": [
    {
     "data": {
      "text/html": [
       "<div>\n",
       "<style scoped>\n",
       "    .dataframe tbody tr th:only-of-type {\n",
       "        vertical-align: middle;\n",
       "    }\n",
       "\n",
       "    .dataframe tbody tr th {\n",
       "        vertical-align: top;\n",
       "    }\n",
       "\n",
       "    .dataframe thead th {\n",
       "        text-align: right;\n",
       "    }\n",
       "</style>\n",
       "<table border=\"1\" class=\"dataframe\">\n",
       "  <thead>\n",
       "    <tr style=\"text-align: right;\">\n",
       "      <th></th>\n",
       "      <th>Area</th>\n",
       "      <th>Production</th>\n",
       "      <th>Yield</th>\n",
       "      <th>bmu</th>\n",
       "      <th>bmu_idx</th>\n",
       "    </tr>\n",
       "  </thead>\n",
       "  <tbody>\n",
       "    <tr>\n",
       "      <th>56</th>\n",
       "      <td>0.023221</td>\n",
       "      <td>0.001646</td>\n",
       "      <td>0.021981</td>\n",
       "      <td>[[0.059086017189842036, 0.013306378182806744, ...</td>\n",
       "      <td>[2, 2]</td>\n",
       "    </tr>\n",
       "    <tr>\n",
       "      <th>90</th>\n",
       "      <td>0.073518</td>\n",
       "      <td>0.006734</td>\n",
       "      <td>0.028421</td>\n",
       "      <td>[[0.059086017189842036, 0.013306378182806744, ...</td>\n",
       "      <td>[2, 2]</td>\n",
       "    </tr>\n",
       "    <tr>\n",
       "      <th>51</th>\n",
       "      <td>0.035404</td>\n",
       "      <td>0.002619</td>\n",
       "      <td>0.022950</td>\n",
       "      <td>[[0.059086017189842036, 0.013306378182806744, ...</td>\n",
       "      <td>[2, 2]</td>\n",
       "    </tr>\n",
       "    <tr>\n",
       "      <th>99</th>\n",
       "      <td>0.076328</td>\n",
       "      <td>0.006387</td>\n",
       "      <td>0.025959</td>\n",
       "      <td>[[0.059086017189842036, 0.013306378182806744, ...</td>\n",
       "      <td>[2, 2]</td>\n",
       "    </tr>\n",
       "    <tr>\n",
       "      <th>84</th>\n",
       "      <td>0.142835</td>\n",
       "      <td>0.013940</td>\n",
       "      <td>0.030286</td>\n",
       "      <td>[[0.059086017189842036, 0.013306378182806744, ...</td>\n",
       "      <td>[2, 2]</td>\n",
       "    </tr>\n",
       "    <tr>\n",
       "      <th>8</th>\n",
       "      <td>0.867725</td>\n",
       "      <td>0.039430</td>\n",
       "      <td>0.014099</td>\n",
       "      <td>[[0.8599935871565184, 0.04818555961048227, 0.0...</td>\n",
       "      <td>[2, 0]</td>\n",
       "    </tr>\n",
       "    <tr>\n",
       "      <th>31</th>\n",
       "      <td>0.512706</td>\n",
       "      <td>0.353071</td>\n",
       "      <td>0.213666</td>\n",
       "      <td>[[0.3760099053589918, 0.2404593854936522, 0.23...</td>\n",
       "      <td>[1, 1]</td>\n",
       "    </tr>\n",
       "    <tr>\n",
       "      <th>4</th>\n",
       "      <td>0.813216</td>\n",
       "      <td>0.041745</td>\n",
       "      <td>0.015939</td>\n",
       "      <td>[[0.8599935871565184, 0.04818555961048227, 0.0...</td>\n",
       "      <td>[2, 0]</td>\n",
       "    </tr>\n",
       "    <tr>\n",
       "      <th>37</th>\n",
       "      <td>0.677518</td>\n",
       "      <td>0.552887</td>\n",
       "      <td>0.253177</td>\n",
       "      <td>[[0.6633273496565368, 0.5391692676755803, 0.25...</td>\n",
       "      <td>[0, 0]</td>\n",
       "    </tr>\n",
       "    <tr>\n",
       "      <th>26</th>\n",
       "      <td>0.437696</td>\n",
       "      <td>0.282736</td>\n",
       "      <td>0.200413</td>\n",
       "      <td>[[0.3760099053589918, 0.2404593854936522, 0.23...</td>\n",
       "      <td>[1, 1]</td>\n",
       "    </tr>\n",
       "  </tbody>\n",
       "</table>\n",
       "</div>"
      ],
      "text/plain": [
       "        Area  Production     Yield  \\\n",
       "56  0.023221    0.001646  0.021981   \n",
       "90  0.073518    0.006734  0.028421   \n",
       "51  0.035404    0.002619  0.022950   \n",
       "99  0.076328    0.006387  0.025959   \n",
       "84  0.142835    0.013940  0.030286   \n",
       "8   0.867725    0.039430  0.014099   \n",
       "31  0.512706    0.353071  0.213666   \n",
       "4   0.813216    0.041745  0.015939   \n",
       "37  0.677518    0.552887  0.253177   \n",
       "26  0.437696    0.282736  0.200413   \n",
       "\n",
       "                                                  bmu bmu_idx  \n",
       "56  [[0.059086017189842036, 0.013306378182806744, ...  [2, 2]  \n",
       "90  [[0.059086017189842036, 0.013306378182806744, ...  [2, 2]  \n",
       "51  [[0.059086017189842036, 0.013306378182806744, ...  [2, 2]  \n",
       "99  [[0.059086017189842036, 0.013306378182806744, ...  [2, 2]  \n",
       "84  [[0.059086017189842036, 0.013306378182806744, ...  [2, 2]  \n",
       "8   [[0.8599935871565184, 0.04818555961048227, 0.0...  [2, 0]  \n",
       "31  [[0.3760099053589918, 0.2404593854936522, 0.23...  [1, 1]  \n",
       "4   [[0.8599935871565184, 0.04818555961048227, 0.0...  [2, 0]  \n",
       "37  [[0.6633273496565368, 0.5391692676755803, 0.25...  [0, 0]  \n",
       "26  [[0.3760099053589918, 0.2404593854936522, 0.23...  [1, 1]  "
      ]
     },
     "execution_count": 129,
     "metadata": {},
     "output_type": "execute_result"
    }
   ],
   "source": [
    "def predict(df):\n",
    "    bmu, bmu_idx = agri_som.find_bmu(df.values)\n",
    "    df['bmu'] = bmu\n",
    "    df['bmu_idx'] = bmu_idx\n",
    "    return df\n",
    "clustered_df = trunc_data.apply(predict, axis=1)\n",
    "clustered_df.iloc[0:10]"
   ]
  },
  {
   "cell_type": "markdown",
   "metadata": {},
   "source": [
    "Now we will put the data back together with the original data and see how the neural network did!"
   ]
  },
  {
   "cell_type": "code",
   "execution_count": 130,
   "metadata": {},
   "outputs": [
    {
     "data": {
      "text/html": [
       "<div>\n",
       "<style scoped>\n",
       "    .dataframe tbody tr th:only-of-type {\n",
       "        vertical-align: middle;\n",
       "    }\n",
       "\n",
       "    .dataframe tbody tr th {\n",
       "        vertical-align: top;\n",
       "    }\n",
       "\n",
       "    .dataframe thead th {\n",
       "        text-align: right;\n",
       "    }\n",
       "</style>\n",
       "<table border=\"1\" class=\"dataframe\">\n",
       "  <thead>\n",
       "    <tr style=\"text-align: right;\">\n",
       "      <th></th>\n",
       "      <th>Year AD</th>\n",
       "      <th>Year BS</th>\n",
       "      <th>Crop</th>\n",
       "      <th>Area</th>\n",
       "      <th>Production</th>\n",
       "      <th>Yield</th>\n",
       "      <th>Area_norm</th>\n",
       "      <th>Production_norm</th>\n",
       "      <th>Yield_norm</th>\n",
       "      <th>bmu</th>\n",
       "      <th>bmu_idx</th>\n",
       "    </tr>\n",
       "  </thead>\n",
       "  <tbody>\n",
       "    <tr>\n",
       "      <th>56</th>\n",
       "      <td>1998/99</td>\n",
       "      <td>2055/56</td>\n",
       "      <td>TOBACCO</td>\n",
       "      <td>4422</td>\n",
       "      <td>3911</td>\n",
       "      <td>884</td>\n",
       "      <td>0.023221</td>\n",
       "      <td>0.001646</td>\n",
       "      <td>0.021981</td>\n",
       "      <td>[[0.059086017189842036, 0.013306378182806744, ...</td>\n",
       "      <td>[2, 2]</td>\n",
       "    </tr>\n",
       "    <tr>\n",
       "      <th>90</th>\n",
       "      <td>1990/91</td>\n",
       "      <td>2047/48</td>\n",
       "      <td>JUTE</td>\n",
       "      <td>14000</td>\n",
       "      <td>16000</td>\n",
       "      <td>1143</td>\n",
       "      <td>0.073518</td>\n",
       "      <td>0.006734</td>\n",
       "      <td>0.028421</td>\n",
       "      <td>[[0.059086017189842036, 0.013306378182806744, ...</td>\n",
       "      <td>[2, 2]</td>\n",
       "    </tr>\n",
       "    <tr>\n",
       "      <th>51</th>\n",
       "      <td>1993/94</td>\n",
       "      <td>2050/51</td>\n",
       "      <td>TOBACCO</td>\n",
       "      <td>6742</td>\n",
       "      <td>6223</td>\n",
       "      <td>923</td>\n",
       "      <td>0.035404</td>\n",
       "      <td>0.002619</td>\n",
       "      <td>0.022950</td>\n",
       "      <td>[[0.059086017189842036, 0.013306378182806744, ...</td>\n",
       "      <td>[2, 2]</td>\n",
       "    </tr>\n",
       "    <tr>\n",
       "      <th>99</th>\n",
       "      <td>1999/2000</td>\n",
       "      <td>2056/57</td>\n",
       "      <td>JUTE</td>\n",
       "      <td>14535</td>\n",
       "      <td>15175</td>\n",
       "      <td>1044</td>\n",
       "      <td>0.076328</td>\n",
       "      <td>0.006387</td>\n",
       "      <td>0.025959</td>\n",
       "      <td>[[0.059086017189842036, 0.013306378182806744, ...</td>\n",
       "      <td>[2, 2]</td>\n",
       "    </tr>\n",
       "    <tr>\n",
       "      <th>84</th>\n",
       "      <td>1984/85</td>\n",
       "      <td>2041/42</td>\n",
       "      <td>JUTE</td>\n",
       "      <td>27200</td>\n",
       "      <td>33124</td>\n",
       "      <td>1218</td>\n",
       "      <td>0.142835</td>\n",
       "      <td>0.013940</td>\n",
       "      <td>0.030286</td>\n",
       "      <td>[[0.059086017189842036, 0.013306378182806744, ...</td>\n",
       "      <td>[2, 2]</td>\n",
       "    </tr>\n",
       "    <tr>\n",
       "      <th>8</th>\n",
       "      <td>1992/93</td>\n",
       "      <td>2049/50</td>\n",
       "      <td>OILSEED</td>\n",
       "      <td>165240</td>\n",
       "      <td>93690</td>\n",
       "      <td>567</td>\n",
       "      <td>0.867725</td>\n",
       "      <td>0.039430</td>\n",
       "      <td>0.014099</td>\n",
       "      <td>[[0.8599935871565184, 0.04818555961048227, 0.0...</td>\n",
       "      <td>[2, 0]</td>\n",
       "    </tr>\n",
       "    <tr>\n",
       "      <th>31</th>\n",
       "      <td>1994/95</td>\n",
       "      <td>2051/52</td>\n",
       "      <td>POTATO</td>\n",
       "      <td>97634</td>\n",
       "      <td>838932</td>\n",
       "      <td>8593</td>\n",
       "      <td>0.512706</td>\n",
       "      <td>0.353071</td>\n",
       "      <td>0.213666</td>\n",
       "      <td>[[0.3760099053589918, 0.2404593854936522, 0.23...</td>\n",
       "      <td>[1, 1]</td>\n",
       "    </tr>\n",
       "    <tr>\n",
       "      <th>4</th>\n",
       "      <td>1988/89</td>\n",
       "      <td>2045/46</td>\n",
       "      <td>OILSEED</td>\n",
       "      <td>154860</td>\n",
       "      <td>99190</td>\n",
       "      <td>641</td>\n",
       "      <td>0.813216</td>\n",
       "      <td>0.041745</td>\n",
       "      <td>0.015939</td>\n",
       "      <td>[[0.8599935871565184, 0.04818555961048227, 0.0...</td>\n",
       "      <td>[2, 0]</td>\n",
       "    </tr>\n",
       "    <tr>\n",
       "      <th>37</th>\n",
       "      <td>2000/2001</td>\n",
       "      <td>2057/58</td>\n",
       "      <td>POTATO</td>\n",
       "      <td>129019</td>\n",
       "      <td>1313717</td>\n",
       "      <td>10182</td>\n",
       "      <td>0.677518</td>\n",
       "      <td>0.552887</td>\n",
       "      <td>0.253177</td>\n",
       "      <td>[[0.6633273496565368, 0.5391692676755803, 0.25...</td>\n",
       "      <td>[0, 0]</td>\n",
       "    </tr>\n",
       "    <tr>\n",
       "      <th>26</th>\n",
       "      <td>1989/90</td>\n",
       "      <td>2046/47</td>\n",
       "      <td>POTATO</td>\n",
       "      <td>83350</td>\n",
       "      <td>671810</td>\n",
       "      <td>8060</td>\n",
       "      <td>0.437696</td>\n",
       "      <td>0.282736</td>\n",
       "      <td>0.200413</td>\n",
       "      <td>[[0.3760099053589918, 0.2404593854936522, 0.23...</td>\n",
       "      <td>[1, 1]</td>\n",
       "    </tr>\n",
       "  </tbody>\n",
       "</table>\n",
       "</div>"
      ],
      "text/plain": [
       "      Year AD  Year BS     Crop    Area  Production  Yield  Area_norm  \\\n",
       "56    1998/99  2055/56  TOBACCO    4422        3911    884   0.023221   \n",
       "90    1990/91  2047/48     JUTE   14000       16000   1143   0.073518   \n",
       "51    1993/94  2050/51  TOBACCO    6742        6223    923   0.035404   \n",
       "99  1999/2000  2056/57     JUTE   14535       15175   1044   0.076328   \n",
       "84    1984/85  2041/42     JUTE   27200       33124   1218   0.142835   \n",
       "8     1992/93  2049/50  OILSEED  165240       93690    567   0.867725   \n",
       "31    1994/95  2051/52   POTATO   97634      838932   8593   0.512706   \n",
       "4     1988/89  2045/46  OILSEED  154860       99190    641   0.813216   \n",
       "37  2000/2001  2057/58   POTATO  129019     1313717  10182   0.677518   \n",
       "26    1989/90  2046/47   POTATO   83350      671810   8060   0.437696   \n",
       "\n",
       "    Production_norm  Yield_norm  \\\n",
       "56         0.001646    0.021981   \n",
       "90         0.006734    0.028421   \n",
       "51         0.002619    0.022950   \n",
       "99         0.006387    0.025959   \n",
       "84         0.013940    0.030286   \n",
       "8          0.039430    0.014099   \n",
       "31         0.353071    0.213666   \n",
       "4          0.041745    0.015939   \n",
       "37         0.552887    0.253177   \n",
       "26         0.282736    0.200413   \n",
       "\n",
       "                                                  bmu bmu_idx  \n",
       "56  [[0.059086017189842036, 0.013306378182806744, ...  [2, 2]  \n",
       "90  [[0.059086017189842036, 0.013306378182806744, ...  [2, 2]  \n",
       "51  [[0.059086017189842036, 0.013306378182806744, ...  [2, 2]  \n",
       "99  [[0.059086017189842036, 0.013306378182806744, ...  [2, 2]  \n",
       "84  [[0.059086017189842036, 0.013306378182806744, ...  [2, 2]  \n",
       "8   [[0.8599935871565184, 0.04818555961048227, 0.0...  [2, 0]  \n",
       "31  [[0.3760099053589918, 0.2404593854936522, 0.23...  [1, 1]  \n",
       "4   [[0.8599935871565184, 0.04818555961048227, 0.0...  [2, 0]  \n",
       "37  [[0.6633273496565368, 0.5391692676755803, 0.25...  [0, 0]  \n",
       "26  [[0.3760099053589918, 0.2404593854936522, 0.23...  [1, 1]  "
      ]
     },
     "execution_count": 130,
     "metadata": {},
     "output_type": "execute_result"
    }
   ],
   "source": [
    "joined_df = agri_data.join(clustered_df, rsuffix=\"_norm\")\n",
    "joined_df[0:10]"
   ]
  },
  {
   "cell_type": "markdown",
   "metadata": {},
   "source": [
    "Now let's plot these estimations using matplots. This part of the code is only for your visualization, and is not actually required (but it is reccomended)."
   ]
  },
  {
   "cell_type": "code",
   "execution_count": 131,
   "metadata": {},
   "outputs": [
    {
     "data": {
      "image/png": "[encoded data removed]",
      "text/plain": [
       "<Figure size 432x288 with 1 Axes>"
      ]
     },
     "metadata": {
      "needs_background": "light"
     },
     "output_type": "display_data"
    }
   ],
   "source": [
    "from matplotlib import pyplot as plt\n",
    "from matplotlib import patches as patches\n",
    "import matplotlib.lines as mlines\n",
    "\n",
    "fig = plt.figure()\n",
    "# setup axes\n",
    "ax = fig.add_subplot(111)\n",
    "scale = 50\n",
    "ax.set_xlim((0, agri_som.net.shape[0]*scale))\n",
    "ax.set_ylim((0, agri_som.net.shape[1]*scale))\n",
    "ax.set_title(\"Cash Crops Clustering by using SOM\")\n",
    "\n",
    "for x in range(0, agri_som.net.shape[0]):\n",
    "    for y in range(0, agri_som.net.shape[1]):\n",
    "        ax.add_patch(patches.Rectangle((x*scale, y*scale), scale, scale,\n",
    "                     facecolor='white',\n",
    "                     edgecolor='grey'))\n",
    "legend_map = {}\n",
    "        \n",
    "for index, row in joined_df.iterrows():\n",
    "    x_cor = row['bmu_idx'][0] * scale\n",
    "    y_cor = row['bmu_idx'][1] * scale\n",
    "    x_cor = np.random.randint(x_cor, x_cor + scale)\n",
    "    y_cor = np.random.randint(y_cor, y_cor + scale)\n",
    "    color = row['bmu'][0]\n",
    "    marker = \"$\\\\ \" + row['Crop'][0]+\"$\"\n",
    "    marker = marker.lower()\n",
    "    ax.plot(x_cor, y_cor, color=color, marker=marker, markersize=10)\n",
    "    label = row['Crop']\n",
    "    if not label in legend_map:\n",
    "        legend_map[label] =  mlines.Line2D([], [], color='black', marker=marker, linestyle='None',\n",
    "                          markersize=10, label=label)\n",
    "plt.legend(handles=list(legend_map.values()), bbox_to_anchor=(1, 1))\n",
    "plt.show()"
   ]
  },
  {
   "cell_type": "markdown",
   "metadata": {},
   "source": [
    "##### Source:\n",
    "SOM function from [here][1]\n",
    "\n",
    "\n",
    "Data set and code [here][2]\n",
    "\n",
    "[1]: https://github.com/sevamoo/SOMPY/ \n",
    "[2]: https://machinelearningnepal.com/2018/01/17/online-som/ "
   ]
  },
  {
   "cell_type": "markdown",
   "metadata": {},
   "source": [
    "### Analysis:\n",
    "We can see from the data that for the 9 neurons, there were only 5 different types of crops.\n",
    "\n",
    "There are two different groupings of p. This means that potatoes have a large variety within the data.\n",
    "\n",
    "The Jute and Tobacco groups are morfed together, this means they are very similar in terms of their data and are hard to distinguish.\n",
    "\n",
    "Oilseed characteristics are very unique and are grouped closely.\n",
    "\n",
    "Sugarcane is realatively grouped together; however, there are a few uncertain points (and one that closely corresponds to Jute and Tobacco)."
   ]
  },
  {
   "cell_type": "markdown",
   "metadata": {},
   "source": [
    "## Background Math:\n",
    "The math going on is extremely complicated, but you can read up on it online if you still have questions. In simple terms, the SOM math runs off of Euclidean distances:\n",
    "\n",
    "d = abs(x(t) - w(t))^2.\n",
    "\n",
    "**Where:**\n",
    "- D is the euclidean distance\n",
    "- x(t) is the input vector\n",
    "- w(t) is the weight vector from the neurons\n",
    "\n",
    "##### Process:\n",
    "* Pick a random x(t) and find the node that minimizes d.\n",
    "* Update the nodes by \"pulling them closer\" to the node that minimized d.\n",
    "* Repeat for a set number of iterations."
   ]
  },
  {
   "cell_type": "markdown",
   "metadata": {},
   "source": [
    "# Now Try This:\n",
    "Now you'll follow the same process as before. This time, use the data set for fruit throwing. "
   ]
  },
  {
   "cell_type": "code",
   "execution_count": 132,
   "metadata": {},
   "outputs": [],
   "source": [
    "# Don't change this cell; just run it. \n",
    "from client.api.notebook import Notebook\n",
    "ok = Notebook('SOM.ok')\n",
    "ok.auth(inline=True)"
   ]
  },
  {
   "cell_type": "markdown",
   "metadata": {},
   "source": [
    "**Q01**\n",
    "Import the Fruit csv as \"fruit\" in the cell below."
   ]
  },
  {
   "cell_type": "code",
   "execution_count": 182,
   "metadata": {},
   "outputs": [],
   "source": [
    "\n",
    "_ = ok.grade('q01')"
   ]
  },
  {
   "cell_type": "markdown",
   "metadata": {},
   "source": [
    "**Q02**\n",
    "Randomize, normalize the data, and take only the columns we need.\n",
    "\n",
    "Name the randomized data \"fruit_data_rand\" and the finalized data \"fruit_data\""
   ]
  },
  {
   "cell_type": "code",
   "execution_count": 134,
   "metadata": {},
   "outputs": [
    {
     "data": {
      "text/plain": [
       "Splatter    0.000246\n",
       "Speed       0.000117\n",
       "Damage      0.000012\n",
       "dtype: float64"
      ]
     },
     "execution_count": 134,
     "metadata": {},
     "output_type": "execute_result"
    }
   ],
   "source": [
    "\n",
    "_ = ok.grade('q02')"
   ]
  },
  {
   "cell_type": "markdown",
   "metadata": {},
   "source": [
    "**q03** Initialize a SOM named \"fruit_som\" and then train it."
   ]
  },
  {
   "cell_type": "code",
   "execution_count": 135,
   "metadata": {},
   "outputs": [
    {
     "name": "stdout",
     "output_type": "stream",
     "text": [
      "SOM training epoches 20\n",
      "neighborhood radius  2.6878753795222865\n",
      "learning rate  0.009048374180359595\n",
      "-------------------------------------\n",
      "SOM training epoches 40\n",
      "neighborhood radius  2.4082246852806923\n",
      "learning rate  0.008187307530779819\n",
      "-------------------------------------\n",
      "SOM training epoches 60\n",
      "neighborhood radius  2.157669279974593\n",
      "learning rate  0.007408182206817179\n",
      "-------------------------------------\n",
      "SOM training epoches 80\n",
      "neighborhood radius  1.9331820449317627\n",
      "learning rate  0.006703200460356393\n",
      "-------------------------------------\n",
      "SOM training epoches 100\n",
      "neighborhood radius  1.7320508075688772\n",
      "learning rate  0.006065306597126334\n",
      "-------------------------------------\n",
      "SOM training epoches 120\n",
      "neighborhood radius  1.5518455739153598\n",
      "learning rate  0.005488116360940265\n",
      "-------------------------------------\n",
      "SOM training epoches 140\n",
      "neighborhood radius  1.3903891703159093\n",
      "learning rate  0.004965853037914096\n",
      "-------------------------------------\n",
      "SOM training epoches 160\n",
      "neighborhood radius  1.2457309396155174\n",
      "learning rate  0.004493289641172216\n",
      "-------------------------------------\n",
      "SOM training epoches 180\n",
      "neighborhood radius  1.1161231740339044\n",
      "learning rate  0.004065696597405992\n",
      "-------------------------------------\n",
      "SOM training epoches 200\n",
      "neighborhood radius  1.0\n",
      "learning rate  0.0036787944117144234\n",
      "-------------------------------------\n"
     ]
    },
    {
     "data": {
      "image/png": "[encoded data removed]",
      "text/plain": [
       "<Figure size 432x288 with 10 Axes>"
      ]
     },
     "metadata": {
      "needs_background": "light"
     },
     "output_type": "display_data"
    }
   ],
   "source": [
    "\n",
    "_=ok.grade('q03')"
   ]
  },
  {
   "cell_type": "markdown",
   "metadata": {},
   "source": [
    "Create the new predict_fruit function:"
   ]
  },
  {
   "cell_type": "code",
   "execution_count": 136,
   "metadata": {},
   "outputs": [],
   "source": [
    "def predict_fruit(df):\n",
    "    bmu, bmu_idx = fruit_som.find_bmu(df.values)\n",
    "    df['bmu'] = bmu\n",
    "    df['bmu_idx'] = bmu_idx\n",
    "    return df"
   ]
  },
  {
   "cell_type": "markdown",
   "metadata": {},
   "source": [
    "**Q04**Use the SOM to predict the data points, then join this prediction with the original data set. Name the joined dataframe \"joined_fruit\""
   ]
  },
  {
   "cell_type": "code",
   "execution_count": 137,
   "metadata": {},
   "outputs": [
    {
     "data": {
      "text/html": [
       "<div>\n",
       "<style scoped>\n",
       "    .dataframe tbody tr th:only-of-type {\n",
       "        vertical-align: middle;\n",
       "    }\n",
       "\n",
       "    .dataframe tbody tr th {\n",
       "        vertical-align: top;\n",
       "    }\n",
       "\n",
       "    .dataframe thead th {\n",
       "        text-align: right;\n",
       "    }\n",
       "</style>\n",
       "<table border=\"1\" class=\"dataframe\">\n",
       "  <thead>\n",
       "    <tr style=\"text-align: right;\">\n",
       "      <th></th>\n",
       "      <th>Date</th>\n",
       "      <th>Fruit</th>\n",
       "      <th>Splatter</th>\n",
       "      <th>Speed</th>\n",
       "      <th>Damage</th>\n",
       "      <th>Splatter_norm</th>\n",
       "      <th>Speed_norm</th>\n",
       "      <th>Damage_norm</th>\n",
       "      <th>bmu</th>\n",
       "      <th>bmu_idx</th>\n",
       "    </tr>\n",
       "  </thead>\n",
       "  <tbody>\n",
       "    <tr>\n",
       "      <th>11</th>\n",
       "      <td>Tuesday</td>\n",
       "      <td>Pumpkin</td>\n",
       "      <td>21.810425</td>\n",
       "      <td>3.468898</td>\n",
       "      <td>106.107625</td>\n",
       "      <td>0.699833</td>\n",
       "      <td>0.648582</td>\n",
       "      <td>0.981638</td>\n",
       "      <td>[[0.8180578589789991, 0.805411745539204, 0.626...</td>\n",
       "      <td>[0, 0]</td>\n",
       "    </tr>\n",
       "    <tr>\n",
       "      <th>14</th>\n",
       "      <td>Friday</td>\n",
       "      <td>Pumpkin</td>\n",
       "      <td>20.564656</td>\n",
       "      <td>3.653836</td>\n",
       "      <td>108.092451</td>\n",
       "      <td>0.659860</td>\n",
       "      <td>0.683160</td>\n",
       "      <td>1.000000</td>\n",
       "      <td>[[0.8180578589789991, 0.805411745539204, 0.626...</td>\n",
       "      <td>[0, 0]</td>\n",
       "    </tr>\n",
       "    <tr>\n",
       "      <th>2</th>\n",
       "      <td>Wednesday</td>\n",
       "      <td>Apple</td>\n",
       "      <td>2.133948</td>\n",
       "      <td>0.305531</td>\n",
       "      <td>0.050672</td>\n",
       "      <td>0.068472</td>\n",
       "      <td>0.057125</td>\n",
       "      <td>0.000469</td>\n",
       "      <td>[[0.048270077512462206, 0.046050780299677026, ...</td>\n",
       "      <td>[2, 2]</td>\n",
       "    </tr>\n",
       "    <tr>\n",
       "      <th>7</th>\n",
       "      <td>Wednesday</td>\n",
       "      <td>Banana</td>\n",
       "      <td>10.053362</td>\n",
       "      <td>1.856171</td>\n",
       "      <td>11.914195</td>\n",
       "      <td>0.322583</td>\n",
       "      <td>0.347049</td>\n",
       "      <td>0.110222</td>\n",
       "      <td>[[0.27917668089537184, 0.27977105669969743, 0....</td>\n",
       "      <td>[1, 1]</td>\n",
       "    </tr>\n",
       "    <tr>\n",
       "      <th>20</th>\n",
       "      <td>Monday</td>\n",
       "      <td>Grape</td>\n",
       "      <td>0.092053</td>\n",
       "      <td>0.011250</td>\n",
       "      <td>0.001812</td>\n",
       "      <td>0.002954</td>\n",
       "      <td>0.002103</td>\n",
       "      <td>0.000017</td>\n",
       "      <td>[[0.048270077512462206, 0.046050780299677026, ...</td>\n",
       "      <td>[2, 2]</td>\n",
       "    </tr>\n",
       "    <tr>\n",
       "      <th>21</th>\n",
       "      <td>Tuesday</td>\n",
       "      <td>Grape</td>\n",
       "      <td>0.058000</td>\n",
       "      <td>0.004586</td>\n",
       "      <td>0.001325</td>\n",
       "      <td>0.001861</td>\n",
       "      <td>0.000858</td>\n",
       "      <td>0.000012</td>\n",
       "      <td>[[0.048270077512462206, 0.046050780299677026, ...</td>\n",
       "      <td>[2, 2]</td>\n",
       "    </tr>\n",
       "    <tr>\n",
       "      <th>22</th>\n",
       "      <td>Wednesday</td>\n",
       "      <td>Grape</td>\n",
       "      <td>0.007676</td>\n",
       "      <td>0.000623</td>\n",
       "      <td>0.005952</td>\n",
       "      <td>0.000246</td>\n",
       "      <td>0.000117</td>\n",
       "      <td>0.000055</td>\n",
       "      <td>[[0.048270077512462206, 0.046050780299677026, ...</td>\n",
       "      <td>[2, 2]</td>\n",
       "    </tr>\n",
       "    <tr>\n",
       "      <th>13</th>\n",
       "      <td>Thursday</td>\n",
       "      <td>Pumpkin</td>\n",
       "      <td>20.036943</td>\n",
       "      <td>3.562257</td>\n",
       "      <td>102.893000</td>\n",
       "      <td>0.642927</td>\n",
       "      <td>0.666037</td>\n",
       "      <td>0.951898</td>\n",
       "      <td>[[0.8180578589789991, 0.805411745539204, 0.626...</td>\n",
       "      <td>[0, 0]</td>\n",
       "    </tr>\n",
       "    <tr>\n",
       "      <th>32</th>\n",
       "      <td>Wednesday</td>\n",
       "      <td>Watermelon</td>\n",
       "      <td>15.379357</td>\n",
       "      <td>2.539662</td>\n",
       "      <td>15.259097</td>\n",
       "      <td>0.493479</td>\n",
       "      <td>0.474842</td>\n",
       "      <td>0.141167</td>\n",
       "      <td>[[0.48010532269052936, 0.46832529803904727, 0....</td>\n",
       "      <td>[0, 2]</td>\n",
       "    </tr>\n",
       "    <tr>\n",
       "      <th>27</th>\n",
       "      <td>Wednesday</td>\n",
       "      <td>Orange</td>\n",
       "      <td>4.837400</td>\n",
       "      <td>0.685751</td>\n",
       "      <td>2.233768</td>\n",
       "      <td>0.155218</td>\n",
       "      <td>0.128215</td>\n",
       "      <td>0.020665</td>\n",
       "      <td>[[0.1196103046934729, 0.11792587440860239, 0.0...</td>\n",
       "      <td>[2, 1]</td>\n",
       "    </tr>\n",
       "  </tbody>\n",
       "</table>\n",
       "</div>"
      ],
      "text/plain": [
       "         Date       Fruit   Splatter     Speed      Damage  Splatter_norm  \\\n",
       "11    Tuesday     Pumpkin  21.810425  3.468898  106.107625       0.699833   \n",
       "14     Friday     Pumpkin  20.564656  3.653836  108.092451       0.659860   \n",
       "2   Wednesday       Apple   2.133948  0.305531    0.050672       0.068472   \n",
       "7   Wednesday      Banana  10.053362  1.856171   11.914195       0.322583   \n",
       "20     Monday       Grape   0.092053  0.011250    0.001812       0.002954   \n",
       "21    Tuesday       Grape   0.058000  0.004586    0.001325       0.001861   \n",
       "22  Wednesday       Grape   0.007676  0.000623    0.005952       0.000246   \n",
       "13   Thursday     Pumpkin  20.036943  3.562257  102.893000       0.642927   \n",
       "32  Wednesday  Watermelon  15.379357  2.539662   15.259097       0.493479   \n",
       "27  Wednesday      Orange   4.837400  0.685751    2.233768       0.155218   \n",
       "\n",
       "    Speed_norm  Damage_norm  \\\n",
       "11    0.648582     0.981638   \n",
       "14    0.683160     1.000000   \n",
       "2     0.057125     0.000469   \n",
       "7     0.347049     0.110222   \n",
       "20    0.002103     0.000017   \n",
       "21    0.000858     0.000012   \n",
       "22    0.000117     0.000055   \n",
       "13    0.666037     0.951898   \n",
       "32    0.474842     0.141167   \n",
       "27    0.128215     0.020665   \n",
       "\n",
       "                                                  bmu bmu_idx  \n",
       "11  [[0.8180578589789991, 0.805411745539204, 0.626...  [0, 0]  \n",
       "14  [[0.8180578589789991, 0.805411745539204, 0.626...  [0, 0]  \n",
       "2   [[0.048270077512462206, 0.046050780299677026, ...  [2, 2]  \n",
       "7   [[0.27917668089537184, 0.27977105669969743, 0....  [1, 1]  \n",
       "20  [[0.048270077512462206, 0.046050780299677026, ...  [2, 2]  \n",
       "21  [[0.048270077512462206, 0.046050780299677026, ...  [2, 2]  \n",
       "22  [[0.048270077512462206, 0.046050780299677026, ...  [2, 2]  \n",
       "13  [[0.8180578589789991, 0.805411745539204, 0.626...  [0, 0]  \n",
       "32  [[0.48010532269052936, 0.46832529803904727, 0....  [0, 2]  \n",
       "27  [[0.1196103046934729, 0.11792587440860239, 0.0...  [2, 1]  "
      ]
     },
     "execution_count": 137,
     "metadata": {},
     "output_type": "execute_result"
    }
   ],
   "source": [
    "\n",
    "_ = ok.grade('q04')"
   ]
  },
  {
   "cell_type": "markdown",
   "metadata": {},
   "source": [
    "Plot the data."
   ]
  },
  {
   "cell_type": "code",
   "execution_count": 138,
   "metadata": {},
   "outputs": [
    {
     "data": {
      "image/png": "[encoded data removed]",
      "text/plain": [
       "<Figure size 432x288 with 1 Axes>"
      ]
     },
     "metadata": {
      "needs_background": "light"
     },
     "output_type": "display_data"
    }
   ],
   "source": []
  },
  {
   "cell_type": "markdown",
   "metadata": {},
   "source": [
    "**Q05** For each question, change the respective variable to the correct answer. Make sure to think about why each one is that way.\n",
    "- Which fruit(s) were the most isolated? (All members are the only members in a box)\n",
    "- If you ran this again you would necessarily get identical results. (T/F)\n",
    "- If we had infinite training epoches, all the clusters would be separated. (T/F)\n",
    "- If we got rid of Grape the clusters would be more spread out. (T/F)\n"
   ]
  },
  {
   "cell_type": "code",
   "execution_count": 172,
   "metadata": {},
   "outputs": [],
   "source": [
    "isolated = [\"Fruit1\",\"Fruit2\",\"etc.\"]\n",
    "\n",
    "again = True or False\n",
    "\n",
    "epoches = True or False\n",
    "\n",
    "No_G = True or False\n",
    "\n",
    "_= ok.grade('q05')"
   ]
  },
  {
   "cell_type": "markdown",
   "metadata": {},
   "source": [
    "#### Challenge:\n",
    "In this question, I'm going to tell you I have an unknown fruit with the follow statistics:\n",
    "- Splatter = 20\n",
    "- Speed = 5\n",
    "- Damage = 32\n",
    "\n",
    "Perform the following tasks:\n",
    "- Set \"weighted\" equal to a list of the weighted values for Splatter, Speed, and Damage for this fruit.\n",
    "- Make \"extra\" a dataframe in which the first row contains these weighted values.\n",
    "- Set \"fruit_guess\" equal to the fruit that the program tells us this is.\n",
    "- Do ***you*** agree with the estimated guess? If you don't, and I told you the Splatter value could be too low, what type of fruit do you think it is? \n",
    "    - Set \"guess\" equal to if you agree or not (T/F)\n",
    "    - If you said no (F), set \"my_guess\" equal to your guess, and think about why this is not the answer the SOM gave.\n"
   ]
  },
  {
   "cell_type": "code",
   "execution_count": 181,
   "metadata": {},
   "outputs": [
    {
     "data": {
      "text/html": [
       "<div>\n",
       "<style scoped>\n",
       "    .dataframe tbody tr th:only-of-type {\n",
       "        vertical-align: middle;\n",
       "    }\n",
       "\n",
       "    .dataframe tbody tr th {\n",
       "        vertical-align: top;\n",
       "    }\n",
       "\n",
       "    .dataframe thead th {\n",
       "        text-align: right;\n",
       "    }\n",
       "</style>\n",
       "<table border=\"1\" class=\"dataframe\">\n",
       "  <thead>\n",
       "    <tr style=\"text-align: right;\">\n",
       "      <th></th>\n",
       "      <th>Damage</th>\n",
       "      <th>Speed</th>\n",
       "      <th>Splatter</th>\n",
       "      <th>bmu</th>\n",
       "      <th>bmu_idx</th>\n",
       "    </tr>\n",
       "  </thead>\n",
       "  <tbody>\n",
       "    <tr>\n",
       "      <th>0</th>\n",
       "      <td>0.296044</td>\n",
       "      <td>3.65384</td>\n",
       "      <td>0.914256</td>\n",
       "      <td>[[0.2306279672506119, 0.6474611152137217, 0.84...</td>\n",
       "      <td>[0, 2]</td>\n",
       "    </tr>\n",
       "  </tbody>\n",
       "</table>\n",
       "</div>"
      ],
      "text/plain": [
       "     Damage    Speed  Splatter  \\\n",
       "0  0.296044  3.65384  0.914256   \n",
       "\n",
       "                                                 bmu bmu_idx  \n",
       "0  [[0.2306279672506119, 0.6474611152137217, 0.84...  [0, 2]  "
      ]
     },
     "execution_count": 181,
     "metadata": {},
     "output_type": "execute_result"
    }
   ],
   "source": [
    "\n",
    "_ = ok.grade('q06')"
   ]
  }
 ],
 "metadata": {
  "kernelspec": {
   "display_name": "Python 3",
   "language": "python",
   "name": "python3"
  },
  "language_info": {
   "codemirror_mode": {
    "name": "ipython",
    "version": 3
   },
   "file_extension": ".py",
   "mimetype": "text/x-python",
   "name": "python",
   "nbconvert_exporter": "python",
   "pygments_lexer": "ipython3",
   "version": "3.7.1"
  }
 },
 "nbformat": 4,
 "nbformat_minor": 2
}
