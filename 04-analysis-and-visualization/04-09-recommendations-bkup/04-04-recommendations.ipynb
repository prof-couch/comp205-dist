{
 "cells": [
  {
   "cell_type": "markdown",
   "metadata": {},
   "source": [
    "# Recommendation systems"
   ]
  },
  {
   "cell_type": "code",
   "execution_count": 283,
   "metadata": {
    "scrolled": true
   },
   "outputs": [
    {
     "data": {
      "text/html": [
       "<div>\n",
       "<style scoped>\n",
       "    .dataframe tbody tr th:only-of-type {\n",
       "        vertical-align: middle;\n",
       "    }\n",
       "\n",
       "    .dataframe tbody tr th {\n",
       "        vertical-align: top;\n",
       "    }\n",
       "\n",
       "    .dataframe thead th {\n",
       "        text-align: right;\n",
       "    }\n",
       "</style>\n",
       "<table border=\"1\" class=\"dataframe\">\n",
       "  <thead>\n",
       "    <tr style=\"text-align: right;\">\n",
       "      <th></th>\n",
       "      <th>Movie ID:</th>\n",
       "      <th>Name:</th>\n",
       "      <th>Rating:</th>\n",
       "      <th>Genre:</th>\n",
       "      <th>Additional Genre:</th>\n",
       "      <th>Producer:</th>\n",
       "      <th>No info:</th>\n",
       "    </tr>\n",
       "  </thead>\n",
       "  <tbody>\n",
       "    <tr>\n",
       "      <th>0</th>\n",
       "      <td>1</td>\n",
       "      <td>The Prestige</td>\n",
       "      <td>PG-13</td>\n",
       "      <td>Science_Fiction</td>\n",
       "      <td>Thriller</td>\n",
       "      <td>NaN</td>\n",
       "      <td>NaN</td>\n",
       "    </tr>\n",
       "    <tr>\n",
       "      <th>1</th>\n",
       "      <td>2</td>\n",
       "      <td>Fast &amp; Furious</td>\n",
       "      <td>PG-13</td>\n",
       "      <td>Crime</td>\n",
       "      <td>Thriller</td>\n",
       "      <td>NaN</td>\n",
       "      <td>NaN</td>\n",
       "    </tr>\n",
       "    <tr>\n",
       "      <th>2</th>\n",
       "      <td>3</td>\n",
       "      <td>Infinity War</td>\n",
       "      <td>PG-13</td>\n",
       "      <td>Fantasy</td>\n",
       "      <td>Science_Fiction</td>\n",
       "      <td>NaN</td>\n",
       "      <td>NaN</td>\n",
       "    </tr>\n",
       "    <tr>\n",
       "      <th>3</th>\n",
       "      <td>4</td>\n",
       "      <td>Wedding Crashers</td>\n",
       "      <td>R</td>\n",
       "      <td>Romance</td>\n",
       "      <td>Comedy</td>\n",
       "      <td>NaN</td>\n",
       "      <td>NaN</td>\n",
       "    </tr>\n",
       "    <tr>\n",
       "      <th>4</th>\n",
       "      <td>5</td>\n",
       "      <td>Avatar</td>\n",
       "      <td>PG-13</td>\n",
       "      <td>Fantasy</td>\n",
       "      <td>Science_Fiction</td>\n",
       "      <td>NaN</td>\n",
       "      <td>NaN</td>\n",
       "    </tr>\n",
       "    <tr>\n",
       "      <th>5</th>\n",
       "      <td>6</td>\n",
       "      <td>Titanic</td>\n",
       "      <td>PG-13</td>\n",
       "      <td>Drama</td>\n",
       "      <td>Disaster_Film</td>\n",
       "      <td>NaN</td>\n",
       "      <td>NaN</td>\n",
       "    </tr>\n",
       "  </tbody>\n",
       "</table>\n",
       "</div>"
      ],
      "text/plain": [
       "   Movie ID:             Name: Rating:           Genre: Additional Genre:  \\\n",
       "0          1      The Prestige   PG-13  Science_Fiction          Thriller   \n",
       "1          2    Fast & Furious   PG-13            Crime          Thriller   \n",
       "2          3      Infinity War   PG-13          Fantasy   Science_Fiction   \n",
       "3          4  Wedding Crashers       R          Romance            Comedy   \n",
       "4          5            Avatar   PG-13          Fantasy   Science_Fiction   \n",
       "5          6           Titanic   PG-13            Drama     Disaster_Film   \n",
       "\n",
       "  Producer:  No info:  \n",
       "0       NaN       NaN  \n",
       "1       NaN       NaN  \n",
       "2       NaN       NaN  \n",
       "3       NaN       NaN  \n",
       "4       NaN       NaN  \n",
       "5       NaN       NaN  "
      ]
     },
     "execution_count": 283,
     "metadata": {},
     "output_type": "execute_result"
    }
   ],
   "source": [
    "import pandas as pd\n",
    "movies = pd.read_csv('MoviesList.csv',header = 0) \n",
    "movies.head(6)\n"
   ]
  },
  {
   "cell_type": "code",
   "execution_count": 284,
   "metadata": {},
   "outputs": [
    {
     "data": {
      "text/plain": [
       "Index(['Movie ID:', 'Name:', 'Rating:', 'Genre:', 'Additional Genre:',\n",
       "       'Producer:', 'No info:'],\n",
       "      dtype='object')"
      ]
     },
     "execution_count": 284,
     "metadata": {},
     "output_type": "execute_result"
    }
   ],
   "source": [
    "movies.columns"
   ]
  },
  {
   "cell_type": "code",
   "execution_count": 296,
   "metadata": {},
   "outputs": [
    {
     "name": "stdout",
     "output_type": "stream",
     "text": [
      "If you liked: Black Panther\n",
      "\n",
      "Similar movies that you would like are:\n",
      "\n",
      "Infinity War\n",
      "Avatar\n",
      "Frozen\n",
      "The Lego Movie\n",
      "The Matrix\n",
      "Coco\n",
      "Frankenweenie\n"
     ]
    }
   ],
   "source": [
    "#For this project we do not need the rating or producer, so we can make a new dataframe without them\n",
    "movies_genres = pd.DataFrame(movies, columns = ['Name:','Genre:','Rating:','Additional Genre:'])\n",
    "\n",
    "def jaccard_similarity(list1, list2):\n",
    "    intersection = len(list(set(list1).intersection(list2)))\n",
    "    #print(list(set(list1).intersection(list2)))\n",
    "    union = (len(list1) + len(list2)) - intersection\n",
    "    return float(intersection / union)\n",
    "\n",
    "#This will be useful later, for simplicity\n",
    "num_movies = len(movies)\n",
    "\n",
    "\n",
    "#Finally we make the function that will suggest movies\n",
    "def movie_suggestion(movie_id):\n",
    "    print('If you liked: ' + movies_genres.iloc[movie_id-1]['Name:'] + '\\n')\n",
    "    print('Similar movies that you would like are:\\n')\n",
    "    l1 = [movies_genres.iloc[movie_id-1]['Genre:'],movies_genres.iloc[movie_id - 1]['Additional Genre:'],movies_genres.iloc[movie_id - 1]['Rating:']] #Info for liked movie\n",
    "    for counter in range(0,num_movies-1): #Loops through rows\n",
    "        l2 = [movies_genres.iloc[counter]['Genre:'],movies_genres.iloc[counter]['Additional Genre:'],movies_genres.iloc[counter]['Rating:']] #This changes\n",
    "        x = jaccard_similarity(l1,l2) #Takes the data from each line\n",
    "        if (x > .4): #Prints out only the movies with the same genres (i.e. more than 1 of the genres matches)\n",
    "            if (counter != movie_id - 1): #Prevents suggesting the movie itself\n",
    "                print(movies_genres.iloc[counter]['Name:']) #This prints out the name of the movie you may like\n",
    "            \n",
    "            \n",
    "            \n",
    "movie_suggestion(31)\n"
   ]
  },
  {
   "cell_type": "code",
   "execution_count": null,
   "metadata": {},
   "outputs": [],
   "source": []
  }
 ],
 "metadata": {
  "kernelspec": {
   "display_name": "Python 3",
   "language": "python",
   "name": "python3"
  },
  "language_info": {
   "codemirror_mode": {
    "name": "ipython",
    "version": 3
   },
   "file_extension": ".py",
   "mimetype": "text/x-python",
   "name": "python",
   "nbconvert_exporter": "python",
   "pygments_lexer": "ipython3",
   "version": "3.7.4"
  }
 },
 "nbformat": 4,
 "nbformat_minor": 2
}
