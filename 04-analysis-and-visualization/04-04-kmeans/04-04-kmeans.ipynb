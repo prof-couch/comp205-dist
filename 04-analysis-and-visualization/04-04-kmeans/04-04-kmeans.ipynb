{
 "cells": [
  {
   "cell_type": "markdown",
   "metadata": {},
   "source": [
    "# KMeans Clustering:\n",
    "\n",
    "Kmeans is the name for clustering data points into groups, known as \"k centroids.\" A common example of this is the infamous iris data set. In this specific case, looking at sepal length, sepal width, petal length, and petal width for iris flowers can graph to determine which classification iris flowers belong iris.\n",
    "\n",
    "Acknowledgment: The first half of this exercise was based on [this Kaggle page](https://www.kaggle.com/tonzowonzo/simple-k-means-clustering-on-the-iris-dataset).\n",
    "\n",
    "Begin with a review of the [documentation](https://scikit-learn.org/stable/modules/generated/sklearn.cluster.KMeans.html)."
   ]
  },
  {
   "cell_type": "markdown",
   "metadata": {},
   "source": [
    "This first exercise is based on the Iris dataset, though, in this case, the data is not provided to you. You need to bring it yourself. Consult the [previous exercise](../04-03-clustering/04-03-clustering.ipynb) if necessary, load the data into a dataframe and display it.\n",
    "\n",
    "Hint: Use `dir()` to probe into the data."
   ]
  },
  {
   "cell_type": "code",
   "execution_count": 1,
   "metadata": {},
   "outputs": [],
   "source": [
    "import numpy as np\n",
    "import matplotlib.pyplot as plt\n",
    "import pandas as pd"
   ]
  },
  {
   "cell_type": "code",
   "execution_count": null,
   "metadata": {},
   "outputs": [],
   "source": [
    "from sklearn import datasets\n",
    "..."
   ]
  },
  {
   "cell_type": "markdown",
   "metadata": {},
   "source": [
    "In this case, we do know there are 3 classes but what if we didn't? What _k_ should we pick?\n",
    "\n",
    "'The elbow method' is often used to pick _k_."
   ]
  },
  {
   "cell_type": "code",
   "execution_count": 11,
   "metadata": {},
   "outputs": [
    {
     "data": {
      "image/png": "[encoded data removed]",
      "text/plain": [
       "<Figure size 432x288 with 1 Axes>"
      ]
     },
     "metadata": {
      "needs_background": "light"
     },
     "output_type": "display_data"
    }
   ],
   "source": [
    "from sklearn.cluster import KMeans\n",
    "\n",
    "wcss = []\n",
    "\n",
    "for i in range(1, 11):\n",
    "    kmeans = KMeans(n_clusters = i)\n",
    "    kmeans.fit(iris.data)\n",
    "    wcss.append(kmeans.inertia_)\n",
    "    \n",
    "#Plotting the results onto a line graph, allowing us to observe 'The elbow'\n",
    "plt.plot(range(1, 11), wcss)\n",
    "plt.title('The elbow method')\n",
    "plt.xlabel('Number of clusters')\n",
    "plt.ylabel('WCSS') #within cluster sum of squares\n",
    "plt.show()"
   ]
  },
  {
   "cell_type": "code",
   "execution_count": null,
   "metadata": {},
   "outputs": [],
   "source": [
    "#Applying kmeans to the dataset / Creating the kmeans classifier\n",
    "kmeans = KMeans(n_clusters = 3)\n",
    "y_kmeans = kmeans.fit_predict(iris.data)"
   ]
  },
  {
   "cell_type": "code",
   "execution_count": 19,
   "metadata": {},
   "outputs": [
    {
     "data": {
      "text/plain": [
       "<matplotlib.legend.Legend at 0x7f9f7a9a0e10>"
      ]
     },
     "execution_count": 19,
     "metadata": {},
     "output_type": "execute_result"
    },
    {
     "data": {
      "image/png": "[encoded data removed]",
      "text/plain": [
       "<Figure size 432x288 with 1 Axes>"
      ]
     },
     "metadata": {
      "needs_background": "light"
     },
     "output_type": "display_data"
    }
   ],
   "source": [
    "#Visualising the clusters\n",
    "plt.scatter(iris.data[y_kmeans == 0, 0], iris.data[y_kmeans == 0, 1], c = 'red', label = 'Iris-setosa')\n",
    "plt.scatter(iris.data[y_kmeans == 1, 0], iris.data[y_kmeans == 1, 1], c = 'blue', label = 'Iris-versicolour')\n",
    "plt.scatter(iris.data[y_kmeans == 2, 0], iris.data[y_kmeans == 2, 1], c = 'green', label = 'Iris-virginica')\n",
    "\n",
    "#Plotting the centroids of the clusters\n",
    "plt.scatter(kmeans.cluster_centers_[:, 0], kmeans.cluster_centers_[:,1], c = 'black', marker = '*', s = 60, label = 'Centroids')\n",
    "\n",
    "plt.legend()"
   ]
  },
  {
   "cell_type": "markdown",
   "metadata": {},
   "source": [
    "Pretty scatter plot but what are the x and y axes? **Your answer:** ______\n",
    "<hr style=\"border-top: 1px dotted #ddd\" />\n",
    "<hr style=\"border-top: 1px dotted #ddd\" />\n",
    "<hr style=\"border-top: 1px dotted #ddd\" />\n",
    "<hr style=\"border-top: 1px dotted #ddd\" />\n"
   ]
  },
  {
   "cell_type": "markdown",
   "metadata": {},
   "source": [
    "Since we are limited to two-dimensional plots, how many different plots could we have drawn? (Switching x- and y-axes should not be considered a new plot). **Your answer:** ______\n",
    "<hr style=\"border-top: 1px dotted #ddd\" />\n",
    "<hr style=\"border-top: 1px dotted #ddd\" />\n",
    "<hr style=\"border-top: 1px dotted #ddd\" />\n",
    "<hr style=\"border-top: 1px dotted #ddd\" />"
   ]
  },
  {
   "cell_type": "markdown",
   "metadata": {},
   "source": [
    "Since we are limited to two-dimensional plots, which _one_ plot should we use to show off our clustering? We want to use the plot that shows the best discrimination, in other words, the clusters should appear as _far apart_ as possible while appearing as _cohesive_ as possible. \n",
    "\n",
    "One way to answer this question is to draw each plot and make a visual judgment. \n",
    "\n",
    "The other is to write code that maximizes the distance between the centroids while minimizing the WCSS (within cluster sum of squares). Hint: Invent a metric, say total inter-centroid-distance divided by total WCSS and write code to discover the axes combination that maximizes this metric.\n",
    "\n",
    "_Either approach is acceptable._ \n",
    "\n",
    "**Your answer below**."
   ]
  },
  {
   "cell_type": "code",
   "execution_count": null,
   "metadata": {},
   "outputs": [],
   "source": []
  },
  {
   "cell_type": "markdown",
   "metadata": {},
   "source": [
    "**Bonus Question** (worth 5 extra points): Overlay the \"best plot\" created above with red asterisks to indicate points where the actual classification was 'Iris-setosa' but the algorithm yielded a different answer. Similarly, blue for 'Iris-versicolour' and green for 'Iris-virginica'.\n",
    "\n",
    "Note, the code above assumes that `iris.data[y_kmeans == 0...]` implies 'Iris-setosa' but that isn't necessarily so! `iris.target` gave us the actual classifications but we had never used them until now!"
   ]
  },
  {
   "cell_type": "code",
   "execution_count": null,
   "metadata": {},
   "outputs": [],
   "source": []
  }
 ],
 "metadata": {
  "kernelspec": {
   "display_name": "Python 3",
   "language": "python",
   "name": "python3"
  },
  "language_info": {
   "codemirror_mode": {
    "name": "ipython",
    "version": 3
   },
   "file_extension": ".py",
   "mimetype": "text/x-python",
   "name": "python",
   "nbconvert_exporter": "python",
   "pygments_lexer": "ipython3",
   "version": "3.7.4"
  }
 },
 "nbformat": 4,
 "nbformat_minor": 2
}
